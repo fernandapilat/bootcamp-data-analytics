{
  "nbformat": 4,
  "nbformat_minor": 0,
  "metadata": {
    "colab": {
      "provenance": []
    },
    "kernelspec": {
      "name": "python3",
      "display_name": "Python 3"
    },
    "language_info": {
      "name": "python"
    }
  },
  "cells": [
    {
      "cell_type": "markdown",
      "source": [
        "# **<font color=#FF3399> Gabarito Challenge Teste de Hipóteses </font>**\n",
        "\n",
        "Bootcamp Data Analytics & Tech Minas 2023 \n",
        "\n",
        "WoMakersCode\n"
      ],
      "metadata": {
        "id": "L56mtA5fXhR_"
      }
    },
    {
      "cell_type": "markdown",
      "source": [
        "\n",
        "## **<font color=#FF3399> Desafio 1 : Cosméticos </font>**\n",
        "\n",
        "**Contexto:**\n",
        "\n",
        "Suponha que você trabalha em uma empresa do ramo de cosméticos ou beleza. O Time de produtos dessa empresa está interessado criar novos batons com maior durabilidade. Para isso estão testando 3 diferentes fórmulas para irem a mercado. \n",
        "\n",
        "Com isso, a empresa fez uma pesquisa com varias voluntárias e populou a base de dados (desafio_01_cosmeticos.csv)  contendo as seguintes informações:\n",
        "\n",
        "- id_produto: código identificador do produto, com a fórmula utilizada. Para diferenciarmos se se trata do batom com a fórmula 1, 2 ou 3\n",
        "- id_voluntária: código identificador da voluntária que utilizou o produto.\n",
        "- durabilidade: quanto tempo o produto durou em horas.\n",
        "- idade: idade da voluntária\n",
        "- exposicao_sol: variável que indica 1 se a voluntária se expos ao sol 0 caso contrário.\n",
        "\n",
        "De posse dessas informações, o time de produtos solicitou aos analistas de dados da empresa as seguintes perguntas a serem respondidas:\n"
      ],
      "metadata": {
        "id": "1I3BFUVpXwH8"
      }
    },
    {
      "cell_type": "code",
      "execution_count": 2,
      "metadata": {
        "id": "dZOPIOGKWhvi"
      },
      "outputs": [],
      "source": [
        "#### Importando os pacotes que serao utilizados nos desafios\n",
        "import pandas as pd\n",
        "import numpy as np\n",
        "import matplotlib.pyplot as plt ## graficos\n",
        "import seaborn as sns ## graficos\n",
        "from google.colab import drive ## conectar com o google drive para ler seus arquivos\n",
        "pd.set_option('display.float_format', lambda x: '%.5f' % x)"
      ]
    },
    {
      "cell_type": "markdown",
      "source": [
        "Antes de focarmos na primeira pergunta do desafio, vamos ler a base e entender as suas principais características"
      ],
      "metadata": {
        "id": "NYreThhgb6T1"
      }
    },
    {
      "cell_type": "code",
      "source": [
        "drive.mount('/content/drive') ### conectando com o google drive para ler os arquivos da núvem"
      ],
      "metadata": {
        "colab": {
          "base_uri": "https://localhost:8080/"
        },
        "id": "hplyotqga2aZ",
        "outputId": "2425aa82-8fac-428f-d9c8-c92082f1cb67"
      },
      "execution_count": 3,
      "outputs": [
        {
          "output_type": "stream",
          "name": "stdout",
          "text": [
            "Mounted at /content/drive\n"
          ]
        }
      ]
    },
    {
      "cell_type": "code",
      "source": [
        "df = pd.read_csv(\"/content/drive/MyDrive/WoMakers/BOOTCAMP/2023/Desafios/Files/desafio_01_cosmeticos_challenge_testehipoteses.csv\") ### leitura da base"
      ],
      "metadata": {
        "id": "h9nZ5cINbB4H"
      },
      "execution_count": 4,
      "outputs": []
    },
    {
      "cell_type": "code",
      "source": [
        "df.info() "
      ],
      "metadata": {
        "colab": {
          "base_uri": "https://localhost:8080/"
        },
        "id": "ivKVybQjbPw6",
        "outputId": "7eb9a8a2-4503-42a6-deab-b45972b2c93e"
      },
      "execution_count": 5,
      "outputs": [
        {
          "output_type": "stream",
          "name": "stdout",
          "text": [
            "<class 'pandas.core.frame.DataFrame'>\n",
            "RangeIndex: 300 entries, 0 to 299\n",
            "Data columns (total 5 columns):\n",
            " #   Column         Non-Null Count  Dtype\n",
            "---  ------         --------------  -----\n",
            " 0   id_produto     300 non-null    int64\n",
            " 1   id_voluntária  300 non-null    int64\n",
            " 2   durabilidade   300 non-null    int64\n",
            " 3   idade          300 non-null    int64\n",
            " 4   exposicao_sol  300 non-null    int64\n",
            "dtypes: int64(5)\n",
            "memory usage: 11.8 KB\n"
          ]
        }
      ]
    },
    {
      "cell_type": "code",
      "source": [
        "df.describe()"
      ],
      "metadata": {
        "colab": {
          "base_uri": "https://localhost:8080/",
          "height": 300
        },
        "id": "FsCw-YGPbPpH",
        "outputId": "a98e3eff-f967-4d55-bbe2-8d2a33ef0c4c"
      },
      "execution_count": 6,
      "outputs": [
        {
          "output_type": "execute_result",
          "data": {
            "text/plain": [
              "       id_produto  id_voluntária  durabilidade     idade  exposicao_sol\n",
              "count   300.00000      300.00000     300.00000 300.00000      300.00000\n",
              "mean      2.00000      150.50000      17.13333  36.88667        0.44000\n",
              "std       0.81786       86.74676      10.94295  12.62584        0.49722\n",
              "min       1.00000        1.00000       5.00000  18.00000        0.00000\n",
              "25%       1.00000       75.75000       9.00000  26.00000        0.00000\n",
              "50%       2.00000      150.50000      14.00000  36.00000        0.00000\n",
              "75%       3.00000      225.25000      20.00000  48.00000        1.00000\n",
              "max       3.00000      300.00000      48.00000  60.00000        1.00000"
            ],
            "text/html": [
              "\n",
              "  <div id=\"df-2709f11c-9cc4-4d57-8b46-f0f4619dc799\">\n",
              "    <div class=\"colab-df-container\">\n",
              "      <div>\n",
              "<style scoped>\n",
              "    .dataframe tbody tr th:only-of-type {\n",
              "        vertical-align: middle;\n",
              "    }\n",
              "\n",
              "    .dataframe tbody tr th {\n",
              "        vertical-align: top;\n",
              "    }\n",
              "\n",
              "    .dataframe thead th {\n",
              "        text-align: right;\n",
              "    }\n",
              "</style>\n",
              "<table border=\"1\" class=\"dataframe\">\n",
              "  <thead>\n",
              "    <tr style=\"text-align: right;\">\n",
              "      <th></th>\n",
              "      <th>id_produto</th>\n",
              "      <th>id_voluntária</th>\n",
              "      <th>durabilidade</th>\n",
              "      <th>idade</th>\n",
              "      <th>exposicao_sol</th>\n",
              "    </tr>\n",
              "  </thead>\n",
              "  <tbody>\n",
              "    <tr>\n",
              "      <th>count</th>\n",
              "      <td>300.00000</td>\n",
              "      <td>300.00000</td>\n",
              "      <td>300.00000</td>\n",
              "      <td>300.00000</td>\n",
              "      <td>300.00000</td>\n",
              "    </tr>\n",
              "    <tr>\n",
              "      <th>mean</th>\n",
              "      <td>2.00000</td>\n",
              "      <td>150.50000</td>\n",
              "      <td>17.13333</td>\n",
              "      <td>36.88667</td>\n",
              "      <td>0.44000</td>\n",
              "    </tr>\n",
              "    <tr>\n",
              "      <th>std</th>\n",
              "      <td>0.81786</td>\n",
              "      <td>86.74676</td>\n",
              "      <td>10.94295</td>\n",
              "      <td>12.62584</td>\n",
              "      <td>0.49722</td>\n",
              "    </tr>\n",
              "    <tr>\n",
              "      <th>min</th>\n",
              "      <td>1.00000</td>\n",
              "      <td>1.00000</td>\n",
              "      <td>5.00000</td>\n",
              "      <td>18.00000</td>\n",
              "      <td>0.00000</td>\n",
              "    </tr>\n",
              "    <tr>\n",
              "      <th>25%</th>\n",
              "      <td>1.00000</td>\n",
              "      <td>75.75000</td>\n",
              "      <td>9.00000</td>\n",
              "      <td>26.00000</td>\n",
              "      <td>0.00000</td>\n",
              "    </tr>\n",
              "    <tr>\n",
              "      <th>50%</th>\n",
              "      <td>2.00000</td>\n",
              "      <td>150.50000</td>\n",
              "      <td>14.00000</td>\n",
              "      <td>36.00000</td>\n",
              "      <td>0.00000</td>\n",
              "    </tr>\n",
              "    <tr>\n",
              "      <th>75%</th>\n",
              "      <td>3.00000</td>\n",
              "      <td>225.25000</td>\n",
              "      <td>20.00000</td>\n",
              "      <td>48.00000</td>\n",
              "      <td>1.00000</td>\n",
              "    </tr>\n",
              "    <tr>\n",
              "      <th>max</th>\n",
              "      <td>3.00000</td>\n",
              "      <td>300.00000</td>\n",
              "      <td>48.00000</td>\n",
              "      <td>60.00000</td>\n",
              "      <td>1.00000</td>\n",
              "    </tr>\n",
              "  </tbody>\n",
              "</table>\n",
              "</div>\n",
              "      <button class=\"colab-df-convert\" onclick=\"convertToInteractive('df-2709f11c-9cc4-4d57-8b46-f0f4619dc799')\"\n",
              "              title=\"Convert this dataframe to an interactive table.\"\n",
              "              style=\"display:none;\">\n",
              "        \n",
              "  <svg xmlns=\"http://www.w3.org/2000/svg\" height=\"24px\"viewBox=\"0 0 24 24\"\n",
              "       width=\"24px\">\n",
              "    <path d=\"M0 0h24v24H0V0z\" fill=\"none\"/>\n",
              "    <path d=\"M18.56 5.44l.94 2.06.94-2.06 2.06-.94-2.06-.94-.94-2.06-.94 2.06-2.06.94zm-11 1L8.5 8.5l.94-2.06 2.06-.94-2.06-.94L8.5 2.5l-.94 2.06-2.06.94zm10 10l.94 2.06.94-2.06 2.06-.94-2.06-.94-.94-2.06-.94 2.06-2.06.94z\"/><path d=\"M17.41 7.96l-1.37-1.37c-.4-.4-.92-.59-1.43-.59-.52 0-1.04.2-1.43.59L10.3 9.45l-7.72 7.72c-.78.78-.78 2.05 0 2.83L4 21.41c.39.39.9.59 1.41.59.51 0 1.02-.2 1.41-.59l7.78-7.78 2.81-2.81c.8-.78.8-2.07 0-2.86zM5.41 20L4 18.59l7.72-7.72 1.47 1.35L5.41 20z\"/>\n",
              "  </svg>\n",
              "      </button>\n",
              "      \n",
              "  <style>\n",
              "    .colab-df-container {\n",
              "      display:flex;\n",
              "      flex-wrap:wrap;\n",
              "      gap: 12px;\n",
              "    }\n",
              "\n",
              "    .colab-df-convert {\n",
              "      background-color: #E8F0FE;\n",
              "      border: none;\n",
              "      border-radius: 50%;\n",
              "      cursor: pointer;\n",
              "      display: none;\n",
              "      fill: #1967D2;\n",
              "      height: 32px;\n",
              "      padding: 0 0 0 0;\n",
              "      width: 32px;\n",
              "    }\n",
              "\n",
              "    .colab-df-convert:hover {\n",
              "      background-color: #E2EBFA;\n",
              "      box-shadow: 0px 1px 2px rgba(60, 64, 67, 0.3), 0px 1px 3px 1px rgba(60, 64, 67, 0.15);\n",
              "      fill: #174EA6;\n",
              "    }\n",
              "\n",
              "    [theme=dark] .colab-df-convert {\n",
              "      background-color: #3B4455;\n",
              "      fill: #D2E3FC;\n",
              "    }\n",
              "\n",
              "    [theme=dark] .colab-df-convert:hover {\n",
              "      background-color: #434B5C;\n",
              "      box-shadow: 0px 1px 3px 1px rgba(0, 0, 0, 0.15);\n",
              "      filter: drop-shadow(0px 1px 2px rgba(0, 0, 0, 0.3));\n",
              "      fill: #FFFFFF;\n",
              "    }\n",
              "  </style>\n",
              "\n",
              "      <script>\n",
              "        const buttonEl =\n",
              "          document.querySelector('#df-2709f11c-9cc4-4d57-8b46-f0f4619dc799 button.colab-df-convert');\n",
              "        buttonEl.style.display =\n",
              "          google.colab.kernel.accessAllowed ? 'block' : 'none';\n",
              "\n",
              "        async function convertToInteractive(key) {\n",
              "          const element = document.querySelector('#df-2709f11c-9cc4-4d57-8b46-f0f4619dc799');\n",
              "          const dataTable =\n",
              "            await google.colab.kernel.invokeFunction('convertToInteractive',\n",
              "                                                     [key], {});\n",
              "          if (!dataTable) return;\n",
              "\n",
              "          const docLinkHtml = 'Like what you see? Visit the ' +\n",
              "            '<a target=\"_blank\" href=https://colab.research.google.com/notebooks/data_table.ipynb>data table notebook</a>'\n",
              "            + ' to learn more about interactive tables.';\n",
              "          element.innerHTML = '';\n",
              "          dataTable['output_type'] = 'display_data';\n",
              "          await google.colab.output.renderOutput(dataTable, element);\n",
              "          const docLink = document.createElement('div');\n",
              "          docLink.innerHTML = docLinkHtml;\n",
              "          element.appendChild(docLink);\n",
              "        }\n",
              "      </script>\n",
              "    </div>\n",
              "  </div>\n",
              "  "
            ]
          },
          "metadata": {},
          "execution_count": 6
        }
      ]
    },
    {
      "cell_type": "markdown",
      "source": [
        "Ao rodar as funções info e describe percebemos que:\n",
        "1. Todas as variáveis da base disponibilizada são numéricas. \n",
        "2. Temos um dataset dom 300 observações (de 300 voluntárias)\n",
        "3. A idade média do estudo é de 36 anos, minima 18 anos e máxima 60 anos\n",
        "4. Aproximadamente 50% da base teve exposição ao sol\n",
        "5. A média de durabilidade é de 17.13 horas\n"
      ],
      "metadata": {
        "id": "AXU8ZN6LcfmB"
      }
    },
    {
      "cell_type": "markdown",
      "source": [
        "## **Pergunta 1**: Existe diferença estatisticamente significativa na durabilidade dos batons com formulas diferentes? \n",
        "\n",
        "\n",
        "---\n",
        " Para responder essa pergunta primeiramente vamos plotar a durabilidade por tipo de batom para uma análise visual e depois iremos realizar um teste de hipóteses\n"
      ],
      "metadata": {
        "id": "8WFN_XqBaqxu"
      }
    },
    {
      "cell_type": "markdown",
      "source": [
        "**1.1 Análise Visual**: \n",
        "\n",
        "\n",
        "---"
      ],
      "metadata": {
        "id": "iikaMJy0d3G5"
      }
    },
    {
      "cell_type": "code",
      "source": [
        "sns.set(rc={'figure.figsize':(11.7,8.27)})\n",
        "ax = sns.boxplot(x=\"id_produto\", y=\"durabilidade\", data=df, palette = \"colorblind\").set_title(\"Boxplot comparativo da durabilidade em horas por tipo de produto\")"
      ],
      "metadata": {
        "colab": {
          "base_uri": "https://localhost:8080/",
          "height": 533
        },
        "id": "_CITUH_HXgrb",
        "outputId": "8f45b17e-da76-4aa1-dc93-88de09d1f905"
      },
      "execution_count": 7,
      "outputs": [
        {
          "output_type": "display_data",
          "data": {
            "text/plain": [
              "<Figure size 842.4x595.44 with 1 Axes>"
            ],
            "image/png": "[encoded data removed]"
          },
          "metadata": {}
        }
      ]
    },
    {
      "cell_type": "code",
      "source": [
        "sns.histplot(data=df, x=\"durabilidade\", hue=\"id_produto\",  element=\"step\", palette = \"colorblind\").set_title(\"Histograma comparativo da durabilidade em horas por tipo de produto\")"
      ],
      "metadata": {
        "colab": {
          "base_uri": "https://localhost:8080/",
          "height": 551
        },
        "id": "MLSQ5XRfeVm7",
        "outputId": "7f9f7724-9e58-4586-ac1e-1f09297cad54"
      },
      "execution_count": 8,
      "outputs": [
        {
          "output_type": "execute_result",
          "data": {
            "text/plain": [
              "Text(0.5, 1.0, 'Histograma comparativo da durabilidade em horas por tipo de produto')"
            ]
          },
          "metadata": {},
          "execution_count": 8
        },
        {
          "output_type": "display_data",
          "data": {
            "text/plain": [
              "<Figure size 842.4x595.44 with 1 Axes>"
            ],
            "image/png": "[encoded data removed]"
          },
          "metadata": {}
        }
      ]
    },
    {
      "cell_type": "markdown",
      "source": [
        "Através dos gráficos acima, podemos ver que:\n",
        "-  A durabilidade do produto 3 parece ser mais inconstante do que a dos outros produtos, apresentando maiores valores mínimos e máximos. \n",
        "- Porém a mediana do produto 3 é muito mais alta do que a de seus \"concorrentes\". Dessa forma, temos um produto que o consumidor médio ficaria mais satisfeito com a sua durabilidade, porém apresentaria uma menor consistência.\n",
        "- As distribuições dos produtos apresentam formas bem distintas. visualmente o batom com fórmula 3 apresenta uma distribuição semelhante à uniforme. As outras distribuições, com fórmula 1 e 2 não parebem bem definidas.\n",
        "- Nota-se uma assimetria forte no batom de fórmula 1\n"
      ],
      "metadata": {
        "id": "da1sx1cFffar"
      }
    },
    {
      "cell_type": "markdown",
      "source": [
        "**1.2 Teste de Hipóteses**: \n",
        "\n",
        "\n",
        "---\n",
        "O nosso objetivo é testar se a variável durabilidade é estatisticamente diferente para os tipos de fórmula mencionados.\n",
        "\n",
        "\n",
        "Pela Análise visual anterior vimos que principalmente a fórmula 3 se diferencia muito das outras.\n",
        "\n",
        "Para testar se a distribuição de durabilidade é estatisticamente diferente de acordo com cada uma das fórmulas apresentadas, podemos utilizar diferentes testes. \n",
        "Podemos utilizar testes comparativos de médias paramétricos (que verifiquem se as médias das diferentes fórmulas sao iguais) ou podemos usae testes não paramétricos, como o teste KS (Kolmogorov-Smirnov) \n",
        "\n",
        "O teste KS mede se duas distribuições sao estatisticamente diferentes umas das outras, por meio da distancia das distribuições cumulativas apresentadas. Se esses dados possuirem uma distancia grande na distribuicao cumulativa significa que vem de distribuicoes diferentes. \n",
        "\n",
        "Esse teste é MUITO utilizado para teste e monitoramento de variáveis, e para decisao de retreinar modelos de machine learning!\n",
        "\n",
        "Conforme o gráfico abaixo ele vai comparar a distribuiçao de probabilidade cumumlativa de duas amostras, ou de uma amostra e uma distribuição conhecida.\n"
      ],
      "metadata": {
        "id": "ZoSPCl4ugw_F"
      }
    },
    {
      "cell_type": "markdown",
      "source": [
        "![KS2_Example.png](data:image/png;base64,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)"
      ],
      "metadata": {
        "id": "jrYlfcGBs3pc"
      }
    },
    {
      "cell_type": "markdown",
      "source": [
        "Na prática, quanto maior a distancia entra as distribuições cumulativas, então maior a probabilidade de as distribuicoes serem diferentes. \n",
        "\n",
        "A hipótese nula do teste é : Nao há diferenca entre as duas distribuicoes.\n",
        "Entao nesse caso se o p-valor for < 0.05 as distribuicoes sao diferentes."
      ],
      "metadata": {
        "id": "dLY2QKjFtCUA"
      }
    },
    {
      "cell_type": "markdown",
      "source": [
        " Primeiro vamos armazenar a série da durabilidade de cada produto / fórmula"
      ],
      "metadata": {
        "id": "5Lc-QWrmtPpb"
      }
    },
    {
      "cell_type": "code",
      "source": [
        "from scipy.stats import ks_2samp\n",
        "## calcula a distribuicao cumulativa \n",
        "durabilidade_1 = df[df.id_produto == 1].durabilidade\n",
        "durabilidade_2 = df[df.id_produto == 2].durabilidade\n",
        "durabilidade_3 = df[df.id_produto == 3].durabilidade\n"
      ],
      "metadata": {
        "id": "BZ49jA53fY7t"
      },
      "execution_count": 11,
      "outputs": []
    },
    {
      "cell_type": "markdown",
      "source": [
        "Testando a durabilidade da fórmula 1 com a durabilidade da fórmula 2:"
      ],
      "metadata": {
        "id": "c2sE1XgRuDRz"
      }
    },
    {
      "cell_type": "code",
      "source": [
        "ks_2samp(durabilidade_1, durabilidade_2)"
      ],
      "metadata": {
        "colab": {
          "base_uri": "https://localhost:8080/"
        },
        "id": "3fUvp95ztY73",
        "outputId": "f6144373-8fe1-455c-998b-7181760f30d2"
      },
      "execution_count": 12,
      "outputs": [
        {
          "output_type": "execute_result",
          "data": {
            "text/plain": [
              "KstestResult(statistic=0.8, pvalue=3.5640292810890176e-32, statistic_location=11, statistic_sign=-1)"
            ]
          },
          "metadata": {},
          "execution_count": 12
        }
      ]
    },
    {
      "cell_type": "markdown",
      "source": [
        "Como o p-valor do teste é menor do que 0.05, podemos inferir que durabilidade da formula 1 e 2 sao estatisticamente diferentes com 95% de confiança"
      ],
      "metadata": {
        "id": "g3rdHkJLuXOi"
      }
    },
    {
      "cell_type": "code",
      "source": [
        "ks_2samp(durabilidade_2, durabilidade_3)"
      ],
      "metadata": {
        "colab": {
          "base_uri": "https://localhost:8080/"
        },
        "id": "7LAI4xuWOmDj",
        "outputId": "9b6481d5-6217-4dd3-a680-bc82cc580351"
      },
      "execution_count": 13,
      "outputs": [
        {
          "output_type": "execute_result",
          "data": {
            "text/plain": [
              "KstestResult(statistic=0.98, pvalue=4.395433779467016e-55, statistic_location=11, statistic_sign=1)"
            ]
          },
          "metadata": {},
          "execution_count": 13
        }
      ]
    },
    {
      "cell_type": "code",
      "source": [
        "ks_2samp(durabilidade_1, durabilidade_3)"
      ],
      "metadata": {
        "colab": {
          "base_uri": "https://localhost:8080/"
        },
        "id": "Yw8k78kT0P7Z",
        "outputId": "f9470b2f-4c93-4ba1-ccd1-07c167f1e6c7"
      },
      "execution_count": 14,
      "outputs": [
        {
          "output_type": "execute_result",
          "data": {
            "text/plain": [
              "KstestResult(statistic=0.7, pvalue=9.048888467758296e-24, statistic_location=20, statistic_sign=1)"
            ]
          },
          "metadata": {},
          "execution_count": 14
        }
      ]
    },
    {
      "cell_type": "markdown",
      "source": [
        "O mesmo é valido comparando formula 1 com 3 e 2 com 3. Como o p-valor do teste é menor do que 0.05, podemos inferir sao estatisticamente diferentes com 95% de confiança"
      ],
      "metadata": {
        "id": "x9LpGeisuoBf"
      }
    },
    {
      "cell_type": "markdown",
      "source": [
        "## **Pergunta 2**: Essa diferença persiste ou não quando a voluntária se expõe ao sol?  E com relação a idade?\n",
        "\n",
        "\n",
        "\n",
        "---\n",
        " Para responder essa pergunta novamente proceder com a análise visual e posteriormente realizar o teste KS\n"
      ],
      "metadata": {
        "id": "bbuX-gmHu0Y4"
      }
    },
    {
      "cell_type": "markdown",
      "source": [
        "**2.1 Análise Visual**: Exposicao ao Sol\n",
        "\n",
        "\n",
        "---"
      ],
      "metadata": {
        "id": "2RRuxYmlvN7i"
      }
    },
    {
      "cell_type": "code",
      "source": [
        "sns.set(rc={'figure.figsize':(11.7,8.27)})\n",
        "ax = sns.boxplot(x=\"id_produto\", y=\"durabilidade\", hue = \"exposicao_sol\",data=df, palette = \"colorblind\").set_title(\"Boxplot comparativo da durabilidade em horas por tipo de produto & exposicao ao sol\")"
      ],
      "metadata": {
        "colab": {
          "base_uri": "https://localhost:8080/",
          "height": 533
        },
        "id": "sWfxq2fLUSpo",
        "outputId": "e5507cc6-5841-4550-e4af-8a9c3ffdc6ec"
      },
      "execution_count": 18,
      "outputs": [
        {
          "output_type": "display_data",
          "data": {
            "text/plain": [
              "<Figure size 842.4x595.44 with 1 Axes>"
            ],
            "image/png": "[encoded data removed]"
          },
          "metadata": {}
        }
      ]
    },
    {
      "cell_type": "markdown",
      "source": [
        "Pelo gráfico acima, notamos que para todos os casos, quando a voluntária se expos ao sol houve uma reducao na mediana da distribuiçao da durabilidade. Para alguns produtos, entretando, esse decrescimo foi maior do que para outros. No caso dos produtos 1 e 3 tivemos reduções mais expressivas"
      ],
      "metadata": {
        "id": "HNBqxiU7vynY"
      }
    },
    {
      "cell_type": "markdown",
      "source": [
        "**2.2 Teste KS**: Exposicao ao Sol\n",
        "\n",
        "\n",
        "---"
      ],
      "metadata": {
        "id": "NUqyNaUGwjni"
      }
    },
    {
      "cell_type": "code",
      "source": [
        "durabilidade_1_exp_true = df[(df.id_produto == 1)&(df.exposicao_sol ==1)].durabilidade\n",
        "durabilidade_2_exp_true = df[(df.id_produto == 2)&(df.exposicao_sol ==1)].durabilidade\n",
        "durabilidade_3_exp_true = df[(df.id_produto == 3)&(df.exposicao_sol ==1)].durabilidade"
      ],
      "metadata": {
        "id": "gTLAFukDUW9Z"
      },
      "execution_count": 19,
      "outputs": []
    },
    {
      "cell_type": "code",
      "source": [
        "ks_2samp(durabilidade_1_exp_true, durabilidade_2_exp_true)"
      ],
      "metadata": {
        "id": "zuYkabofUYaF",
        "outputId": "cb3bec26-6926-412e-ff9d-d6505ea60ffe",
        "colab": {
          "base_uri": "https://localhost:8080/"
        }
      },
      "execution_count": 20,
      "outputs": [
        {
          "output_type": "execute_result",
          "data": {
            "text/plain": [
              "KstestResult(statistic=0.8333333333333334, pvalue=2.6202928286549403e-17, statistic_location=9, statistic_sign=-1)"
            ]
          },
          "metadata": {},
          "execution_count": 20
        }
      ]
    },
    {
      "cell_type": "code",
      "source": [
        "ks_2samp(durabilidade_2_exp_true, durabilidade_3_exp_true)"
      ],
      "metadata": {
        "colab": {
          "base_uri": "https://localhost:8080/"
        },
        "id": "ngQhct-DSUz2",
        "outputId": "8509e505-0371-4ba6-ebd2-ae9941d211e9"
      },
      "execution_count": 21,
      "outputs": [
        {
          "output_type": "execute_result",
          "data": {
            "text/plain": [
              "KstestResult(statistic=0.9487179487179487, pvalue=8.988577494522911e-22, statistic_location=11, statistic_sign=1)"
            ]
          },
          "metadata": {},
          "execution_count": 21
        }
      ]
    },
    {
      "cell_type": "code",
      "source": [
        "ks_2samp(durabilidade_1_exp_true, durabilidade_3_exp_true)"
      ],
      "metadata": {
        "colab": {
          "base_uri": "https://localhost:8080/"
        },
        "id": "jT91_Ha7S1fu",
        "outputId": "0c752435-0b5a-4414-950f-e072e8fb995e"
      },
      "execution_count": 22,
      "outputs": [
        {
          "output_type": "execute_result",
          "data": {
            "text/plain": [
              "KstestResult(statistic=0.6957264957264957, pvalue=2.7195930012302357e-10, statistic_location=14, statistic_sign=1)"
            ]
          },
          "metadata": {},
          "execution_count": 22
        }
      ]
    },
    {
      "cell_type": "markdown",
      "source": [
        "Conclusao: A diferença na durabilidade dos batons de diferentes fórmulas persiste, mesmo com exposicao ao sol"
      ],
      "metadata": {
        "id": "rL_8qQ0zxa8V"
      }
    },
    {
      "cell_type": "markdown",
      "source": [
        "**2.3 Análise Visual**: idade\n",
        "\n",
        "\n",
        "---"
      ],
      "metadata": {
        "id": "rRJrNfUwxvPA"
      }
    },
    {
      "cell_type": "markdown",
      "source": [
        "Para analisar idade, podemos agregar tal variável em faixas etárias. Tal agregacao pode ser definida com base na distribuicao dos dados, ou até mesmo no ponto de vista de negócio\n"
      ],
      "metadata": {
        "id": "BTlkxw3Mx-X-"
      }
    },
    {
      "cell_type": "code",
      "source": [
        "sns.set(rc={'figure.figsize':(11.7,8.27)})\n",
        "ax = sns.boxplot(x=\"id_produto\", y=\"idade\", data=df, palette = \"colorblind\").set_title(\"Boxplot comparativo da idade das voluntárias por tipo de produto\")"
      ],
      "metadata": {
        "colab": {
          "base_uri": "https://localhost:8080/",
          "height": 533
        },
        "id": "d5rAyAve1A8H",
        "outputId": "bbbd7280-3345-4a38-8f3b-e7edb3b69205"
      },
      "execution_count": 25,
      "outputs": [
        {
          "output_type": "display_data",
          "data": {
            "text/plain": [
              "<Figure size 842.4x595.44 with 1 Axes>"
            ],
            "image/png": "[encoded data removed]"
          },
          "metadata": {}
        }
      ]
    },
    {
      "cell_type": "markdown",
      "source": [
        "Podemos perceber que o produto 2 tem uma mediana de idade maior do que os outros, próximo aos 40 anos, já o produto 3 tem uma mediana de idade inferior a 30 anos.\n",
        "\n",
        "Vamos também analisar o gráfico de dispersao dessas variáveis por produto"
      ],
      "metadata": {
        "id": "jt1BodPY1QVz"
      }
    },
    {
      "cell_type": "code",
      "source": [
        "sns.scatterplot(data=df, x=\"idade\", y=\"durabilidade\", hue=\"id_produto\",  palette = \"colorblind\")"
      ],
      "metadata": {
        "colab": {
          "base_uri": "https://localhost:8080/",
          "height": 538
        },
        "id": "PsJwx8sr1lls",
        "outputId": "76b41859-4f2f-4f5c-e17e-948077957196"
      },
      "execution_count": 27,
      "outputs": [
        {
          "output_type": "execute_result",
          "data": {
            "text/plain": [
              "<Axes: xlabel='idade', ylabel='durabilidade'>"
            ]
          },
          "metadata": {},
          "execution_count": 27
        },
        {
          "output_type": "display_data",
          "data": {
            "text/plain": [
              "<Figure size 842.4x595.44 with 1 Axes>"
            ],
            "image/png": "[encoded data removed]"
          },
          "metadata": {}
        }
      ]
    },
    {
      "cell_type": "markdown",
      "source": [
        "Já pela análise do scatterplot, ou gráfico de dispersão, podemos ver que \n",
        "\n",
        "1. Para o produto 1: idade nao parece impactar na durabilidade\n",
        "2. Para o produto 2: a partir dos 40 anos vemos um aumento do patamar da durabilidade, ou seja, a durabilidade do produto parece ser melhor para esse público.\n",
        "3. Para o produto 3: até os 30 anos o produto parece ter uma durabilidade maior. Para faixas de idade maiores a durabilidade em horas fica abaixo de 30.\n",
        "\n",
        "Ou seja, pela análise visual, recomendariamos o produto 2 para mulheres acima dos 40 anos e para o produto 3 recomendariamos o produto para mulheres até 40 anos. \n",
        "\n",
        "A suposicao inicial é de que o produto 2 deve conter algum composto anti-aging na sua fórmula"
      ],
      "metadata": {
        "id": "lu6P9hhw17lv"
      }
    },
    {
      "cell_type": "markdown",
      "source": [
        "Dada a análise exploratória vamos agora definir as categorias de idade da seguinte forma:\n",
        "\n",
        "- Até 30 anos\n",
        "- De 30 a 40 anos\n",
        "- De 40 a 50 anos\n",
        "- Mais de 50 anos"
      ],
      "metadata": {
        "id": "nkGiGim_3LnK"
      }
    },
    {
      "cell_type": "code",
      "source": [
        "### A funcao abaixo irá ser aplicada em cada uma das linhas do dataframe para categorizar a faixa etária\n",
        "def categoria_idade(row):\n",
        "  if(row['idade']<=30):\n",
        "    return \"Ate_30_anos\"\n",
        "  elif((row['idade']>30)&(row['idade']<=40)):\n",
        "    return \"De_31_a_40_anos\"\n",
        "  elif((row['idade']>40)&(row['idade']<=50)):\n",
        "    return \"De_41_a_50_anos\"\n",
        "  elif(row['idade']>50):\n",
        "    return \"Mais_de_50_anos\""
      ],
      "metadata": {
        "id": "rt-dEN8o3fO6"
      },
      "execution_count": 32,
      "outputs": []
    },
    {
      "cell_type": "code",
      "source": [
        "### aplicando a função criada\n",
        "df[\"faixa_etaria\"] = df.apply(categoria_idade, axis =1)"
      ],
      "metadata": {
        "id": "bc7EYBgSyalH"
      },
      "execution_count": 33,
      "outputs": []
    },
    {
      "cell_type": "code",
      "source": [
        "### observando a quantidade de voluntárias em cada uma das faixas de idade\n",
        "df[\"faixa_etaria\"].value_counts()"
      ],
      "metadata": {
        "colab": {
          "base_uri": "https://localhost:8080/"
        },
        "id": "yhWavbGE3_S8",
        "outputId": "816e099c-11e7-4545-ece0-c249ad372881"
      },
      "execution_count": 35,
      "outputs": [
        {
          "output_type": "execute_result",
          "data": {
            "text/plain": [
              "Ate_30_anos        124\n",
              "De_41_a_50_anos     78\n",
              "De_31_a_40_anos     49\n",
              "Mais_de_50_anos     49\n",
              "Name: faixa_etaria, dtype: int64"
            ]
          },
          "metadata": {},
          "execution_count": 35
        }
      ]
    },
    {
      "cell_type": "markdown",
      "source": [
        "Analisando o boxplot da durabilidade por produto e faixa etária"
      ],
      "metadata": {
        "id": "ichQSt0G4srq"
      }
    },
    {
      "cell_type": "code",
      "source": [
        "sns.set(rc={'figure.figsize':(11.7,8.27)})\n",
        "ax = sns.boxplot(x=\"id_produto\", y=\"durabilidade\", hue = \"faixa_etaria\",data=df, palette = \"colorblind\").set_title(\"Boxplot comparativo da durabilidade em horas por tipo de produto & faixa etária\")"
      ],
      "metadata": {
        "colab": {
          "base_uri": "https://localhost:8080/",
          "height": 533
        },
        "id": "L8dhx1ubS6o4",
        "outputId": "4de5fe02-dd4b-41ca-a21f-39da2bc087cf"
      },
      "execution_count": 37,
      "outputs": [
        {
          "output_type": "display_data",
          "data": {
            "text/plain": [
              "<Figure size 842.4x595.44 with 1 Axes>"
            ],
            "image/png": "[encoded data removed]"
          },
          "metadata": {}
        }
      ]
    },
    {
      "cell_type": "markdown",
      "source": [
        "Pelo gráfico acima, podemos perceber que:\n",
        "- O Produto 1: Funciona melhor para mulheres acima dos 40 anos (mediana mais deslocada) e pior dos 31 a 40 anos\n",
        "- O Produto 2: Funciona melhor para mulheres acima dos 40 anos, conforme já vimos no gráfico de dispersao\n",
        "- O Produto 3: Funciona melhor para mulheres de é 30 anos."
      ],
      "metadata": {
        "id": "Y3LOhpXQ4zyW"
      }
    },
    {
      "cell_type": "markdown",
      "source": [
        "**2.3 Teste de Hipóteses**: idade\n",
        "\n",
        "\n",
        "---"
      ],
      "metadata": {
        "id": "hqcZIYRL5lNU"
      }
    },
    {
      "cell_type": "markdown",
      "source": [
        "Vamos agora realizar o Teste KS para a durabilidade de alguns produtos x faixa etária"
      ],
      "metadata": {
        "id": "3cWwDOql5cjb"
      }
    },
    {
      "cell_type": "markdown",
      "source": [
        "1. Até 30 anos"
      ],
      "metadata": {
        "id": "51vM61Tr5x-0"
      }
    },
    {
      "cell_type": "code",
      "source": [
        "durabilidade_1_Ate_30_anos = df[(df.id_produto == 1)&(df.faixa_etaria == 'Ate_30_anos')].durabilidade\n",
        "durabilidade_2_Ate_30_anos = df[(df.id_produto == 2)&(df.faixa_etaria == 'Ate_30_anos')].durabilidade\n",
        "durabilidade_3_Ate_30_anos = df[(df.id_produto == 3)&(df.faixa_etaria == 'Ate_30_anos')].durabilidade"
      ],
      "metadata": {
        "id": "rNGkf8Adgv8V"
      },
      "execution_count": 38,
      "outputs": []
    },
    {
      "cell_type": "code",
      "source": [
        "print(ks_2samp(durabilidade_1_Ate_30_anos, durabilidade_2_Ate_30_anos))\n",
        "print(ks_2samp(durabilidade_2_Ate_30_anos, durabilidade_3_Ate_30_anos))\n",
        "print(ks_2samp(durabilidade_1_Ate_30_anos, durabilidade_3_Ate_30_anos))"
      ],
      "metadata": {
        "colab": {
          "base_uri": "https://localhost:8080/"
        },
        "id": "RQq8Yrfs6HZJ",
        "outputId": "2a87a43e-0f86-45e2-abe7-619775920178"
      },
      "execution_count": 39,
      "outputs": [
        {
          "output_type": "stream",
          "name": "stdout",
          "text": [
            "KstestResult(statistic=1.0, pvalue=1.1254353546489764e-18, statistic_location=7, statistic_sign=-1)\n",
            "KstestResult(statistic=1.0, pvalue=1.0121606088575607e-24, statistic_location=7, statistic_sign=1)\n",
            "KstestResult(statistic=1.0, pvalue=1.249230484985489e-25, statistic_location=20, statistic_sign=1)\n"
          ]
        }
      ]
    },
    {
      "cell_type": "markdown",
      "source": [
        "Conclusao: As distribuicoes da durabilidade dos produtos sao estatisticamente diferentes Até 30 anos."
      ],
      "metadata": {
        "id": "oGyYWR0W6TsF"
      }
    },
    {
      "cell_type": "markdown",
      "source": [
        "2. De 31 a 40 anos"
      ],
      "metadata": {
        "id": "khnCqi-k6baV"
      }
    },
    {
      "cell_type": "code",
      "source": [
        "durabilidade_1_De_31_a_40_anos = df[(df.id_produto == 1)&(df.faixa_etaria == 'De_31_a_40_anos')].durabilidade\n",
        "durabilidade_2_De_31_a_40_anos = df[(df.id_produto == 2)&(df.faixa_etaria == 'De_31_a_40_anos')].durabilidade\n",
        "durabilidade_3_De_31_a_40_anos = df[(df.id_produto == 3)&(df.faixa_etaria == 'De_31_a_40_anos')].durabilidade"
      ],
      "metadata": {
        "id": "uGcuiGoQ6RJR"
      },
      "execution_count": 40,
      "outputs": []
    },
    {
      "cell_type": "code",
      "source": [
        "print(ks_2samp(durabilidade_1_De_31_a_40_anos, durabilidade_2_De_31_a_40_anos))\n",
        "print(ks_2samp(durabilidade_2_De_31_a_40_anos, durabilidade_3_De_31_a_40_anos))\n",
        "print(ks_2samp(durabilidade_1_De_31_a_40_anos, durabilidade_3_De_31_a_40_anos))"
      ],
      "metadata": {
        "colab": {
          "base_uri": "https://localhost:8080/"
        },
        "id": "k98pdttw6jpa",
        "outputId": "a6b1250c-b807-45e5-8fa6-19e1ea35ed8d"
      },
      "execution_count": 41,
      "outputs": [
        {
          "output_type": "stream",
          "name": "stdout",
          "text": [
            "KstestResult(statistic=0.9411764705882353, pvalue=1.5287787361003725e-09, statistic_location=9, statistic_sign=-1)\n",
            "KstestResult(statistic=0.9411764705882353, pvalue=2.607782928149061e-06, statistic_location=9, statistic_sign=1)\n",
            "KstestResult(statistic=0.4090909090909091, pvalue=0.15138596954624428, statistic_location=18, statistic_sign=1)\n"
          ]
        }
      ]
    },
    {
      "cell_type": "markdown",
      "source": [
        "Conclusão: Para faixas etárias de 31 a 40 anos a distribuicao dos durabilidade da fórmula 1 e da fórmula 3 não difere com 95% de confiança. Ou seja para esse publico as duas formulacoes tem durabilidade semelhante"
      ],
      "metadata": {
        "id": "PD6RBjod6utu"
      }
    },
    {
      "cell_type": "markdown",
      "source": [
        "3. De_41_a_50_anos"
      ],
      "metadata": {
        "id": "h3W_a58A69xo"
      }
    },
    {
      "cell_type": "code",
      "source": [
        "durabilidade_1_De_41_a_50_anos = df[(df.id_produto == 1)&(df.faixa_etaria == 'De_41_a_50_anos')].durabilidade\n",
        "durabilidade_2_De_41_a_50_anos = df[(df.id_produto == 2)&(df.faixa_etaria == 'De_41_a_50_anos')].durabilidade\n",
        "durabilidade_3_De_41_a_50_anos = df[(df.id_produto == 3)&(df.faixa_etaria == 'De_41_a_50_anos')].durabilidade"
      ],
      "metadata": {
        "id": "dGMgu2h66rp2"
      },
      "execution_count": 42,
      "outputs": []
    },
    {
      "cell_type": "code",
      "source": [
        "print(ks_2samp(durabilidade_1_De_41_a_50_anos, durabilidade_2_De_41_a_50_anos))\n",
        "print(ks_2samp(durabilidade_2_De_41_a_50_anos, durabilidade_3_De_41_a_50_anos))\n",
        "print(ks_2samp(durabilidade_1_De_41_a_50_anos, durabilidade_3_De_41_a_50_anos))"
      ],
      "metadata": {
        "colab": {
          "base_uri": "https://localhost:8080/"
        },
        "id": "_f_gQnu_7IFa",
        "outputId": "45b4fc2b-282e-4d7d-b176-01ecb7e1664c"
      },
      "execution_count": 43,
      "outputs": [
        {
          "output_type": "stream",
          "name": "stdout",
          "text": [
            "KstestResult(statistic=0.8518518518518519, pvalue=8.705640422151236e-12, statistic_location=11, statistic_sign=-1)\n",
            "KstestResult(statistic=0.9411764705882353, pvalue=2.7486162146846832e-11, statistic_location=11, statistic_sign=1)\n",
            "KstestResult(statistic=0.4335511982570806, pvalue=0.025870030212349574, statistic_location=19, statistic_sign=1)\n"
          ]
        }
      ]
    },
    {
      "cell_type": "markdown",
      "source": [
        "4. Mais_de_50_anos"
      ],
      "metadata": {
        "id": "opHADwTu7W7M"
      }
    },
    {
      "cell_type": "code",
      "source": [
        "durabilidade_1_Mais_de_50_anos = df[(df.id_produto == 1)&(df.faixa_etaria == 'Mais_de_50_anos')].durabilidade\n",
        "durabilidade_2_Mais_de_50_anos = df[(df.id_produto == 2)&(df.faixa_etaria == 'Mais_de_50_anos')].durabilidade\n",
        "durabilidade_3_Mais_de_50_anos = df[(df.id_produto == 3)&(df.faixa_etaria == 'Mais_de_50_anos')].durabilidade"
      ],
      "metadata": {
        "id": "2GQ7bSEr7M3K"
      },
      "execution_count": 44,
      "outputs": []
    },
    {
      "cell_type": "code",
      "source": [
        "print(ks_2samp(durabilidade_1_Mais_de_50_anos, durabilidade_2_Mais_de_50_anos))\n",
        "print(ks_2samp(durabilidade_2_Mais_de_50_anos, durabilidade_3_Mais_de_50_anos))\n",
        "print(ks_2samp(durabilidade_1_Mais_de_50_anos, durabilidade_3_Mais_de_50_anos))"
      ],
      "metadata": {
        "colab": {
          "base_uri": "https://localhost:8080/"
        },
        "id": "F8dKy4Qu7kwV",
        "outputId": "8e99cce2-16e1-4bee-c1d7-baead9e64035"
      },
      "execution_count": 45,
      "outputs": [
        {
          "output_type": "stream",
          "name": "stdout",
          "text": [
            "KstestResult(statistic=0.9444444444444444, pvalue=7.933766012281933e-09, statistic_location=11, statistic_sign=-1)\n",
            "KstestResult(statistic=1.0, pvalue=9.696825126122363e-09, statistic_location=11, statistic_sign=1)\n",
            "KstestResult(statistic=0.1623931623931624, pvalue=0.9621595023492377, statistic_location=13, statistic_sign=-1)\n"
          ]
        }
      ]
    },
    {
      "cell_type": "markdown",
      "source": [
        "Conclusão: Para faixas etárias acima de 50 anos a distribuicao dos durabilidade da fórmula 1 e da fórmula 3 não difere com 95% de confiança. Ou seja para esse publico as duas formulacoes tem durabilidade semelhante, assim como para as faixas etárias de 31 a 40 anos"
      ],
      "metadata": {
        "id": "OBsAmMOQ7Qnz"
      }
    },
    {
      "cell_type": "markdown",
      "source": [
        "## **Conclusao Final do Desafio**:\n",
        "\n",
        "\n",
        "---"
      ],
      "metadata": {
        "id": "jmJgYK-376CH"
      }
    },
    {
      "cell_type": "markdown",
      "source": [
        "As formulações estudadas são bem diferentes, de modo que:\n",
        "\n",
        "- O Produto 1, de modo geral apresenta durabilidade intermediária:\n",
        "  - Analisando mais especificamente, essa durabilidade é mais acentuada nos grupos: acima dos 40 anos\n",
        "  - Apresenta pior durabilidade quando ocorre a exposição ao sol.\n",
        "\n",
        "- Produto 2: \n",
        "  - Apresenta uma durabilidade menor que os outros, mas possui maior consistência quando falamos sobre exposição ao sol. Sendo a durabilidade deste produto pouco afetada por tal fator.\n",
        "  - Apresenta uma melhor durabilidade para faixas acima dos 40 anos\n",
        "  - tem uma distribuicao muito diferente dos outros, podendo ser comercializado de forma/ para públicos diferentes.\n",
        "\n",
        "- O Produto 3, apresenta maior durabilidade.\n",
        "  - Analisando mais especificamente, essa durabilidade é mais acentuada nos grupos: de até 30 anos e sem exposição ao sol\n",
        "  - A durabilidade deste produto decai bastante para faixas etárias de 31 a 40 anos e de 31 a 40 anos, sobretudo. tendo resultados muito semelhantes ao produto 1, conforme mostrado no teste KS.\n"
      ],
      "metadata": {
        "id": "xRrBt9es8F2B"
      }
    },
    {
      "cell_type": "markdown",
      "source": [
        "Observação: O teste KS nesse caso tem o diferencial de analisar a distribuição como um todo do produto e não somente a média, portanto, tendo em vista esse benefício, optamos por traze-lo no gabarito da solução. Embora muitos outros testes, mais amplamente mencionados ao longo do curso, também fizessem sentido, como os testes paramétricos de diferenças de médias."
      ],
      "metadata": {
        "id": "Xd1AsaWE6vqe"
      }
    },
    {
      "cell_type": "markdown",
      "source": [
        "\n",
        "## **<font color=#FF3399> Desafio 2 : Alimentos </font>**\n",
        "\n",
        "**Contexto:**\n",
        "\n",
        "Imagine que voce trabalha em uma empresa do setor alimentício, e o preço de determinado produto, um novo picolé, tem uma distribuição normal com média igual a  7,85 reais e desvio padrão igual a 3,32 reais.  Suspeita-se que devido ao verão, em determinadas localidades de praia o preco do picolé esteja mais caro.\n",
        "\n",
        "Para verificar se esse efeito é estatisticamente significativo, contactaram voce, analista de dados. \n",
        "\n",
        "Suponha que para realizar essa análise voce tenha dados de 45 lojas em cidades do litoral, escolhidas aleatoriamente. E constatou que o preço médio do picolé nessas cidades é de R$11,52. \n",
        "\n"
      ],
      "metadata": {
        "id": "nVn5g2PH-Gyq"
      }
    },
    {
      "cell_type": "markdown",
      "source": [
        "**1**: Você pode concluir que existe diferença de precos estatisticamente relevante com 5% de significancia?\n",
        "\n",
        "**2**: Qual o valor da variável teste, o intervalo de confianca e o p-valor?\n",
        "\n",
        "\n",
        "---"
      ],
      "metadata": {
        "id": "q687W09W-XiF"
      }
    },
    {
      "cell_type": "code",
      "source": [
        "media = 7.85\n",
        "desvp = 3.32\n",
        "novopreco = 11.52\n",
        "lojas = 45\n",
        "\n",
        "import numpy as np \n",
        "import matplotlib.pyplot as plt \n",
        "\n",
        "\n",
        "values = np.random.normal(media, desvp, lojas) \n",
        "plt.hist(values, 10) \n",
        "plt.axvline(novop, color='k', linestyle='dashed', linewidth=2) \n",
        "plt.show() "
      ],
      "metadata": {
        "colab": {
          "base_uri": "https://localhost:8080/",
          "height": 500
        },
        "id": "y70MB5Ae-GZ_",
        "outputId": "b02a0454-0561-4471-a818-8e7f23fef652"
      },
      "execution_count": 75,
      "outputs": [
        {
          "output_type": "display_data",
          "data": {
            "text/plain": [
              "<Figure size 842.4x595.44 with 1 Axes>"
            ],
            "image/png": "[encoded data removed]"
          },
          "metadata": {}
        }
      ]
    },
    {
      "cell_type": "markdown",
      "source": [
        "Acima temos o plot da distribuicao dos dados analisada e na linha tracejada o preço encontrado. Para responder a pergunta vamos calcular quao o preço do sorvete na calda superior da distribuiçao, a 95% de significancia estatística"
      ],
      "metadata": {
        "id": "Ccqb2mDqA1nM"
      }
    },
    {
      "cell_type": "code",
      "source": [
        "### definindo o teste\n",
        "###H0: Média = 7,85 e não existe diferença de preço.\n",
        "###HA: Média != 7,85 e existe diferença de preço ."
      ],
      "metadata": {
        "id": "WZKma0CgzmpZ"
      },
      "execution_count": null,
      "outputs": []
    },
    {
      "cell_type": "code",
      "source": [
        "media = 7.85\n",
        "desvp = 3.32\n",
        "novopreco = 11.52\n",
        "lojas = 45"
      ],
      "metadata": {
        "id": "G6ZSZSPM23zW"
      },
      "execution_count": 76,
      "outputs": []
    },
    {
      "cell_type": "code",
      "source": [
        "\n",
        "import scipy.stats as ss\n",
        "\n",
        "### cálculo do valor crítico\n",
        "alpha = 0.05\n",
        "confiança = 1 - alpha\n",
        "probabilidade = (0.5 + (confiança / 2)) ### o teste será bi-caudal\n",
        "valor_critico = ss.norm.ppf(probabilidade) ## norm ppf calcula o valor critico da distribuicao do teste\n",
        "\n",
        "### cálculo da estatistica de teste\n",
        "z = (novopreco - media) / (desvp / np.sqrt(lojas))\n",
        "print(\"estatística do teste : \"+str(z))\n",
        "### calculo do p-valor\n",
        "pvalue = 2 * (ss.norm.sf(z))\n",
        "print(\"p-valor : \"+str(pvalue))"
      ],
      "metadata": {
        "colab": {
          "base_uri": "https://localhost:8080/"
        },
        "id": "BAWKFQOCwzO7",
        "outputId": "e932c85c-d3a1-4c6d-c17b-ac310ac25f79"
      },
      "execution_count": 81,
      "outputs": [
        {
          "output_type": "stream",
          "name": "stdout",
          "text": [
            "estatística do teste : 7.415394106106231\n",
            "p-valor : 1.2126366281061861e-13\n"
          ]
        }
      ]
    },
    {
      "cell_type": "markdown",
      "source": [
        "Conclusão: Aplicando o teste z, Com 95% de confiança, obtivemos o valor crítico 1.96, e estatística z de : 7.415. Com a estatística do teste calculalmos o p-valor e concluímos que existe diferença de preço entre as regiões mencionadas."
      ],
      "metadata": {
        "id": "vU9llhs93Wzd"
      }
    }
  ]
}