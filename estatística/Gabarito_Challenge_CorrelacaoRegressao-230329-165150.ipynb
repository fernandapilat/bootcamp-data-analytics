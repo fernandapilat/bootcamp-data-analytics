{
  "nbformat": 4,
  "nbformat_minor": 0,
  "metadata": {
    "colab": {
      "provenance": []
    },
    "kernelspec": {
      "name": "python3",
      "display_name": "Python 3"
    },
    "language_info": {
      "name": "python"
    }
  },
  "cells": [
    {
      "cell_type": "markdown",
      "source": [
        "# **<font color=#FF3399> Gabarito Challenge : Correlação e Regressão </font>**\n",
        "\n",
        "Bootcamp Data Analytics & Tech Minas 2023 \n",
        "\n",
        "WoMakersCode\n",
        "\n",
        "-  Desafio 1: Análise de correlacao\n"
      ],
      "metadata": {
        "id": "UaexhYsjbnmT"
      }
    },
    {
      "cell_type": "code",
      "execution_count": null,
      "metadata": {
        "id": "u6gVGbjJa3XL"
      },
      "outputs": [],
      "source": [
        "#### Importando os pacotes que serao utilizados nos dois desafios\n",
        "import pandas as pd\n",
        "import numpy as np\n",
        "import matplotlib.pyplot as plt ## graficos\n",
        "import seaborn as sns ## graficos\n",
        "from scipy.stats import skewnorm ## Gerar distribuicoes assimétricas, etc (utilizado na montagem do dataset)\n",
        "from google.colab import drive ## conectar com o google drive para ler seus arquivos\n",
        "pd.set_option('display.float_format', lambda x: '%.5f' % x)"
      ]
    },
    {
      "cell_type": "code",
      "source": [
        "drive.mount('/content/drive')"
      ],
      "metadata": {
        "colab": {
          "base_uri": "https://localhost:8080/"
        },
        "id": "io9eMtbTa8-b",
        "outputId": "9caa650f-fd27-4792-d643-0fe2d3edff47"
      },
      "execution_count": null,
      "outputs": [
        {
          "output_type": "stream",
          "name": "stdout",
          "text": [
            "Drive already mounted at /content/drive; to attempt to forcibly remount, call drive.mount(\"/content/drive\", force_remount=True).\n"
          ]
        }
      ]
    },
    {
      "cell_type": "markdown",
      "source": [
        "## **<font color=#FF3399> Desafio 1: Análise de correlação </font>**\n",
        "\n",
        "\n",
        "Contexto: \n",
        "\n",
        "Suponha que você trabalha em uma empresa do setor imobiliário. Para essa empresa é muito importante precificar corretamente o imóvel, caso contrário, os corretores podem perder a venda. Como parte do time de dados, voce é responsável por analisar os principais fatores que podem afetar o preco dos imóveis. Para isso, eles te enviaram a base de dados (desafio_01_preco_imoveis.csv). Como você poderia ajudá-los?\n",
        "\n",
        "1 - Analise a correlacao de todas as variáveis com o preco do imóvel. Quais variaveis sao mais correlacionadas positivatemente? e negativamente? Quais sao menos correlacionadas? \n",
        "\n",
        "2 - Para as top 5 variáveis mais correlacionadas com o preco:\n",
        "  1. Plote as suas distribuicoes (histograma e boxplot)\n",
        "  2. Plote o scatterplot (gráfico de dispersao), contendo preco no eixo Y e a variável correlacionada no eixo X.\n",
        "  3. Para cada uma das 5 variáveis faca uma regressao linear simples sendo preco a variável resposta (y) e interprete os resultados.\n"
      ],
      "metadata": {
        "id": "U_e-vTgqcH8Y"
      }
    },
    {
      "cell_type": "code",
      "source": [
        "### Antes de comecarmos a responder as perguntas vamos ler a base disponibilizada.\n",
        "\n",
        "df = pd.read_csv(\"/content/drive/MyDrive/WoMakers/BOOTCAMP/Desafios/desafio_01_preco_imoveis.csv\")"
      ],
      "metadata": {
        "id": "ki6IfQmpcj91"
      },
      "execution_count": null,
      "outputs": []
    },
    {
      "cell_type": "code",
      "source": [
        "df.head()"
      ],
      "metadata": {
        "colab": {
          "base_uri": "https://localhost:8080/",
          "height": 270
        },
        "id": "1KT9ostYtRme",
        "outputId": "876ead54-d945-4cc2-f73a-15526fae15c0"
      },
      "execution_count": null,
      "outputs": [
        {
          "output_type": "execute_result",
          "data": {
            "text/plain": [
              "           id             date        price  bedrooms  bathrooms  sqft_living  \\\n",
              "0  7129300520  20141013T000000 221900.00000         3    1.00000         1180   \n",
              "1  6414100192  20141209T000000 538000.00000         3    2.25000         2570   \n",
              "2  5631500400  20150225T000000 180000.00000         2    1.00000          770   \n",
              "3  2487200875  20141209T000000 604000.00000         4    3.00000         1960   \n",
              "4  1954400510  20150218T000000 510000.00000         3    2.00000         1680   \n",
              "\n",
              "   sqft_lot  floors  waterfront  view  condition  grade  sqft_above  \\\n",
              "0      5650 1.00000           0     0          3      7        1180   \n",
              "1      7242 2.00000           0     0          3      7        2170   \n",
              "2     10000 1.00000           0     0          3      6         770   \n",
              "3      5000 1.00000           0     0          5      7        1050   \n",
              "4      8080 1.00000           0     0          3      8        1680   \n",
              "\n",
              "   sqft_basement  yr_built  yr_renovated  zipcode      lat       long  \n",
              "0              0      1955             0    98178 47.51120 -122.25700  \n",
              "1            400      1951          1991    98125 47.72100 -122.31900  \n",
              "2              0      1933             0    98028 47.73790 -122.23300  \n",
              "3            910      1965             0    98136 47.52080 -122.39300  \n",
              "4              0      1987             0    98074 47.61680 -122.04500  "
            ],
            "text/html": [
              "\n",
              "  <div id=\"df-385f9727-ecc1-441d-b68a-d2aaec0557aa\">\n",
              "    <div class=\"colab-df-container\">\n",
              "      <div>\n",
              "<style scoped>\n",
              "    .dataframe tbody tr th:only-of-type {\n",
              "        vertical-align: middle;\n",
              "    }\n",
              "\n",
              "    .dataframe tbody tr th {\n",
              "        vertical-align: top;\n",
              "    }\n",
              "\n",
              "    .dataframe thead th {\n",
              "        text-align: right;\n",
              "    }\n",
              "</style>\n",
              "<table border=\"1\" class=\"dataframe\">\n",
              "  <thead>\n",
              "    <tr style=\"text-align: right;\">\n",
              "      <th></th>\n",
              "      <th>id</th>\n",
              "      <th>date</th>\n",
              "      <th>price</th>\n",
              "      <th>bedrooms</th>\n",
              "      <th>bathrooms</th>\n",
              "      <th>sqft_living</th>\n",
              "      <th>sqft_lot</th>\n",
              "      <th>floors</th>\n",
              "      <th>waterfront</th>\n",
              "      <th>view</th>\n",
              "      <th>condition</th>\n",
              "      <th>grade</th>\n",
              "      <th>sqft_above</th>\n",
              "      <th>sqft_basement</th>\n",
              "      <th>yr_built</th>\n",
              "      <th>yr_renovated</th>\n",
              "      <th>zipcode</th>\n",
              "      <th>lat</th>\n",
              "      <th>long</th>\n",
              "    </tr>\n",
              "  </thead>\n",
              "  <tbody>\n",
              "    <tr>\n",
              "      <th>0</th>\n",
              "      <td>7129300520</td>\n",
              "      <td>20141013T000000</td>\n",
              "      <td>221900.00000</td>\n",
              "      <td>3</td>\n",
              "      <td>1.00000</td>\n",
              "      <td>1180</td>\n",
              "      <td>5650</td>\n",
              "      <td>1.00000</td>\n",
              "      <td>0</td>\n",
              "      <td>0</td>\n",
              "      <td>3</td>\n",
              "      <td>7</td>\n",
              "      <td>1180</td>\n",
              "      <td>0</td>\n",
              "      <td>1955</td>\n",
              "      <td>0</td>\n",
              "      <td>98178</td>\n",
              "      <td>47.51120</td>\n",
              "      <td>-122.25700</td>\n",
              "    </tr>\n",
              "    <tr>\n",
              "      <th>1</th>\n",
              "      <td>6414100192</td>\n",
              "      <td>20141209T000000</td>\n",
              "      <td>538000.00000</td>\n",
              "      <td>3</td>\n",
              "      <td>2.25000</td>\n",
              "      <td>2570</td>\n",
              "      <td>7242</td>\n",
              "      <td>2.00000</td>\n",
              "      <td>0</td>\n",
              "      <td>0</td>\n",
              "      <td>3</td>\n",
              "      <td>7</td>\n",
              "      <td>2170</td>\n",
              "      <td>400</td>\n",
              "      <td>1951</td>\n",
              "      <td>1991</td>\n",
              "      <td>98125</td>\n",
              "      <td>47.72100</td>\n",
              "      <td>-122.31900</td>\n",
              "    </tr>\n",
              "    <tr>\n",
              "      <th>2</th>\n",
              "      <td>5631500400</td>\n",
              "      <td>20150225T000000</td>\n",
              "      <td>180000.00000</td>\n",
              "      <td>2</td>\n",
              "      <td>1.00000</td>\n",
              "      <td>770</td>\n",
              "      <td>10000</td>\n",
              "      <td>1.00000</td>\n",
              "      <td>0</td>\n",
              "      <td>0</td>\n",
              "      <td>3</td>\n",
              "      <td>6</td>\n",
              "      <td>770</td>\n",
              "      <td>0</td>\n",
              "      <td>1933</td>\n",
              "      <td>0</td>\n",
              "      <td>98028</td>\n",
              "      <td>47.73790</td>\n",
              "      <td>-122.23300</td>\n",
              "    </tr>\n",
              "    <tr>\n",
              "      <th>3</th>\n",
              "      <td>2487200875</td>\n",
              "      <td>20141209T000000</td>\n",
              "      <td>604000.00000</td>\n",
              "      <td>4</td>\n",
              "      <td>3.00000</td>\n",
              "      <td>1960</td>\n",
              "      <td>5000</td>\n",
              "      <td>1.00000</td>\n",
              "      <td>0</td>\n",
              "      <td>0</td>\n",
              "      <td>5</td>\n",
              "      <td>7</td>\n",
              "      <td>1050</td>\n",
              "      <td>910</td>\n",
              "      <td>1965</td>\n",
              "      <td>0</td>\n",
              "      <td>98136</td>\n",
              "      <td>47.52080</td>\n",
              "      <td>-122.39300</td>\n",
              "    </tr>\n",
              "    <tr>\n",
              "      <th>4</th>\n",
              "      <td>1954400510</td>\n",
              "      <td>20150218T000000</td>\n",
              "      <td>510000.00000</td>\n",
              "      <td>3</td>\n",
              "      <td>2.00000</td>\n",
              "      <td>1680</td>\n",
              "      <td>8080</td>\n",
              "      <td>1.00000</td>\n",
              "      <td>0</td>\n",
              "      <td>0</td>\n",
              "      <td>3</td>\n",
              "      <td>8</td>\n",
              "      <td>1680</td>\n",
              "      <td>0</td>\n",
              "      <td>1987</td>\n",
              "      <td>0</td>\n",
              "      <td>98074</td>\n",
              "      <td>47.61680</td>\n",
              "      <td>-122.04500</td>\n",
              "    </tr>\n",
              "  </tbody>\n",
              "</table>\n",
              "</div>\n",
              "      <button class=\"colab-df-convert\" onclick=\"convertToInteractive('df-385f9727-ecc1-441d-b68a-d2aaec0557aa')\"\n",
              "              title=\"Convert this dataframe to an interactive table.\"\n",
              "              style=\"display:none;\">\n",
              "        \n",
              "  <svg xmlns=\"http://www.w3.org/2000/svg\" height=\"24px\"viewBox=\"0 0 24 24\"\n",
              "       width=\"24px\">\n",
              "    <path d=\"M0 0h24v24H0V0z\" fill=\"none\"/>\n",
              "    <path d=\"M18.56 5.44l.94 2.06.94-2.06 2.06-.94-2.06-.94-.94-2.06-.94 2.06-2.06.94zm-11 1L8.5 8.5l.94-2.06 2.06-.94-2.06-.94L8.5 2.5l-.94 2.06-2.06.94zm10 10l.94 2.06.94-2.06 2.06-.94-2.06-.94-.94-2.06-.94 2.06-2.06.94z\"/><path d=\"M17.41 7.96l-1.37-1.37c-.4-.4-.92-.59-1.43-.59-.52 0-1.04.2-1.43.59L10.3 9.45l-7.72 7.72c-.78.78-.78 2.05 0 2.83L4 21.41c.39.39.9.59 1.41.59.51 0 1.02-.2 1.41-.59l7.78-7.78 2.81-2.81c.8-.78.8-2.07 0-2.86zM5.41 20L4 18.59l7.72-7.72 1.47 1.35L5.41 20z\"/>\n",
              "  </svg>\n",
              "      </button>\n",
              "      \n",
              "  <style>\n",
              "    .colab-df-container {\n",
              "      display:flex;\n",
              "      flex-wrap:wrap;\n",
              "      gap: 12px;\n",
              "    }\n",
              "\n",
              "    .colab-df-convert {\n",
              "      background-color: #E8F0FE;\n",
              "      border: none;\n",
              "      border-radius: 50%;\n",
              "      cursor: pointer;\n",
              "      display: none;\n",
              "      fill: #1967D2;\n",
              "      height: 32px;\n",
              "      padding: 0 0 0 0;\n",
              "      width: 32px;\n",
              "    }\n",
              "\n",
              "    .colab-df-convert:hover {\n",
              "      background-color: #E2EBFA;\n",
              "      box-shadow: 0px 1px 2px rgba(60, 64, 67, 0.3), 0px 1px 3px 1px rgba(60, 64, 67, 0.15);\n",
              "      fill: #174EA6;\n",
              "    }\n",
              "\n",
              "    [theme=dark] .colab-df-convert {\n",
              "      background-color: #3B4455;\n",
              "      fill: #D2E3FC;\n",
              "    }\n",
              "\n",
              "    [theme=dark] .colab-df-convert:hover {\n",
              "      background-color: #434B5C;\n",
              "      box-shadow: 0px 1px 3px 1px rgba(0, 0, 0, 0.15);\n",
              "      filter: drop-shadow(0px 1px 2px rgba(0, 0, 0, 0.3));\n",
              "      fill: #FFFFFF;\n",
              "    }\n",
              "  </style>\n",
              "\n",
              "      <script>\n",
              "        const buttonEl =\n",
              "          document.querySelector('#df-385f9727-ecc1-441d-b68a-d2aaec0557aa button.colab-df-convert');\n",
              "        buttonEl.style.display =\n",
              "          google.colab.kernel.accessAllowed ? 'block' : 'none';\n",
              "\n",
              "        async function convertToInteractive(key) {\n",
              "          const element = document.querySelector('#df-385f9727-ecc1-441d-b68a-d2aaec0557aa');\n",
              "          const dataTable =\n",
              "            await google.colab.kernel.invokeFunction('convertToInteractive',\n",
              "                                                     [key], {});\n",
              "          if (!dataTable) return;\n",
              "\n",
              "          const docLinkHtml = 'Like what you see? Visit the ' +\n",
              "            '<a target=\"_blank\" href=https://colab.research.google.com/notebooks/data_table.ipynb>data table notebook</a>'\n",
              "            + ' to learn more about interactive tables.';\n",
              "          element.innerHTML = '';\n",
              "          dataTable['output_type'] = 'display_data';\n",
              "          await google.colab.output.renderOutput(dataTable, element);\n",
              "          const docLink = document.createElement('div');\n",
              "          docLink.innerHTML = docLinkHtml;\n",
              "          element.appendChild(docLink);\n",
              "        }\n",
              "      </script>\n",
              "    </div>\n",
              "  </div>\n",
              "  "
            ]
          },
          "metadata": {},
          "execution_count": 27
        }
      ]
    },
    {
      "cell_type": "markdown",
      "source": [
        "#### Seguindo o Passo a Passo:\n",
        "1. Analise a correlacao de todas as variáveis com o preco do imóvel. Quais variaveis sao mais correlacionadas positivatemente? e negativamente? Quais sao menos correlacionadas? \n"
      ],
      "metadata": {
        "id": "a-ODpYv5cVsz"
      }
    },
    {
      "cell_type": "code",
      "source": [
        "### Plot correlations plot\n",
        "corr = df.corr()\n",
        "corr.style.background_gradient(cmap='coolwarm')\n"
      ],
      "metadata": {
        "colab": {
          "base_uri": "https://localhost:8080/",
          "height": 633
        },
        "id": "ZWDDYCvHdmdH",
        "outputId": "d80a77a5-45b0-4e88-ec59-efc3b9803508"
      },
      "execution_count": null,
      "outputs": [
        {
          "output_type": "execute_result",
          "data": {
            "text/plain": [
              "<pandas.io.formats.style.Styler at 0x7f200ae8e050>"
            ],
            "text/html": [
              "<style type=\"text/css\">\n",
              "#T_18943_row0_col0, #T_18943_row1_col1, #T_18943_row2_col2, #T_18943_row3_col3, #T_18943_row4_col4, #T_18943_row5_col5, #T_18943_row6_col6, #T_18943_row7_col7, #T_18943_row8_col8, #T_18943_row9_col9, #T_18943_row10_col10, #T_18943_row11_col11, #T_18943_row12_col12, #T_18943_row13_col13, #T_18943_row14_col14, #T_18943_row15_col15, #T_18943_row16_col16, #T_18943_row17_col17 {\n",
              "  background-color: #b40426;\n",
              "  color: #f1f1f1;\n",
              "}\n",
              "#T_18943_row0_col1, #T_18943_row2_col7, #T_18943_row9_col10 {\n",
              "  background-color: #445acc;\n",
              "  color: #f1f1f1;\n",
              "}\n",
              "#T_18943_row0_col2, #T_18943_row5_col1, #T_18943_row6_col0, #T_18943_row7_col5, #T_18943_row8_col16, #T_18943_row9_col14, #T_18943_row13_col0, #T_18943_row17_col0 {\n",
              "  background-color: #6485ec;\n",
              "  color: #f1f1f1;\n",
              "}\n",
              "#T_18943_row0_col3, #T_18943_row3_col9, #T_18943_row4_col16, #T_18943_row6_col16 {\n",
              "  background-color: #7295f4;\n",
              "  color: #f1f1f1;\n",
              "}\n",
              "#T_18943_row0_col4, #T_18943_row11_col12, #T_18943_row14_col16 {\n",
              "  background-color: #6b8df0;\n",
              "  color: #f1f1f1;\n",
              "}\n",
              "#T_18943_row0_col5, #T_18943_row5_col0, #T_18943_row6_col12, #T_18943_row9_col6, #T_18943_row9_col13, #T_18943_row13_col9, #T_18943_row13_col14, #T_18943_row13_col16, #T_18943_row15_col1, #T_18943_row15_col2, #T_18943_row15_col3, #T_18943_row15_col4, #T_18943_row15_col5, #T_18943_row15_col10, #T_18943_row15_col11, #T_18943_row15_col17, #T_18943_row17_col7, #T_18943_row17_col8, #T_18943_row17_col15 {\n",
              "  background-color: #3b4cc0;\n",
              "  color: #f1f1f1;\n",
              "}\n",
              "#T_18943_row0_col6, #T_18943_row3_col14, #T_18943_row7_col10, #T_18943_row8_col13, #T_18943_row12_col16, #T_18943_row14_col11 {\n",
              "  background-color: #84a7fc;\n",
              "  color: #f1f1f1;\n",
              "}\n",
              "#T_18943_row0_col7 {\n",
              "  background-color: #455cce;\n",
              "  color: #f1f1f1;\n",
              "}\n",
              "#T_18943_row0_col8, #T_18943_row9_col1 {\n",
              "  background-color: #5470de;\n",
              "  color: #f1f1f1;\n",
              "}\n",
              "#T_18943_row0_col9, #T_18943_row3_col8, #T_18943_row7_col13, #T_18943_row16_col6 {\n",
              "  background-color: #8caffe;\n",
              "  color: #000000;\n",
              "}\n",
              "#T_18943_row0_col10, #T_18943_row13_col5, #T_18943_row15_col6 {\n",
              "  background-color: #6e90f2;\n",
              "  color: #f1f1f1;\n",
              "}\n",
              "#T_18943_row0_col11, #T_18943_row1_col5, #T_18943_row2_col14, #T_18943_row10_col14 {\n",
              "  background-color: #7a9df8;\n",
              "  color: #f1f1f1;\n",
              "}\n",
              "#T_18943_row0_col12, #T_18943_row3_col5, #T_18943_row11_col15 {\n",
              "  background-color: #799cf8;\n",
              "  color: #f1f1f1;\n",
              "}\n",
              "#T_18943_row0_col13, #T_18943_row5_col15, #T_18943_row7_col9, #T_18943_row11_col5 {\n",
              "  background-color: #97b8ff;\n",
              "  color: #000000;\n",
              "}\n",
              "#T_18943_row0_col14, #T_18943_row14_col1, #T_18943_row14_col8, #T_18943_row14_col10 {\n",
              "  background-color: #7093f3;\n",
              "  color: #f1f1f1;\n",
              "}\n",
              "#T_18943_row0_col15, #T_18943_row5_col11, #T_18943_row17_col3 {\n",
              "  background-color: #b1cbfc;\n",
              "  color: #000000;\n",
              "}\n",
              "#T_18943_row0_col16, #T_18943_row7_col2, #T_18943_row8_col0, #T_18943_row11_col16, #T_18943_row17_col14 {\n",
              "  background-color: #6282ea;\n",
              "  color: #f1f1f1;\n",
              "}\n",
              "#T_18943_row0_col17, #T_18943_row1_col17 {\n",
              "  background-color: #b7cff9;\n",
              "  color: #000000;\n",
              "}\n",
              "#T_18943_row1_col0, #T_18943_row13_col1, #T_18943_row14_col0 {\n",
              "  background-color: #5a78e4;\n",
              "  color: #f1f1f1;\n",
              "}\n",
              "#T_18943_row1_col2, #T_18943_row14_col15 {\n",
              "  background-color: #c0d4f5;\n",
              "  color: #000000;\n",
              "}\n",
              "#T_18943_row1_col3 {\n",
              "  background-color: #f2c9b4;\n",
              "  color: #000000;\n",
              "}\n",
              "#T_18943_row1_col4, #T_18943_row3_col11 {\n",
              "  background-color: #f4987a;\n",
              "  color: #000000;\n",
              "}\n",
              "#T_18943_row1_col6 {\n",
              "  background-color: #c4d5f3;\n",
              "  color: #000000;\n",
              "}\n",
              "#T_18943_row1_col7, #T_18943_row6_col1 {\n",
              "  background-color: #9dbdff;\n",
              "  color: #000000;\n",
              "}\n",
              "#T_18943_row1_col8, #T_18943_row2_col12, #T_18943_row6_col17 {\n",
              "  background-color: #ccd9ed;\n",
              "  color: #000000;\n",
              "}\n",
              "#T_18943_row1_col9, #T_18943_row9_col17 {\n",
              "  background-color: #9bbcff;\n",
              "  color: #000000;\n",
              "}\n",
              "#T_18943_row1_col10, #T_18943_row10_col3 {\n",
              "  background-color: #f6a586;\n",
              "  color: #000000;\n",
              "}\n",
              "#T_18943_row1_col11, #T_18943_row10_col1 {\n",
              "  background-color: #f7b194;\n",
              "  color: #000000;\n",
              "}\n",
              "#T_18943_row1_col12, #T_18943_row2_col10 {\n",
              "  background-color: #d2dbe8;\n",
              "  color: #000000;\n",
              "}\n",
              "#T_18943_row1_col13, #T_18943_row10_col8, #T_18943_row17_col6 {\n",
              "  background-color: #a1c0ff;\n",
              "  color: #000000;\n",
              "}\n",
              "#T_18943_row1_col14, #T_18943_row2_col9, #T_18943_row16_col12 {\n",
              "  background-color: #9abbff;\n",
              "  color: #000000;\n",
              "}\n",
              "#T_18943_row1_col15, #T_18943_row8_col3 {\n",
              "  background-color: #a7c5fe;\n",
              "  color: #000000;\n",
              "}\n",
              "#T_18943_row1_col16, #T_18943_row12_col2 {\n",
              "  background-color: #bfd3f6;\n",
              "  color: #000000;\n",
              "}\n",
              "#T_18943_row2_col0, #T_18943_row9_col4, #T_18943_row10_col7, #T_18943_row12_col7 {\n",
              "  background-color: #5f7fe8;\n",
              "  color: #f1f1f1;\n",
              "}\n",
              "#T_18943_row2_col1, #T_18943_row8_col11, #T_18943_row16_col1 {\n",
              "  background-color: #adc9fd;\n",
              "  color: #000000;\n",
              "}\n",
              "#T_18943_row2_col3 {\n",
              "  background-color: #f2cbb7;\n",
              "  color: #000000;\n",
              "}\n",
              "#T_18943_row2_col4 {\n",
              "  background-color: #f6bea4;\n",
              "  color: #000000;\n",
              "}\n",
              "#T_18943_row2_col5, #T_18943_row2_col8 {\n",
              "  background-color: #688aef;\n",
              "  color: #f1f1f1;\n",
              "}\n",
              "#T_18943_row2_col6 {\n",
              "  background-color: #aec9fc;\n",
              "  color: #000000;\n",
              "}\n",
              "#T_18943_row2_col11, #T_18943_row6_col3 {\n",
              "  background-color: #efcebd;\n",
              "  color: #000000;\n",
              "}\n",
              "#T_18943_row2_col13 {\n",
              "  background-color: #b9d0f9;\n",
              "  color: #000000;\n",
              "}\n",
              "#T_18943_row2_col15, #T_18943_row7_col11, #T_18943_row7_col12 {\n",
              "  background-color: #92b4fe;\n",
              "  color: #000000;\n",
              "}\n",
              "#T_18943_row2_col16, #T_18943_row3_col0, #T_18943_row10_col0, #T_18943_row14_col5, #T_18943_row16_col2 {\n",
              "  background-color: #6180e9;\n",
              "  color: #f1f1f1;\n",
              "}\n",
              "#T_18943_row2_col17, #T_18943_row10_col2 {\n",
              "  background-color: #cdd9ec;\n",
              "  color: #000000;\n",
              "}\n",
              "#T_18943_row3_col1 {\n",
              "  background-color: #e9d5cb;\n",
              "  color: #000000;\n",
              "}\n",
              "#T_18943_row3_col2, #T_18943_row11_col17 {\n",
              "  background-color: #efcfbf;\n",
              "  color: #000000;\n",
              "}\n",
              "#T_18943_row3_col4, #T_18943_row4_col3, #T_18943_row11_col10 {\n",
              "  background-color: #ee8669;\n",
              "  color: #f1f1f1;\n",
              "}\n",
              "#T_18943_row3_col6 {\n",
              "  background-color: #f2cab5;\n",
              "  color: #000000;\n",
              "}\n",
              "#T_18943_row3_col7, #T_18943_row6_col8, #T_18943_row14_col13 {\n",
              "  background-color: #5977e3;\n",
              "  color: #f1f1f1;\n",
              "}\n",
              "#T_18943_row3_col10, #T_18943_row4_col1 {\n",
              "  background-color: #f7a688;\n",
              "  color: #000000;\n",
              "}\n",
              "#T_18943_row3_col12 {\n",
              "  background-color: #c7d7f0;\n",
              "  color: #000000;\n",
              "}\n",
              "#T_18943_row3_col13 {\n",
              "  background-color: #f5c0a7;\n",
              "  color: #000000;\n",
              "}\n",
              "#T_18943_row3_col15, #T_18943_row4_col14, #T_18943_row7_col6, #T_18943_row10_col16, #T_18943_row11_col8 {\n",
              "  background-color: #85a8fc;\n",
              "  color: #f1f1f1;\n",
              "}\n",
              "#T_18943_row3_col16, #T_18943_row11_col9, #T_18943_row14_col2, #T_18943_row15_col8 {\n",
              "  background-color: #6a8bef;\n",
              "  color: #f1f1f1;\n",
              "}\n",
              "#T_18943_row3_col17 {\n",
              "  background-color: #dddcdc;\n",
              "  color: #000000;\n",
              "}\n",
              "#T_18943_row4_col0, #T_18943_row9_col5, #T_18943_row11_col0 {\n",
              "  background-color: #5b7ae5;\n",
              "  color: #f1f1f1;\n",
              "}\n",
              "#T_18943_row4_col2 {\n",
              "  background-color: #f5c2aa;\n",
              "  color: #000000;\n",
              "}\n",
              "#T_18943_row4_col5, #T_18943_row8_col14, #T_18943_row12_col17, #T_18943_row13_col2, #T_18943_row15_col9 {\n",
              "  background-color: #93b5fe;\n",
              "  color: #000000;\n",
              "}\n",
              "#T_18943_row4_col6 {\n",
              "  background-color: #dadce0;\n",
              "  color: #000000;\n",
              "}\n",
              "#T_18943_row4_col7, #T_18943_row13_col15 {\n",
              "  background-color: #6687ed;\n",
              "  color: #f1f1f1;\n",
              "}\n",
              "#T_18943_row4_col8, #T_18943_row9_col12 {\n",
              "  background-color: #abc8fd;\n",
              "  color: #000000;\n",
              "}\n",
              "#T_18943_row4_col9, #T_18943_row7_col3, #T_18943_row14_col9 {\n",
              "  background-color: #82a6fb;\n",
              "  color: #f1f1f1;\n",
              "}\n",
              "#T_18943_row4_col10 {\n",
              "  background-color: #ee8468;\n",
              "  color: #f1f1f1;\n",
              "}\n",
              "#T_18943_row4_col11 {\n",
              "  background-color: #d65244;\n",
              "  color: #f1f1f1;\n",
              "}\n",
              "#T_18943_row4_col12, #T_18943_row11_col2, #T_18943_row13_col11 {\n",
              "  background-color: #e8d6cc;\n",
              "  color: #000000;\n",
              "}\n",
              "#T_18943_row4_col13 {\n",
              "  background-color: #dcdddd;\n",
              "  color: #000000;\n",
              "}\n",
              "#T_18943_row4_col15, #T_18943_row8_col6 {\n",
              "  background-color: #86a9fc;\n",
              "  color: #f1f1f1;\n",
              "}\n",
              "#T_18943_row4_col17 {\n",
              "  background-color: #e0dbd8;\n",
              "  color: #000000;\n",
              "}\n",
              "#T_18943_row5_col2, #T_18943_row9_col2, #T_18943_row10_col9, #T_18943_row16_col13 {\n",
              "  background-color: #6c8ff1;\n",
              "  color: #f1f1f1;\n",
              "}\n",
              "#T_18943_row5_col3, #T_18943_row10_col15, #T_18943_row17_col2 {\n",
              "  background-color: #8badfd;\n",
              "  color: #000000;\n",
              "}\n",
              "#T_18943_row5_col4, #T_18943_row8_col17 {\n",
              "  background-color: #a2c1ff;\n",
              "  color: #000000;\n",
              "}\n",
              "#T_18943_row5_col6, #T_18943_row16_col11 {\n",
              "  background-color: #7da0f9;\n",
              "  color: #f1f1f1;\n",
              "}\n",
              "#T_18943_row5_col7 {\n",
              "  background-color: #4c66d6;\n",
              "  color: #f1f1f1;\n",
              "}\n",
              "#T_18943_row5_col8 {\n",
              "  background-color: #6788ee;\n",
              "  color: #f1f1f1;\n",
              "}\n",
              "#T_18943_row5_col9, #T_18943_row7_col14 {\n",
              "  background-color: #90b2fe;\n",
              "  color: #000000;\n",
              "}\n",
              "#T_18943_row5_col10, #T_18943_row7_col4, #T_18943_row16_col10 {\n",
              "  background-color: #8db0fe;\n",
              "  color: #000000;\n",
              "}\n",
              "#T_18943_row5_col12, #T_18943_row16_col4, #T_18943_row16_col14 {\n",
              "  background-color: #7ea1fa;\n",
              "  color: #f1f1f1;\n",
              "}\n",
              "#T_18943_row5_col13, #T_18943_row7_col1 {\n",
              "  background-color: #9fbfff;\n",
              "  color: #000000;\n",
              "}\n",
              "#T_18943_row5_col14, #T_18943_row6_col14, #T_18943_row16_col3 {\n",
              "  background-color: #779af7;\n",
              "  color: #f1f1f1;\n",
              "}\n",
              "#T_18943_row5_col16 {\n",
              "  background-color: #4a63d3;\n",
              "  color: #f1f1f1;\n",
              "}\n",
              "#T_18943_row5_col17 {\n",
              "  background-color: #dedcdb;\n",
              "  color: #000000;\n",
              "}\n",
              "#T_18943_row6_col2 {\n",
              "  background-color: #98b9ff;\n",
              "  color: #000000;\n",
              "}\n",
              "#T_18943_row6_col4 {\n",
              "  background-color: #d3dbe7;\n",
              "  color: #000000;\n",
              "}\n",
              "#T_18943_row6_col5, #T_18943_row11_col7, #T_18943_row12_col0, #T_18943_row15_col0 {\n",
              "  background-color: #5d7ce6;\n",
              "  color: #f1f1f1;\n",
              "}\n",
              "#T_18943_row6_col7, #T_18943_row9_col3 {\n",
              "  background-color: #4e68d8;\n",
              "  color: #f1f1f1;\n",
              "}\n",
              "#T_18943_row6_col9, #T_18943_row17_col1 {\n",
              "  background-color: #506bda;\n",
              "  color: #f1f1f1;\n",
              "}\n",
              "#T_18943_row6_col10 {\n",
              "  background-color: #e7d7ce;\n",
              "  color: #000000;\n",
              "}\n",
              "#T_18943_row6_col11, #T_18943_row6_col13, #T_18943_row11_col6, #T_18943_row13_col17 {\n",
              "  background-color: #f4c5ad;\n",
              "  color: #000000;\n",
              "}\n",
              "#T_18943_row6_col15, #T_18943_row17_col10 {\n",
              "  background-color: #a6c4fe;\n",
              "  color: #000000;\n",
              "}\n",
              "#T_18943_row7_col0, #T_18943_row7_col16, #T_18943_row9_col8, #T_18943_row9_col16, #T_18943_row16_col0 {\n",
              "  background-color: #5e7de7;\n",
              "  color: #f1f1f1;\n",
              "}\n",
              "#T_18943_row7_col8 {\n",
              "  background-color: #cedaeb;\n",
              "  color: #000000;\n",
              "}\n",
              "#T_18943_row7_col15 {\n",
              "  background-color: #bad0f8;\n",
              "  color: #000000;\n",
              "}\n",
              "#T_18943_row7_col17, #T_18943_row10_col12 {\n",
              "  background-color: #aac7fd;\n",
              "  color: #000000;\n",
              "}\n",
              "#T_18943_row8_col1, #T_18943_row8_col7 {\n",
              "  background-color: #c9d7f0;\n",
              "  color: #000000;\n",
              "}\n",
              "#T_18943_row8_col2, #T_18943_row11_col14 {\n",
              "  background-color: #7b9ff9;\n",
              "  color: #f1f1f1;\n",
              "}\n",
              "#T_18943_row8_col4, #T_18943_row12_col3 {\n",
              "  background-color: #c1d4f4;\n",
              "  color: #000000;\n",
              "}\n",
              "#T_18943_row8_col5 {\n",
              "  background-color: #7597f6;\n",
              "  color: #f1f1f1;\n",
              "}\n",
              "#T_18943_row8_col9, #T_18943_row12_col10 {\n",
              "  background-color: #9ebeff;\n",
              "  color: #000000;\n",
              "}\n",
              "#T_18943_row8_col10 {\n",
              "  background-color: #b6cefa;\n",
              "  color: #000000;\n",
              "}\n",
              "#T_18943_row8_col12 {\n",
              "  background-color: #c6d6f1;\n",
              "  color: #000000;\n",
              "}\n",
              "#T_18943_row8_col15 {\n",
              "  background-color: #c5d6f2;\n",
              "  color: #000000;\n",
              "}\n",
              "#T_18943_row9_col0 {\n",
              "  background-color: #5875e1;\n",
              "  color: #f1f1f1;\n",
              "}\n",
              "#T_18943_row9_col7 {\n",
              "  background-color: #4b64d5;\n",
              "  color: #f1f1f1;\n",
              "}\n",
              "#T_18943_row9_col11, #T_18943_row16_col8, #T_18943_row17_col12 {\n",
              "  background-color: #536edd;\n",
              "  color: #f1f1f1;\n",
              "}\n",
              "#T_18943_row9_col15, #T_18943_row15_col16 {\n",
              "  background-color: #b3cdfb;\n",
              "  color: #000000;\n",
              "}\n",
              "#T_18943_row10_col4 {\n",
              "  background-color: #ed8366;\n",
              "  color: #f1f1f1;\n",
              "}\n",
              "#T_18943_row10_col5 {\n",
              "  background-color: #81a4fb;\n",
              "  color: #f1f1f1;\n",
              "}\n",
              "#T_18943_row10_col6 {\n",
              "  background-color: #edd1c2;\n",
              "  color: #000000;\n",
              "}\n",
              "#T_18943_row10_col11 {\n",
              "  background-color: #ec8165;\n",
              "  color: #f1f1f1;\n",
              "}\n",
              "#T_18943_row10_col13, #T_18943_row13_col6 {\n",
              "  background-color: #f1ccb8;\n",
              "  color: #000000;\n",
              "}\n",
              "#T_18943_row10_col17 {\n",
              "  background-color: #d9dce1;\n",
              "  color: #000000;\n",
              "}\n",
              "#T_18943_row11_col1 {\n",
              "  background-color: #f5c4ac;\n",
              "  color: #000000;\n",
              "}\n",
              "#T_18943_row11_col3 {\n",
              "  background-color: #f59d7e;\n",
              "  color: #000000;\n",
              "}\n",
              "#T_18943_row11_col4 {\n",
              "  background-color: #d75445;\n",
              "  color: #f1f1f1;\n",
              "}\n",
              "#T_18943_row11_col13 {\n",
              "  background-color: #eed0c0;\n",
              "  color: #000000;\n",
              "}\n",
              "#T_18943_row12_col1 {\n",
              "  background-color: #b2ccfb;\n",
              "  color: #000000;\n",
              "}\n",
              "#T_18943_row12_col4 {\n",
              "  background-color: #e4d9d2;\n",
              "  color: #000000;\n",
              "}\n",
              "#T_18943_row12_col5, #T_18943_row14_col7 {\n",
              "  background-color: #6384eb;\n",
              "  color: #f1f1f1;\n",
              "}\n",
              "#T_18943_row12_col6, #T_18943_row13_col7 {\n",
              "  background-color: #3e51c5;\n",
              "  color: #f1f1f1;\n",
              "}\n",
              "#T_18943_row12_col8 {\n",
              "  background-color: #a9c6fd;\n",
              "  color: #000000;\n",
              "}\n",
              "#T_18943_row12_col9 {\n",
              "  background-color: #bed2f6;\n",
              "  color: #000000;\n",
              "}\n",
              "#T_18943_row12_col11, #T_18943_row12_col13 {\n",
              "  background-color: #6f92f3;\n",
              "  color: #f1f1f1;\n",
              "}\n",
              "#T_18943_row12_col14 {\n",
              "  background-color: #89acfd;\n",
              "  color: #000000;\n",
              "}\n",
              "#T_18943_row12_col15 {\n",
              "  background-color: #c3d5f4;\n",
              "  color: #000000;\n",
              "}\n",
              "#T_18943_row13_col3 {\n",
              "  background-color: #f0cdbb;\n",
              "  color: #000000;\n",
              "}\n",
              "#T_18943_row13_col4 {\n",
              "  background-color: #cad8ef;\n",
              "  color: #000000;\n",
              "}\n",
              "#T_18943_row13_col8 {\n",
              "  background-color: #4055c8;\n",
              "  color: #f1f1f1;\n",
              "}\n",
              "#T_18943_row13_col10, #T_18943_row16_col15 {\n",
              "  background-color: #e5d8d1;\n",
              "  color: #000000;\n",
              "}\n",
              "#T_18943_row13_col12 {\n",
              "  background-color: #5673e0;\n",
              "  color: #f1f1f1;\n",
              "}\n",
              "#T_18943_row14_col3, #T_18943_row14_col4, #T_18943_row14_col6 {\n",
              "  background-color: #80a3fa;\n",
              "  color: #f1f1f1;\n",
              "}\n",
              "#T_18943_row14_col12, #T_18943_row15_col12, #T_18943_row16_col9 {\n",
              "  background-color: #8fb1fe;\n",
              "  color: #000000;\n",
              "}\n",
              "#T_18943_row14_col17, #T_18943_row17_col5 {\n",
              "  background-color: #a5c3fe;\n",
              "  color: #000000;\n",
              "}\n",
              "#T_18943_row15_col7 {\n",
              "  background-color: #4f69d9;\n",
              "  color: #f1f1f1;\n",
              "}\n",
              "#T_18943_row15_col13, #T_18943_row17_col16 {\n",
              "  background-color: #3d50c3;\n",
              "  color: #f1f1f1;\n",
              "}\n",
              "#T_18943_row15_col14 {\n",
              "  background-color: #88abfd;\n",
              "  color: #000000;\n",
              "}\n",
              "#T_18943_row16_col5 {\n",
              "  background-color: #465ecf;\n",
              "  color: #f1f1f1;\n",
              "}\n",
              "#T_18943_row16_col7 {\n",
              "  background-color: #4257c9;\n",
              "  color: #f1f1f1;\n",
              "}\n",
              "#T_18943_row16_col17 {\n",
              "  background-color: #96b7ff;\n",
              "  color: #000000;\n",
              "}\n",
              "#T_18943_row17_col4 {\n",
              "  background-color: #b5cdfa;\n",
              "  color: #000000;\n",
              "}\n",
              "#T_18943_row17_col9 {\n",
              "  background-color: #7699f6;\n",
              "  color: #f1f1f1;\n",
              "}\n",
              "#T_18943_row17_col11 {\n",
              "  background-color: #d7dce3;\n",
              "  color: #000000;\n",
              "}\n",
              "#T_18943_row17_col13 {\n",
              "  background-color: #ecd3c5;\n",
              "  color: #000000;\n",
              "}\n",
              "</style>\n",
              "<table id=\"T_18943_\" class=\"dataframe\">\n",
              "  <thead>\n",
              "    <tr>\n",
              "      <th class=\"blank level0\" >&nbsp;</th>\n",
              "      <th class=\"col_heading level0 col0\" >id</th>\n",
              "      <th class=\"col_heading level0 col1\" >price</th>\n",
              "      <th class=\"col_heading level0 col2\" >bedrooms</th>\n",
              "      <th class=\"col_heading level0 col3\" >bathrooms</th>\n",
              "      <th class=\"col_heading level0 col4\" >sqft_living</th>\n",
              "      <th class=\"col_heading level0 col5\" >sqft_lot</th>\n",
              "      <th class=\"col_heading level0 col6\" >floors</th>\n",
              "      <th class=\"col_heading level0 col7\" >waterfront</th>\n",
              "      <th class=\"col_heading level0 col8\" >view</th>\n",
              "      <th class=\"col_heading level0 col9\" >condition</th>\n",
              "      <th class=\"col_heading level0 col10\" >grade</th>\n",
              "      <th class=\"col_heading level0 col11\" >sqft_above</th>\n",
              "      <th class=\"col_heading level0 col12\" >sqft_basement</th>\n",
              "      <th class=\"col_heading level0 col13\" >yr_built</th>\n",
              "      <th class=\"col_heading level0 col14\" >yr_renovated</th>\n",
              "      <th class=\"col_heading level0 col15\" >zipcode</th>\n",
              "      <th class=\"col_heading level0 col16\" >lat</th>\n",
              "      <th class=\"col_heading level0 col17\" >long</th>\n",
              "    </tr>\n",
              "  </thead>\n",
              "  <tbody>\n",
              "    <tr>\n",
              "      <th id=\"T_18943_level0_row0\" class=\"row_heading level0 row0\" >id</th>\n",
              "      <td id=\"T_18943_row0_col0\" class=\"data row0 col0\" >1.000000</td>\n",
              "      <td id=\"T_18943_row0_col1\" class=\"data row0 col1\" >-0.016762</td>\n",
              "      <td id=\"T_18943_row0_col2\" class=\"data row0 col2\" >0.001286</td>\n",
              "      <td id=\"T_18943_row0_col3\" class=\"data row0 col3\" >0.005160</td>\n",
              "      <td id=\"T_18943_row0_col4\" class=\"data row0 col4\" >-0.012258</td>\n",
              "      <td id=\"T_18943_row0_col5\" class=\"data row0 col5\" >-0.132109</td>\n",
              "      <td id=\"T_18943_row0_col6\" class=\"data row0 col6\" >0.018525</td>\n",
              "      <td id=\"T_18943_row0_col7\" class=\"data row0 col7\" >-0.002721</td>\n",
              "      <td id=\"T_18943_row0_col8\" class=\"data row0 col8\" >0.011592</td>\n",
              "      <td id=\"T_18943_row0_col9\" class=\"data row0 col9\" >-0.023783</td>\n",
              "      <td id=\"T_18943_row0_col10\" class=\"data row0 col10\" >0.008130</td>\n",
              "      <td id=\"T_18943_row0_col11\" class=\"data row0 col11\" >-0.010842</td>\n",
              "      <td id=\"T_18943_row0_col12\" class=\"data row0 col12\" >-0.005151</td>\n",
              "      <td id=\"T_18943_row0_col13\" class=\"data row0 col13\" >0.021380</td>\n",
              "      <td id=\"T_18943_row0_col14\" class=\"data row0 col14\" >-0.016907</td>\n",
              "      <td id=\"T_18943_row0_col15\" class=\"data row0 col15\" >-0.008224</td>\n",
              "      <td id=\"T_18943_row0_col16\" class=\"data row0 col16\" >-0.001891</td>\n",
              "      <td id=\"T_18943_row0_col17\" class=\"data row0 col17\" >0.020799</td>\n",
              "    </tr>\n",
              "    <tr>\n",
              "      <th id=\"T_18943_level0_row1\" class=\"row_heading level0 row1\" >price</th>\n",
              "      <td id=\"T_18943_row1_col0\" class=\"data row1 col0\" >-0.016762</td>\n",
              "      <td id=\"T_18943_row1_col1\" class=\"data row1 col1\" >1.000000</td>\n",
              "      <td id=\"T_18943_row1_col2\" class=\"data row1 col2\" >0.308350</td>\n",
              "      <td id=\"T_18943_row1_col3\" class=\"data row1 col3\" >0.525138</td>\n",
              "      <td id=\"T_18943_row1_col4\" class=\"data row1 col4\" >0.702035</td>\n",
              "      <td id=\"T_18943_row1_col5\" class=\"data row1 col5\" >0.089661</td>\n",
              "      <td id=\"T_18943_row1_col6\" class=\"data row1 col6\" >0.256794</td>\n",
              "      <td id=\"T_18943_row1_col7\" class=\"data row1 col7\" >0.266369</td>\n",
              "      <td id=\"T_18943_row1_col8\" class=\"data row1 col8\" >0.397293</td>\n",
              "      <td id=\"T_18943_row1_col9\" class=\"data row1 col9\" >0.036362</td>\n",
              "      <td id=\"T_18943_row1_col10\" class=\"data row1 col10\" >0.667434</td>\n",
              "      <td id=\"T_18943_row1_col11\" class=\"data row1 col11\" >0.605567</td>\n",
              "      <td id=\"T_18943_row1_col12\" class=\"data row1 col12\" >0.323816</td>\n",
              "      <td id=\"T_18943_row1_col13\" class=\"data row1 col13\" >0.054012</td>\n",
              "      <td id=\"T_18943_row1_col14\" class=\"data row1 col14\" >0.126434</td>\n",
              "      <td id=\"T_18943_row1_col15\" class=\"data row1 col15\" >-0.053203</td>\n",
              "      <td id=\"T_18943_row1_col16\" class=\"data row1 col16\" >0.307003</td>\n",
              "      <td id=\"T_18943_row1_col17\" class=\"data row1 col17\" >0.021626</td>\n",
              "    </tr>\n",
              "    <tr>\n",
              "      <th id=\"T_18943_level0_row2\" class=\"row_heading level0 row2\" >bedrooms</th>\n",
              "      <td id=\"T_18943_row2_col0\" class=\"data row2 col0\" >0.001286</td>\n",
              "      <td id=\"T_18943_row2_col1\" class=\"data row2 col1\" >0.308350</td>\n",
              "      <td id=\"T_18943_row2_col2\" class=\"data row2 col2\" >1.000000</td>\n",
              "      <td id=\"T_18943_row2_col3\" class=\"data row2 col3\" >0.515884</td>\n",
              "      <td id=\"T_18943_row2_col4\" class=\"data row2 col4\" >0.576671</td>\n",
              "      <td id=\"T_18943_row2_col5\" class=\"data row2 col5\" >0.031703</td>\n",
              "      <td id=\"T_18943_row2_col6\" class=\"data row2 col6\" >0.175429</td>\n",
              "      <td id=\"T_18943_row2_col7\" class=\"data row2 col7\" >-0.006582</td>\n",
              "      <td id=\"T_18943_row2_col8\" class=\"data row2 col8\" >0.079532</td>\n",
              "      <td id=\"T_18943_row2_col9\" class=\"data row2 col9\" >0.028472</td>\n",
              "      <td id=\"T_18943_row2_col10\" class=\"data row2 col10\" >0.356967</td>\n",
              "      <td id=\"T_18943_row2_col11\" class=\"data row2 col11\" >0.477600</td>\n",
              "      <td id=\"T_18943_row2_col12\" class=\"data row2 col12\" >0.303093</td>\n",
              "      <td id=\"T_18943_row2_col13\" class=\"data row2 col13\" >0.154178</td>\n",
              "      <td id=\"T_18943_row2_col14\" class=\"data row2 col14\" >0.018841</td>\n",
              "      <td id=\"T_18943_row2_col15\" class=\"data row2 col15\" >-0.152668</td>\n",
              "      <td id=\"T_18943_row2_col16\" class=\"data row2 col16\" >-0.008931</td>\n",
              "      <td id=\"T_18943_row2_col17\" class=\"data row2 col17\" >0.129473</td>\n",
              "    </tr>\n",
              "    <tr>\n",
              "      <th id=\"T_18943_level0_row3\" class=\"row_heading level0 row3\" >bathrooms</th>\n",
              "      <td id=\"T_18943_row3_col0\" class=\"data row3 col0\" >0.005160</td>\n",
              "      <td id=\"T_18943_row3_col1\" class=\"data row3 col1\" >0.525138</td>\n",
              "      <td id=\"T_18943_row3_col2\" class=\"data row3 col2\" >0.515884</td>\n",
              "      <td id=\"T_18943_row3_col3\" class=\"data row3 col3\" >1.000000</td>\n",
              "      <td id=\"T_18943_row3_col4\" class=\"data row3 col4\" >0.754665</td>\n",
              "      <td id=\"T_18943_row3_col5\" class=\"data row3 col5\" >0.087740</td>\n",
              "      <td id=\"T_18943_row3_col6\" class=\"data row3 col6\" >0.500653</td>\n",
              "      <td id=\"T_18943_row3_col7\" class=\"data row3 col7\" >0.063744</td>\n",
              "      <td id=\"T_18943_row3_col8\" class=\"data row3 col8\" >0.187737</td>\n",
              "      <td id=\"T_18943_row3_col9\" class=\"data row3 col9\" >-0.124982</td>\n",
              "      <td id=\"T_18943_row3_col10\" class=\"data row3 col10\" >0.664983</td>\n",
              "      <td id=\"T_18943_row3_col11\" class=\"data row3 col11\" >0.685342</td>\n",
              "      <td id=\"T_18943_row3_col12\" class=\"data row3 col12\" >0.283770</td>\n",
              "      <td id=\"T_18943_row3_col13\" class=\"data row3 col13\" >0.506019</td>\n",
              "      <td id=\"T_18943_row3_col14\" class=\"data row3 col14\" >0.050739</td>\n",
              "      <td id=\"T_18943_row3_col15\" class=\"data row3 col15\" >-0.203866</td>\n",
              "      <td id=\"T_18943_row3_col16\" class=\"data row3 col16\" >0.024573</td>\n",
              "      <td id=\"T_18943_row3_col17\" class=\"data row3 col17\" >0.223042</td>\n",
              "    </tr>\n",
              "    <tr>\n",
              "      <th id=\"T_18943_level0_row4\" class=\"row_heading level0 row4\" >sqft_living</th>\n",
              "      <td id=\"T_18943_row4_col0\" class=\"data row4 col0\" >-0.012258</td>\n",
              "      <td id=\"T_18943_row4_col1\" class=\"data row4 col1\" >0.702035</td>\n",
              "      <td id=\"T_18943_row4_col2\" class=\"data row4 col2\" >0.576671</td>\n",
              "      <td id=\"T_18943_row4_col3\" class=\"data row4 col3\" >0.754665</td>\n",
              "      <td id=\"T_18943_row4_col4\" class=\"data row4 col4\" >1.000000</td>\n",
              "      <td id=\"T_18943_row4_col5\" class=\"data row4 col5\" >0.172826</td>\n",
              "      <td id=\"T_18943_row4_col6\" class=\"data row4 col6\" >0.353949</td>\n",
              "      <td id=\"T_18943_row4_col7\" class=\"data row4 col7\" >0.103818</td>\n",
              "      <td id=\"T_18943_row4_col8\" class=\"data row4 col8\" >0.284611</td>\n",
              "      <td id=\"T_18943_row4_col9\" class=\"data row4 col9\" >-0.058753</td>\n",
              "      <td id=\"T_18943_row4_col10\" class=\"data row4 col10\" >0.762704</td>\n",
              "      <td id=\"T_18943_row4_col11\" class=\"data row4 col11\" >0.876597</td>\n",
              "      <td id=\"T_18943_row4_col12\" class=\"data row4 col12\" >0.435043</td>\n",
              "      <td id=\"T_18943_row4_col13\" class=\"data row4 col13\" >0.318049</td>\n",
              "      <td id=\"T_18943_row4_col14\" class=\"data row4 col14\" >0.055363</td>\n",
              "      <td id=\"T_18943_row4_col15\" class=\"data row4 col15\" >-0.199430</td>\n",
              "      <td id=\"T_18943_row4_col16\" class=\"data row4 col16\" >0.052529</td>\n",
              "      <td id=\"T_18943_row4_col17\" class=\"data row4 col17\" >0.240223</td>\n",
              "    </tr>\n",
              "    <tr>\n",
              "      <th id=\"T_18943_level0_row5\" class=\"row_heading level0 row5\" >sqft_lot</th>\n",
              "      <td id=\"T_18943_row5_col0\" class=\"data row5 col0\" >-0.132109</td>\n",
              "      <td id=\"T_18943_row5_col1\" class=\"data row5 col1\" >0.089661</td>\n",
              "      <td id=\"T_18943_row5_col2\" class=\"data row5 col2\" >0.031703</td>\n",
              "      <td id=\"T_18943_row5_col3\" class=\"data row5 col3\" >0.087740</td>\n",
              "      <td id=\"T_18943_row5_col4\" class=\"data row5 col4\" >0.172826</td>\n",
              "      <td id=\"T_18943_row5_col5\" class=\"data row5 col5\" >1.000000</td>\n",
              "      <td id=\"T_18943_row5_col6\" class=\"data row5 col6\" >-0.005201</td>\n",
              "      <td id=\"T_18943_row5_col7\" class=\"data row5 col7\" >0.021604</td>\n",
              "      <td id=\"T_18943_row5_col8\" class=\"data row5 col8\" >0.074710</td>\n",
              "      <td id=\"T_18943_row5_col9\" class=\"data row5 col9\" >-0.008958</td>\n",
              "      <td id=\"T_18943_row5_col10\" class=\"data row5 col10\" >0.113621</td>\n",
              "      <td id=\"T_18943_row5_col11\" class=\"data row5 col11\" >0.183512</td>\n",
              "      <td id=\"T_18943_row5_col12\" class=\"data row5 col12\" >0.015286</td>\n",
              "      <td id=\"T_18943_row5_col13\" class=\"data row5 col13\" >0.053080</td>\n",
              "      <td id=\"T_18943_row5_col14\" class=\"data row5 col14\" >0.007644</td>\n",
              "      <td id=\"T_18943_row5_col15\" class=\"data row5 col15\" >-0.129574</td>\n",
              "      <td id=\"T_18943_row5_col16\" class=\"data row5 col16\" >-0.085683</td>\n",
              "      <td id=\"T_18943_row5_col17\" class=\"data row5 col17\" >0.229521</td>\n",
              "    </tr>\n",
              "    <tr>\n",
              "      <th id=\"T_18943_level0_row6\" class=\"row_heading level0 row6\" >floors</th>\n",
              "      <td id=\"T_18943_row6_col0\" class=\"data row6 col0\" >0.018525</td>\n",
              "      <td id=\"T_18943_row6_col1\" class=\"data row6 col1\" >0.256794</td>\n",
              "      <td id=\"T_18943_row6_col2\" class=\"data row6 col2\" >0.175429</td>\n",
              "      <td id=\"T_18943_row6_col3\" class=\"data row6 col3\" >0.500653</td>\n",
              "      <td id=\"T_18943_row6_col4\" class=\"data row6 col4\" >0.353949</td>\n",
              "      <td id=\"T_18943_row6_col5\" class=\"data row6 col5\" >-0.005201</td>\n",
              "      <td id=\"T_18943_row6_col6\" class=\"data row6 col6\" >1.000000</td>\n",
              "      <td id=\"T_18943_row6_col7\" class=\"data row6 col7\" >0.023698</td>\n",
              "      <td id=\"T_18943_row6_col8\" class=\"data row6 col8\" >0.029444</td>\n",
              "      <td id=\"T_18943_row6_col9\" class=\"data row6 col9\" >-0.263768</td>\n",
              "      <td id=\"T_18943_row6_col10\" class=\"data row6 col10\" >0.458183</td>\n",
              "      <td id=\"T_18943_row6_col11\" class=\"data row6 col11\" >0.523885</td>\n",
              "      <td id=\"T_18943_row6_col12\" class=\"data row6 col12\" >-0.245705</td>\n",
              "      <td id=\"T_18943_row6_col13\" class=\"data row6 col13\" >0.489319</td>\n",
              "      <td id=\"T_18943_row6_col14\" class=\"data row6 col14\" >0.006338</td>\n",
              "      <td id=\"T_18943_row6_col15\" class=\"data row6 col15\" >-0.059121</td>\n",
              "      <td id=\"T_18943_row6_col16\" class=\"data row6 col16\" >0.049614</td>\n",
              "      <td id=\"T_18943_row6_col17\" class=\"data row6 col17\" >0.125419</td>\n",
              "    </tr>\n",
              "    <tr>\n",
              "      <th id=\"T_18943_level0_row7\" class=\"row_heading level0 row7\" >waterfront</th>\n",
              "      <td id=\"T_18943_row7_col0\" class=\"data row7 col0\" >-0.002721</td>\n",
              "      <td id=\"T_18943_row7_col1\" class=\"data row7 col1\" >0.266369</td>\n",
              "      <td id=\"T_18943_row7_col2\" class=\"data row7 col2\" >-0.006582</td>\n",
              "      <td id=\"T_18943_row7_col3\" class=\"data row7 col3\" >0.063744</td>\n",
              "      <td id=\"T_18943_row7_col4\" class=\"data row7 col4\" >0.103818</td>\n",
              "      <td id=\"T_18943_row7_col5\" class=\"data row7 col5\" >0.021604</td>\n",
              "      <td id=\"T_18943_row7_col6\" class=\"data row7 col6\" >0.023698</td>\n",
              "      <td id=\"T_18943_row7_col7\" class=\"data row7 col7\" >1.000000</td>\n",
              "      <td id=\"T_18943_row7_col8\" class=\"data row7 col8\" >0.401857</td>\n",
              "      <td id=\"T_18943_row7_col9\" class=\"data row7 col9\" >0.016653</td>\n",
              "      <td id=\"T_18943_row7_col10\" class=\"data row7 col10\" >0.082775</td>\n",
              "      <td id=\"T_18943_row7_col11\" class=\"data row7 col11\" >0.072075</td>\n",
              "      <td id=\"T_18943_row7_col12\" class=\"data row7 col12\" >0.080588</td>\n",
              "      <td id=\"T_18943_row7_col13\" class=\"data row7 col13\" >-0.026161</td>\n",
              "      <td id=\"T_18943_row7_col14\" class=\"data row7 col14\" >0.092885</td>\n",
              "      <td id=\"T_18943_row7_col15\" class=\"data row7 col15\" >0.030285</td>\n",
              "      <td id=\"T_18943_row7_col16\" class=\"data row7 col16\" >-0.014274</td>\n",
              "      <td id=\"T_18943_row7_col17\" class=\"data row7 col17\" >-0.041910</td>\n",
              "    </tr>\n",
              "    <tr>\n",
              "      <th id=\"T_18943_level0_row8\" class=\"row_heading level0 row8\" >view</th>\n",
              "      <td id=\"T_18943_row8_col0\" class=\"data row8 col0\" >0.011592</td>\n",
              "      <td id=\"T_18943_row8_col1\" class=\"data row8 col1\" >0.397293</td>\n",
              "      <td id=\"T_18943_row8_col2\" class=\"data row8 col2\" >0.079532</td>\n",
              "      <td id=\"T_18943_row8_col3\" class=\"data row8 col3\" >0.187737</td>\n",
              "      <td id=\"T_18943_row8_col4\" class=\"data row8 col4\" >0.284611</td>\n",
              "      <td id=\"T_18943_row8_col5\" class=\"data row8 col5\" >0.074710</td>\n",
              "      <td id=\"T_18943_row8_col6\" class=\"data row8 col6\" >0.029444</td>\n",
              "      <td id=\"T_18943_row8_col7\" class=\"data row8 col7\" >0.401857</td>\n",
              "      <td id=\"T_18943_row8_col8\" class=\"data row8 col8\" >1.000000</td>\n",
              "      <td id=\"T_18943_row8_col9\" class=\"data row8 col9\" >0.045990</td>\n",
              "      <td id=\"T_18943_row8_col10\" class=\"data row8 col10\" >0.251321</td>\n",
              "      <td id=\"T_18943_row8_col11\" class=\"data row8 col11\" >0.167649</td>\n",
              "      <td id=\"T_18943_row8_col12\" class=\"data row8 col12\" >0.276947</td>\n",
              "      <td id=\"T_18943_row8_col13\" class=\"data row8 col13\" >-0.053440</td>\n",
              "      <td id=\"T_18943_row8_col14\" class=\"data row8 col14\" >0.103917</td>\n",
              "      <td id=\"T_18943_row8_col15\" class=\"data row8 col15\" >0.084827</td>\n",
              "      <td id=\"T_18943_row8_col16\" class=\"data row8 col16\" >0.006157</td>\n",
              "      <td id=\"T_18943_row8_col17\" class=\"data row8 col17\" >-0.078400</td>\n",
              "    </tr>\n",
              "    <tr>\n",
              "      <th id=\"T_18943_level0_row9\" class=\"row_heading level0 row9\" >condition</th>\n",
              "      <td id=\"T_18943_row9_col0\" class=\"data row9 col0\" >-0.023783</td>\n",
              "      <td id=\"T_18943_row9_col1\" class=\"data row9 col1\" >0.036362</td>\n",
              "      <td id=\"T_18943_row9_col2\" class=\"data row9 col2\" >0.028472</td>\n",
              "      <td id=\"T_18943_row9_col3\" class=\"data row9 col3\" >-0.124982</td>\n",
              "      <td id=\"T_18943_row9_col4\" class=\"data row9 col4\" >-0.058753</td>\n",
              "      <td id=\"T_18943_row9_col5\" class=\"data row9 col5\" >-0.008958</td>\n",
              "      <td id=\"T_18943_row9_col6\" class=\"data row9 col6\" >-0.263768</td>\n",
              "      <td id=\"T_18943_row9_col7\" class=\"data row9 col7\" >0.016653</td>\n",
              "      <td id=\"T_18943_row9_col8\" class=\"data row9 col8\" >0.045990</td>\n",
              "      <td id=\"T_18943_row9_col9\" class=\"data row9 col9\" >1.000000</td>\n",
              "      <td id=\"T_18943_row9_col10\" class=\"data row9 col10\" >-0.144674</td>\n",
              "      <td id=\"T_18943_row9_col11\" class=\"data row9 col11\" >-0.158214</td>\n",
              "      <td id=\"T_18943_row9_col12\" class=\"data row9 col12\" >0.174105</td>\n",
              "      <td id=\"T_18943_row9_col13\" class=\"data row9 col13\" >-0.361417</td>\n",
              "      <td id=\"T_18943_row9_col14\" class=\"data row9 col14\" >-0.060618</td>\n",
              "      <td id=\"T_18943_row9_col15\" class=\"data row9 col15\" >0.003026</td>\n",
              "      <td id=\"T_18943_row9_col16\" class=\"data row9 col16\" >-0.014941</td>\n",
              "      <td id=\"T_18943_row9_col17\" class=\"data row9 col17\" >-0.106500</td>\n",
              "    </tr>\n",
              "    <tr>\n",
              "      <th id=\"T_18943_level0_row10\" class=\"row_heading level0 row10\" >grade</th>\n",
              "      <td id=\"T_18943_row10_col0\" class=\"data row10 col0\" >0.008130</td>\n",
              "      <td id=\"T_18943_row10_col1\" class=\"data row10 col1\" >0.667434</td>\n",
              "      <td id=\"T_18943_row10_col2\" class=\"data row10 col2\" >0.356967</td>\n",
              "      <td id=\"T_18943_row10_col3\" class=\"data row10 col3\" >0.664983</td>\n",
              "      <td id=\"T_18943_row10_col4\" class=\"data row10 col4\" >0.762704</td>\n",
              "      <td id=\"T_18943_row10_col5\" class=\"data row10 col5\" >0.113621</td>\n",
              "      <td id=\"T_18943_row10_col6\" class=\"data row10 col6\" >0.458183</td>\n",
              "      <td id=\"T_18943_row10_col7\" class=\"data row10 col7\" >0.082775</td>\n",
              "      <td id=\"T_18943_row10_col8\" class=\"data row10 col8\" >0.251321</td>\n",
              "      <td id=\"T_18943_row10_col9\" class=\"data row10 col9\" >-0.144674</td>\n",
              "      <td id=\"T_18943_row10_col10\" class=\"data row10 col10\" >1.000000</td>\n",
              "      <td id=\"T_18943_row10_col11\" class=\"data row10 col11\" >0.755923</td>\n",
              "      <td id=\"T_18943_row10_col12\" class=\"data row10 col12\" >0.168392</td>\n",
              "      <td id=\"T_18943_row10_col13\" class=\"data row10 col13\" >0.446963</td>\n",
              "      <td id=\"T_18943_row10_col14\" class=\"data row10 col14\" >0.014414</td>\n",
              "      <td id=\"T_18943_row10_col15\" class=\"data row10 col15\" >-0.184862</td>\n",
              "      <td id=\"T_18943_row10_col16\" class=\"data row10 col16\" >0.114084</td>\n",
              "      <td id=\"T_18943_row10_col17\" class=\"data row10 col17\" >0.198372</td>\n",
              "    </tr>\n",
              "    <tr>\n",
              "      <th id=\"T_18943_level0_row11\" class=\"row_heading level0 row11\" >sqft_above</th>\n",
              "      <td id=\"T_18943_row11_col0\" class=\"data row11 col0\" >-0.010842</td>\n",
              "      <td id=\"T_18943_row11_col1\" class=\"data row11 col1\" >0.605567</td>\n",
              "      <td id=\"T_18943_row11_col2\" class=\"data row11 col2\" >0.477600</td>\n",
              "      <td id=\"T_18943_row11_col3\" class=\"data row11 col3\" >0.685342</td>\n",
              "      <td id=\"T_18943_row11_col4\" class=\"data row11 col4\" >0.876597</td>\n",
              "      <td id=\"T_18943_row11_col5\" class=\"data row11 col5\" >0.183512</td>\n",
              "      <td id=\"T_18943_row11_col6\" class=\"data row11 col6\" >0.523885</td>\n",
              "      <td id=\"T_18943_row11_col7\" class=\"data row11 col7\" >0.072075</td>\n",
              "      <td id=\"T_18943_row11_col8\" class=\"data row11 col8\" >0.167649</td>\n",
              "      <td id=\"T_18943_row11_col9\" class=\"data row11 col9\" >-0.158214</td>\n",
              "      <td id=\"T_18943_row11_col10\" class=\"data row11 col10\" >0.755923</td>\n",
              "      <td id=\"T_18943_row11_col11\" class=\"data row11 col11\" >1.000000</td>\n",
              "      <td id=\"T_18943_row11_col12\" class=\"data row11 col12\" >-0.051943</td>\n",
              "      <td id=\"T_18943_row11_col13\" class=\"data row11 col13\" >0.423898</td>\n",
              "      <td id=\"T_18943_row11_col14\" class=\"data row11 col14\" >0.023285</td>\n",
              "      <td id=\"T_18943_row11_col15\" class=\"data row11 col15\" >-0.261190</td>\n",
              "      <td id=\"T_18943_row11_col16\" class=\"data row11 col16\" >-0.000816</td>\n",
              "      <td id=\"T_18943_row11_col17\" class=\"data row11 col17\" >0.343803</td>\n",
              "    </tr>\n",
              "    <tr>\n",
              "      <th id=\"T_18943_level0_row12\" class=\"row_heading level0 row12\" >sqft_basement</th>\n",
              "      <td id=\"T_18943_row12_col0\" class=\"data row12 col0\" >-0.005151</td>\n",
              "      <td id=\"T_18943_row12_col1\" class=\"data row12 col1\" >0.323816</td>\n",
              "      <td id=\"T_18943_row12_col2\" class=\"data row12 col2\" >0.303093</td>\n",
              "      <td id=\"T_18943_row12_col3\" class=\"data row12 col3\" >0.283770</td>\n",
              "      <td id=\"T_18943_row12_col4\" class=\"data row12 col4\" >0.435043</td>\n",
              "      <td id=\"T_18943_row12_col5\" class=\"data row12 col5\" >0.015286</td>\n",
              "      <td id=\"T_18943_row12_col6\" class=\"data row12 col6\" >-0.245705</td>\n",
              "      <td id=\"T_18943_row12_col7\" class=\"data row12 col7\" >0.080588</td>\n",
              "      <td id=\"T_18943_row12_col8\" class=\"data row12 col8\" >0.276947</td>\n",
              "      <td id=\"T_18943_row12_col9\" class=\"data row12 col9\" >0.174105</td>\n",
              "      <td id=\"T_18943_row12_col10\" class=\"data row12 col10\" >0.168392</td>\n",
              "      <td id=\"T_18943_row12_col11\" class=\"data row12 col11\" >-0.051943</td>\n",
              "      <td id=\"T_18943_row12_col12\" class=\"data row12 col12\" >1.000000</td>\n",
              "      <td id=\"T_18943_row12_col13\" class=\"data row12 col13\" >-0.133124</td>\n",
              "      <td id=\"T_18943_row12_col14\" class=\"data row12 col14\" >0.071323</td>\n",
              "      <td id=\"T_18943_row12_col15\" class=\"data row12 col15\" >0.074845</td>\n",
              "      <td id=\"T_18943_row12_col16\" class=\"data row12 col16\" >0.110538</td>\n",
              "      <td id=\"T_18943_row12_col17\" class=\"data row12 col17\" >-0.144765</td>\n",
              "    </tr>\n",
              "    <tr>\n",
              "      <th id=\"T_18943_level0_row13\" class=\"row_heading level0 row13\" >yr_built</th>\n",
              "      <td id=\"T_18943_row13_col0\" class=\"data row13 col0\" >0.021380</td>\n",
              "      <td id=\"T_18943_row13_col1\" class=\"data row13 col1\" >0.054012</td>\n",
              "      <td id=\"T_18943_row13_col2\" class=\"data row13 col2\" >0.154178</td>\n",
              "      <td id=\"T_18943_row13_col3\" class=\"data row13 col3\" >0.506019</td>\n",
              "      <td id=\"T_18943_row13_col4\" class=\"data row13 col4\" >0.318049</td>\n",
              "      <td id=\"T_18943_row13_col5\" class=\"data row13 col5\" >0.053080</td>\n",
              "      <td id=\"T_18943_row13_col6\" class=\"data row13 col6\" >0.489319</td>\n",
              "      <td id=\"T_18943_row13_col7\" class=\"data row13 col7\" >-0.026161</td>\n",
              "      <td id=\"T_18943_row13_col8\" class=\"data row13 col8\" >-0.053440</td>\n",
              "      <td id=\"T_18943_row13_col9\" class=\"data row13 col9\" >-0.361417</td>\n",
              "      <td id=\"T_18943_row13_col10\" class=\"data row13 col10\" >0.446963</td>\n",
              "      <td id=\"T_18943_row13_col11\" class=\"data row13 col11\" >0.423898</td>\n",
              "      <td id=\"T_18943_row13_col12\" class=\"data row13 col12\" >-0.133124</td>\n",
              "      <td id=\"T_18943_row13_col13\" class=\"data row13 col13\" >1.000000</td>\n",
              "      <td id=\"T_18943_row13_col14\" class=\"data row13 col14\" >-0.224874</td>\n",
              "      <td id=\"T_18943_row13_col15\" class=\"data row13 col15\" >-0.346869</td>\n",
              "      <td id=\"T_18943_row13_col16\" class=\"data row13 col16\" >-0.148122</td>\n",
              "      <td id=\"T_18943_row13_col17\" class=\"data row13 col17\" >0.409356</td>\n",
              "    </tr>\n",
              "    <tr>\n",
              "      <th id=\"T_18943_level0_row14\" class=\"row_heading level0 row14\" >yr_renovated</th>\n",
              "      <td id=\"T_18943_row14_col0\" class=\"data row14 col0\" >-0.016907</td>\n",
              "      <td id=\"T_18943_row14_col1\" class=\"data row14 col1\" >0.126434</td>\n",
              "      <td id=\"T_18943_row14_col2\" class=\"data row14 col2\" >0.018841</td>\n",
              "      <td id=\"T_18943_row14_col3\" class=\"data row14 col3\" >0.050739</td>\n",
              "      <td id=\"T_18943_row14_col4\" class=\"data row14 col4\" >0.055363</td>\n",
              "      <td id=\"T_18943_row14_col5\" class=\"data row14 col5\" >0.007644</td>\n",
              "      <td id=\"T_18943_row14_col6\" class=\"data row14 col6\" >0.006338</td>\n",
              "      <td id=\"T_18943_row14_col7\" class=\"data row14 col7\" >0.092885</td>\n",
              "      <td id=\"T_18943_row14_col8\" class=\"data row14 col8\" >0.103917</td>\n",
              "      <td id=\"T_18943_row14_col9\" class=\"data row14 col9\" >-0.060618</td>\n",
              "      <td id=\"T_18943_row14_col10\" class=\"data row14 col10\" >0.014414</td>\n",
              "      <td id=\"T_18943_row14_col11\" class=\"data row14 col11\" >0.023285</td>\n",
              "      <td id=\"T_18943_row14_col12\" class=\"data row14 col12\" >0.071323</td>\n",
              "      <td id=\"T_18943_row14_col13\" class=\"data row14 col13\" >-0.224874</td>\n",
              "      <td id=\"T_18943_row14_col14\" class=\"data row14 col14\" >1.000000</td>\n",
              "      <td id=\"T_18943_row14_col15\" class=\"data row14 col15\" >0.064357</td>\n",
              "      <td id=\"T_18943_row14_col16\" class=\"data row14 col16\" >0.029398</td>\n",
              "      <td id=\"T_18943_row14_col17\" class=\"data row14 col17\" >-0.068372</td>\n",
              "    </tr>\n",
              "    <tr>\n",
              "      <th id=\"T_18943_level0_row15\" class=\"row_heading level0 row15\" >zipcode</th>\n",
              "      <td id=\"T_18943_row15_col0\" class=\"data row15 col0\" >-0.008224</td>\n",
              "      <td id=\"T_18943_row15_col1\" class=\"data row15 col1\" >-0.053203</td>\n",
              "      <td id=\"T_18943_row15_col2\" class=\"data row15 col2\" >-0.152668</td>\n",
              "      <td id=\"T_18943_row15_col3\" class=\"data row15 col3\" >-0.203866</td>\n",
              "      <td id=\"T_18943_row15_col4\" class=\"data row15 col4\" >-0.199430</td>\n",
              "      <td id=\"T_18943_row15_col5\" class=\"data row15 col5\" >-0.129574</td>\n",
              "      <td id=\"T_18943_row15_col6\" class=\"data row15 col6\" >-0.059121</td>\n",
              "      <td id=\"T_18943_row15_col7\" class=\"data row15 col7\" >0.030285</td>\n",
              "      <td id=\"T_18943_row15_col8\" class=\"data row15 col8\" >0.084827</td>\n",
              "      <td id=\"T_18943_row15_col9\" class=\"data row15 col9\" >0.003026</td>\n",
              "      <td id=\"T_18943_row15_col10\" class=\"data row15 col10\" >-0.184862</td>\n",
              "      <td id=\"T_18943_row15_col11\" class=\"data row15 col11\" >-0.261190</td>\n",
              "      <td id=\"T_18943_row15_col12\" class=\"data row15 col12\" >0.074845</td>\n",
              "      <td id=\"T_18943_row15_col13\" class=\"data row15 col13\" >-0.346869</td>\n",
              "      <td id=\"T_18943_row15_col14\" class=\"data row15 col14\" >0.064357</td>\n",
              "      <td id=\"T_18943_row15_col15\" class=\"data row15 col15\" >1.000000</td>\n",
              "      <td id=\"T_18943_row15_col16\" class=\"data row15 col16\" >0.267048</td>\n",
              "      <td id=\"T_18943_row15_col17\" class=\"data row15 col17\" >-0.564072</td>\n",
              "    </tr>\n",
              "    <tr>\n",
              "      <th id=\"T_18943_level0_row16\" class=\"row_heading level0 row16\" >lat</th>\n",
              "      <td id=\"T_18943_row16_col0\" class=\"data row16 col0\" >-0.001891</td>\n",
              "      <td id=\"T_18943_row16_col1\" class=\"data row16 col1\" >0.307003</td>\n",
              "      <td id=\"T_18943_row16_col2\" class=\"data row16 col2\" >-0.008931</td>\n",
              "      <td id=\"T_18943_row16_col3\" class=\"data row16 col3\" >0.024573</td>\n",
              "      <td id=\"T_18943_row16_col4\" class=\"data row16 col4\" >0.052529</td>\n",
              "      <td id=\"T_18943_row16_col5\" class=\"data row16 col5\" >-0.085683</td>\n",
              "      <td id=\"T_18943_row16_col6\" class=\"data row16 col6\" >0.049614</td>\n",
              "      <td id=\"T_18943_row16_col7\" class=\"data row16 col7\" >-0.014274</td>\n",
              "      <td id=\"T_18943_row16_col8\" class=\"data row16 col8\" >0.006157</td>\n",
              "      <td id=\"T_18943_row16_col9\" class=\"data row16 col9\" >-0.014941</td>\n",
              "      <td id=\"T_18943_row16_col10\" class=\"data row16 col10\" >0.114084</td>\n",
              "      <td id=\"T_18943_row16_col11\" class=\"data row16 col11\" >-0.000816</td>\n",
              "      <td id=\"T_18943_row16_col12\" class=\"data row16 col12\" >0.110538</td>\n",
              "      <td id=\"T_18943_row16_col13\" class=\"data row16 col13\" >-0.148122</td>\n",
              "      <td id=\"T_18943_row16_col14\" class=\"data row16 col14\" >0.029398</td>\n",
              "      <td id=\"T_18943_row16_col15\" class=\"data row16 col15\" >0.267048</td>\n",
              "      <td id=\"T_18943_row16_col16\" class=\"data row16 col16\" >1.000000</td>\n",
              "      <td id=\"T_18943_row16_col17\" class=\"data row16 col17\" >-0.135512</td>\n",
              "    </tr>\n",
              "    <tr>\n",
              "      <th id=\"T_18943_level0_row17\" class=\"row_heading level0 row17\" >long</th>\n",
              "      <td id=\"T_18943_row17_col0\" class=\"data row17 col0\" >0.020799</td>\n",
              "      <td id=\"T_18943_row17_col1\" class=\"data row17 col1\" >0.021626</td>\n",
              "      <td id=\"T_18943_row17_col2\" class=\"data row17 col2\" >0.129473</td>\n",
              "      <td id=\"T_18943_row17_col3\" class=\"data row17 col3\" >0.223042</td>\n",
              "      <td id=\"T_18943_row17_col4\" class=\"data row17 col4\" >0.240223</td>\n",
              "      <td id=\"T_18943_row17_col5\" class=\"data row17 col5\" >0.229521</td>\n",
              "      <td id=\"T_18943_row17_col6\" class=\"data row17 col6\" >0.125419</td>\n",
              "      <td id=\"T_18943_row17_col7\" class=\"data row17 col7\" >-0.041910</td>\n",
              "      <td id=\"T_18943_row17_col8\" class=\"data row17 col8\" >-0.078400</td>\n",
              "      <td id=\"T_18943_row17_col9\" class=\"data row17 col9\" >-0.106500</td>\n",
              "      <td id=\"T_18943_row17_col10\" class=\"data row17 col10\" >0.198372</td>\n",
              "      <td id=\"T_18943_row17_col11\" class=\"data row17 col11\" >0.343803</td>\n",
              "      <td id=\"T_18943_row17_col12\" class=\"data row17 col12\" >-0.144765</td>\n",
              "      <td id=\"T_18943_row17_col13\" class=\"data row17 col13\" >0.409356</td>\n",
              "      <td id=\"T_18943_row17_col14\" class=\"data row17 col14\" >-0.068372</td>\n",
              "      <td id=\"T_18943_row17_col15\" class=\"data row17 col15\" >-0.564072</td>\n",
              "      <td id=\"T_18943_row17_col16\" class=\"data row17 col16\" >-0.135512</td>\n",
              "      <td id=\"T_18943_row17_col17\" class=\"data row17 col17\" >1.000000</td>\n",
              "    </tr>\n",
              "  </tbody>\n",
              "</table>\n"
            ]
          },
          "metadata": {},
          "execution_count": 28
        }
      ]
    },
    {
      "cell_type": "code",
      "source": [
        "corr[\"price\"].sort_values(ascending = False)"
      ],
      "metadata": {
        "colab": {
          "base_uri": "https://localhost:8080/"
        },
        "id": "PH09xuGN9cQY",
        "outputId": "db5e8928-e23a-4cf3-e72e-55d861a434bb"
      },
      "execution_count": null,
      "outputs": [
        {
          "output_type": "execute_result",
          "data": {
            "text/plain": [
              "price            1.000000\n",
              "sqft_living      0.702035\n",
              "grade            0.667434\n",
              "sqft_above       0.605567\n",
              "bathrooms        0.525138\n",
              "view             0.397293\n",
              "sqft_basement    0.323816\n",
              "bedrooms         0.308350\n",
              "lat              0.307003\n",
              "waterfront       0.266369\n",
              "floors           0.256794\n",
              "yr_renovated     0.126434\n",
              "sqft_lot         0.089661\n",
              "yr_built         0.054012\n",
              "condition        0.036362\n",
              "long             0.021626\n",
              "id              -0.016762\n",
              "zipcode         -0.053203\n",
              "Name: price, dtype: float64"
            ]
          },
          "metadata": {},
          "execution_count": 11
        }
      ]
    },
    {
      "cell_type": "markdown",
      "source": [
        "As top 5 variáveis mais correlationadas com o preço sao: \n",
        "1. sqft_living, \n",
        "2. grade, \n",
        "3. sqft_above,\n",
        "4. bathrooms, \n",
        "5. view. \n",
        "\n",
        "As menos correlacionadas sao: id, zipcode, long, condition, yr_built."
      ],
      "metadata": {
        "id": "zgdUSUCJ93S-"
      }
    },
    {
      "cell_type": "markdown",
      "source": [
        "2 - Para as top 5 variáveis mais correlacionadas com o preco:\n",
        "> 1. Plote as suas distribuicoes (histograma e boxplot)\n",
        "\n"
      ],
      "metadata": {
        "id": "TiESjc3WfNa6"
      }
    },
    {
      "cell_type": "code",
      "source": [
        "fig, ax =plt.subplots(1,2)\n",
        "sns.set(rc={'figure.figsize':(11.7,8.27)})\n",
        "sns.histplot(data=df, x=\"sqft_living\", element=\"step\", ax = ax[0]).set_title(\"Histograma sqft_living\")\n",
        "sns.boxplot( y=\"sqft_living\", data=df, ax= ax[1]).set_title(\"Boxplot sqft_living\")"
      ],
      "metadata": {
        "colab": {
          "base_uri": "https://localhost:8080/",
          "height": 551
        },
        "id": "VCUvhehibVtT",
        "outputId": "744f2582-019f-4353-f173-dac96bd9aecd"
      },
      "execution_count": null,
      "outputs": [
        {
          "output_type": "execute_result",
          "data": {
            "text/plain": [
              "Text(0.5, 1.0, 'Boxplot sqft_living')"
            ]
          },
          "metadata": {},
          "execution_count": 20
        },
        {
          "output_type": "display_data",
          "data": {
            "text/plain": [
              "<Figure size 842.4x595.44 with 2 Axes>"
            ],
            "image/png": "[encoded data removed]"
          },
          "metadata": {}
        }
      ]
    },
    {
      "cell_type": "code",
      "source": [
        "fig, ax =plt.subplots(1,2)\n",
        "sns.set(rc={'figure.figsize':(11.7,8.27)})\n",
        "sns.histplot(data=df, x=\"grade\", element=\"step\", ax = ax[0]).set_title(\"Histograma grade\")\n",
        "sns.boxplot( y=\"grade\", data=df, ax= ax[1]).set_title(\"Boxplot grade\")"
      ],
      "metadata": {
        "colab": {
          "base_uri": "https://localhost:8080/",
          "height": 551
        },
        "id": "ljF-ofoz-zjJ",
        "outputId": "fc6b260d-e91d-44c1-b245-6c331978df44"
      },
      "execution_count": null,
      "outputs": [
        {
          "output_type": "execute_result",
          "data": {
            "text/plain": [
              "Text(0.5, 1.0, 'Boxplot grade')"
            ]
          },
          "metadata": {},
          "execution_count": 21
        },
        {
          "output_type": "display_data",
          "data": {
            "text/plain": [
              "<Figure size 842.4x595.44 with 2 Axes>"
            ],
            "image/png": "[encoded data removed]"
          },
          "metadata": {}
        }
      ]
    },
    {
      "cell_type": "code",
      "source": [
        "fig, ax =plt.subplots(1,2)\n",
        "sns.set(rc={'figure.figsize':(11.7,8.27)})\n",
        "sns.histplot(data=df, x=\"sqft_above\", element=\"step\", ax = ax[0]).set_title(\"Histograma sqft_above\")\n",
        "sns.boxplot( y=\"sqft_above\", data=df, ax= ax[1]).set_title(\"Boxplot sqft_above\")"
      ],
      "metadata": {
        "colab": {
          "base_uri": "https://localhost:8080/",
          "height": 551
        },
        "id": "o3qSkTjV-zoB",
        "outputId": "f6fad215-1c57-4aec-c58b-8556925f6eb9"
      },
      "execution_count": null,
      "outputs": [
        {
          "output_type": "execute_result",
          "data": {
            "text/plain": [
              "Text(0.5, 1.0, 'Boxplot sqft_above')"
            ]
          },
          "metadata": {},
          "execution_count": 23
        },
        {
          "output_type": "display_data",
          "data": {
            "text/plain": [
              "<Figure size 842.4x595.44 with 2 Axes>"
            ],
            "image/png": "[encoded data removed]"
          },
          "metadata": {}
        }
      ]
    },
    {
      "cell_type": "code",
      "source": [
        "fig, ax =plt.subplots(1,2)\n",
        "sns.set(rc={'figure.figsize':(11.7,8.27)})\n",
        "sns.histplot(data=df, x=\"bathrooms\", element=\"step\", ax = ax[0]).set_title(\"Histograma bathrooms\")\n",
        "sns.boxplot( y=\"bathrooms\", data=df, ax= ax[1]).set_title(\"Boxplot bathrooms\")"
      ],
      "metadata": {
        "colab": {
          "base_uri": "https://localhost:8080/",
          "height": 551
        },
        "id": "hjrk1Dj2_GdY",
        "outputId": "0bf752af-a2c7-49d4-ad8c-eacf75fb2707"
      },
      "execution_count": null,
      "outputs": [
        {
          "output_type": "execute_result",
          "data": {
            "text/plain": [
              "Text(0.5, 1.0, 'Boxplot bathrooms')"
            ]
          },
          "metadata": {},
          "execution_count": 24
        },
        {
          "output_type": "display_data",
          "data": {
            "text/plain": [
              "<Figure size 842.4x595.44 with 2 Axes>"
            ],
            "image/png": "[encoded data removed]"
          },
          "metadata": {}
        }
      ]
    },
    {
      "cell_type": "code",
      "source": [
        "fig, ax =plt.subplots(1,2)\n",
        "sns.set(rc={'figure.figsize':(11.7,8.27)})\n",
        "sns.histplot(data=df, x=\"view\", element=\"step\", ax = ax[0]).set_title(\"Histograma view\")\n",
        "sns.boxplot( y=\"view\", data=df, ax= ax[1]).set_title(\"Boxplot view\")"
      ],
      "metadata": {
        "colab": {
          "base_uri": "https://localhost:8080/",
          "height": 551
        },
        "id": "fpIn1stp_Gne",
        "outputId": "69329ac0-9835-4992-fdd3-2e4ba927c88a"
      },
      "execution_count": null,
      "outputs": [
        {
          "output_type": "execute_result",
          "data": {
            "text/plain": [
              "Text(0.5, 1.0, 'Boxplot view')"
            ]
          },
          "metadata": {},
          "execution_count": 25
        },
        {
          "output_type": "display_data",
          "data": {
            "text/plain": [
              "<Figure size 842.4x595.44 with 2 Axes>"
            ],
            "image/png": "[encoded data removed]"
          },
          "metadata": {}
        }
      ]
    },
    {
      "cell_type": "code",
      "source": [
        "fig, ax =plt.subplots(1,2)\n",
        "sns.set(rc={'figure.figsize':(11.7,8.27)})\n",
        "sns.histplot(data=df, x=\"price\", element=\"step\", ax = ax[0]).set_title(\"Histograma Price\")\n",
        "sns.boxplot( y=\"price\", data=df, ax= ax[1]).set_title(\"Boxplot Price\")"
      ],
      "metadata": {
        "colab": {
          "base_uri": "https://localhost:8080/",
          "height": 313
        },
        "id": "OTPNxU3VO_kw",
        "outputId": "79e4ac0f-1502-418d-973c-87a5b2ef7a15"
      },
      "execution_count": null,
      "outputs": [
        {
          "output_type": "execute_result",
          "data": {
            "text/plain": [
              "Text(0.5, 1.0, 'Boxplot Price')"
            ]
          },
          "metadata": {},
          "execution_count": 32
        },
        {
          "output_type": "display_data",
          "data": {
            "text/plain": [
              "<Figure size 432x288 with 2 Axes>"
            ],
            "image/png": "[encoded data removed]"
          },
          "metadata": {
            "needs_background": "light"
          }
        }
      ]
    },
    {
      "cell_type": "markdown",
      "source": [
        "\n",
        "> 2. Plote o scatterplot (gráfico de dispersao), contendo preco no eixo Y e a variável correlacionada no eixo X."
      ],
      "metadata": {
        "id": "pgJ_o9LuAmcm"
      }
    },
    {
      "cell_type": "code",
      "source": [
        "sns.scatterplot(data=df, x=\"sqft_living\", y=\"price\")"
      ],
      "metadata": {
        "id": "dz9sMR95A9F1",
        "colab": {
          "base_uri": "https://localhost:8080/",
          "height": 309
        },
        "outputId": "b5cea6c8-0624-4408-c00b-07379cda8c46"
      },
      "execution_count": null,
      "outputs": [
        {
          "output_type": "execute_result",
          "data": {
            "text/plain": [
              "<matplotlib.axes._subplots.AxesSubplot at 0x7f1dbb873e10>"
            ]
          },
          "metadata": {},
          "execution_count": 9
        },
        {
          "output_type": "display_data",
          "data": {
            "text/plain": [
              "<Figure size 432x288 with 1 Axes>"
            ],
            "image/png": "[encoded data removed]"
          },
          "metadata": {
            "needs_background": "light"
          }
        }
      ]
    },
    {
      "cell_type": "code",
      "source": [
        "sns.scatterplot(data=df, x=\"grade\", y=\"price\")"
      ],
      "metadata": {
        "id": "cREULNKeA9IT",
        "colab": {
          "base_uri": "https://localhost:8080/",
          "height": 307
        },
        "outputId": "608ce1b2-75ce-40e4-e55c-aaf616ede7fa"
      },
      "execution_count": null,
      "outputs": [
        {
          "output_type": "execute_result",
          "data": {
            "text/plain": [
              "<matplotlib.axes._subplots.AxesSubplot at 0x7f1dbb910c90>"
            ]
          },
          "metadata": {},
          "execution_count": 8
        },
        {
          "output_type": "display_data",
          "data": {
            "text/plain": [
              "<Figure size 432x288 with 1 Axes>"
            ],
            "image/png": "[encoded data removed]"
          },
          "metadata": {
            "needs_background": "light"
          }
        }
      ]
    },
    {
      "cell_type": "code",
      "source": [
        "sns.scatterplot(data=df, x=\"sqft_above\", y=\"price\")"
      ],
      "metadata": {
        "id": "LHoZvMUWA9K_",
        "colab": {
          "base_uri": "https://localhost:8080/",
          "height": 309
        },
        "outputId": "b90bbd89-a656-484d-db12-5da635759ad4"
      },
      "execution_count": null,
      "outputs": [
        {
          "output_type": "execute_result",
          "data": {
            "text/plain": [
              "<matplotlib.axes._subplots.AxesSubplot at 0x7f1dbbe32b90>"
            ]
          },
          "metadata": {},
          "execution_count": 7
        },
        {
          "output_type": "display_data",
          "data": {
            "text/plain": [
              "<Figure size 432x288 with 1 Axes>"
            ],
            "image/png": "[encoded data removed]"
          },
          "metadata": {
            "needs_background": "light"
          }
        }
      ]
    },
    {
      "cell_type": "code",
      "source": [
        "sns.scatterplot(data=df, x=\"bathrooms\", y=\"price\")"
      ],
      "metadata": {
        "id": "T4MOnq8BA9eP",
        "colab": {
          "base_uri": "https://localhost:8080/",
          "height": 307
        },
        "outputId": "1997dafb-904c-46a2-a372-a5b552ca2aa1"
      },
      "execution_count": null,
      "outputs": [
        {
          "output_type": "execute_result",
          "data": {
            "text/plain": [
              "<matplotlib.axes._subplots.AxesSubplot at 0x7f1dbbe416d0>"
            ]
          },
          "metadata": {},
          "execution_count": 6
        },
        {
          "output_type": "display_data",
          "data": {
            "text/plain": [
              "<Figure size 432x288 with 1 Axes>"
            ],
            "image/png": "[encoded data removed]"
          },
          "metadata": {
            "needs_background": "light"
          }
        }
      ]
    },
    {
      "cell_type": "code",
      "source": [
        "sns.scatterplot(data=df, x=\"view\", y=\"price\")"
      ],
      "metadata": {
        "id": "Lmx28yhpA9ru",
        "colab": {
          "base_uri": "https://localhost:8080/",
          "height": 307
        },
        "outputId": "18147e49-22ab-4cfa-b25e-d1856037c489"
      },
      "execution_count": null,
      "outputs": [
        {
          "output_type": "execute_result",
          "data": {
            "text/plain": [
              "<matplotlib.axes._subplots.AxesSubplot at 0x7f1dbbf5e050>"
            ]
          },
          "metadata": {},
          "execution_count": 5
        },
        {
          "output_type": "display_data",
          "data": {
            "text/plain": [
              "<Figure size 432x288 with 1 Axes>"
            ],
            "image/png": "[encoded data removed]"
          },
          "metadata": {
            "needs_background": "light"
          }
        }
      ]
    },
    {
      "cell_type": "markdown",
      "source": [
        "\n",
        "> 3. Para cada uma das 5 variáveis faca uma regressao linear simples sendo preco a variável resposta (y) e interprete os resultados."
      ],
      "metadata": {
        "id": "Wrh4ranXBCrp"
      }
    },
    {
      "cell_type": "markdown",
      "source": [
        "Limpeza de Outliers e Normalização:\n",
        "- Utilizamos a normalizacao geralmente quando temos variáveis com escalas muito diferentes e/ou quando temos variáveis com distribuicao diferente de normal, e isso é um pressuposto do modelo em questao. \n",
        "- Outliers: devemos tirar quando\n",
        "  1. Altera o resultado da regressão (rodar com e sem e comparar o resultado)\n",
        "  2. Cria uma relação que nao existe nos dados\n",
        "  3. Quando gera um viés na sua regressão\n",
        "\n",
        "https://humansofdata.atlan.com/2018/03/when-delete-outliers-dataset/#:~:text=If%20the%20outlier%20creates%20a,the%20basis%20for%20your%20results."
      ],
      "metadata": {
        "id": "f6MGB8rWVbmE"
      }
    },
    {
      "cell_type": "code",
      "source": [
        "import statsmodels.api as sm"
      ],
      "metadata": {
        "id": "5XB1cFpQBIeZ"
      },
      "execution_count": null,
      "outputs": []
    },
    {
      "cell_type": "code",
      "source": [
        "Y = df['price']"
      ],
      "metadata": {
        "id": "tR8rb1hoVga4"
      },
      "execution_count": null,
      "outputs": []
    },
    {
      "cell_type": "code",
      "source": [
        "def calculate_regression(df,Y,X_name = 'bathrooms', const = True, normalize = True, logscale = False):\n",
        "  if (normalize == True):\n",
        "    scaler = StandardScaler() \n",
        "    df_scale = pd.DataFrame(scaler.fit_transform(df[[\"price\",X_name]]),columns = [\"price\",X_name])\n",
        "    Y = df_scale[\"price\"]\n",
        "    X = df_scale[X_name]\n",
        "  else:\n",
        "    X = df[X_name]  \n",
        "  if (logscale == True):\n",
        "    Y = np.log(df[\"price\"])\n",
        "    X = np.log(df[X_name])\n",
        "  if (const == True):\n",
        "    X = sm.add_constant(X)\n",
        "  model = sm.OLS(Y,X)\n",
        "  results = model.fit()\n",
        "  print(results.summary())\n",
        "  return results"
      ],
      "metadata": {
        "id": "XAAokJVzBJXg"
      },
      "execution_count": null,
      "outputs": []
    },
    {
      "cell_type": "markdown",
      "source": [
        "### REGRESSÃO SIMPLES\n",
        "\n",
        "1. Geralmente rodamos a regressao primeiramente com a constante b (y = ax + b). Porém devemos verificar via teste t, se a constante realmente impacta na variável de interesse. Caso o p-valor < 0.05, esse variável é estatisticamente significativa.\n",
        "\n",
        "2. Normalizacao: Quando temos escalas muito diferentes podemos utilizar a normalizacao. Um outro recurso muitas vezes utilizado, é utilizar uma transformacao logaritmica para diminuir o fator da escala.\n"
      ],
      "metadata": {
        "id": "roNZLYiOjkCo"
      }
    },
    {
      "cell_type": "markdown",
      "source": [
        "SQFT LIVING"
      ],
      "metadata": {
        "id": "9QvvlSkEnjgJ"
      }
    },
    {
      "cell_type": "code",
      "source": [
        "from sklearn.preprocessing import StandardScaler"
      ],
      "metadata": {
        "id": "Pk4WoCTHL9Ww"
      },
      "execution_count": null,
      "outputs": []
    },
    {
      "cell_type": "code",
      "source": [
        "reg = calculate_regression(df,Y,X_name = 'sqft_living', const = True, normalize = False)"
      ],
      "metadata": {
        "colab": {
          "base_uri": "https://localhost:8080/"
        },
        "id": "07pgNDvVgoq1",
        "outputId": "abe5f6da-ebb4-48be-9de0-67ed50aed7e9"
      },
      "execution_count": null,
      "outputs": [
        {
          "output_type": "stream",
          "name": "stdout",
          "text": [
            "                            OLS Regression Results                            \n",
            "==============================================================================\n",
            "Dep. Variable:                  price   R-squared:                       0.493\n",
            "Model:                            OLS   Adj. R-squared:                  0.493\n",
            "Method:                 Least Squares   F-statistic:                 2.100e+04\n",
            "Date:                Fri, 18 Mar 2022   Prob (F-statistic):               0.00\n",
            "Time:                        22:32:28   Log-Likelihood:            -3.0027e+05\n",
            "No. Observations:               21613   AIC:                         6.005e+05\n",
            "Df Residuals:                   21611   BIC:                         6.006e+05\n",
            "Df Model:                           1                                         \n",
            "Covariance Type:            nonrobust                                         \n",
            "===============================================================================\n",
            "                  coef    std err          t      P>|t|      [0.025      0.975]\n",
            "-------------------------------------------------------------------------------\n",
            "const       -4.358e+04   4402.690     -9.899      0.000   -5.22e+04    -3.5e+04\n",
            "sqft_living   280.6236      1.936    144.920      0.000     276.828     284.419\n",
            "==============================================================================\n",
            "Omnibus:                    14832.490   Durbin-Watson:                   1.983\n",
            "Prob(Omnibus):                  0.000   Jarque-Bera (JB):           546444.713\n",
            "Skew:                           2.824   Prob(JB):                         0.00\n",
            "Kurtosis:                      26.977   Cond. No.                     5.63e+03\n",
            "==============================================================================\n",
            "\n",
            "Warnings:\n",
            "[1] Standard Errors assume that the covariance matrix of the errors is correctly specified.\n",
            "[2] The condition number is large, 5.63e+03. This might indicate that there are\n",
            "strong multicollinearity or other numerical problems.\n"
          ]
        },
        {
          "output_type": "stream",
          "name": "stderr",
          "text": [
            "/usr/local/lib/python3.7/dist-packages/statsmodels/tsa/tsatools.py:117: FutureWarning: In a future version of pandas all arguments of concat except for the argument 'objs' will be keyword-only\n",
            "  x = pd.concat(x[::order], 1)\n"
          ]
        }
      ]
    },
    {
      "cell_type": "markdown",
      "source": [
        "Interpretando a tabela acima:\n",
        "- Constant : é estatisticamente significativa, de acordo com o teste t\n",
        "- sqft living : é estatisticamente significativa. \n",
        "\n",
        "A cada 1 sqft em área habitável aumentamos o preço do imóvel em 280 USD."
      ],
      "metadata": {
        "id": "KJb6QYSgkjTP"
      }
    },
    {
      "cell_type": "code",
      "source": [
        "reg = calculate_regression(df,Y,X_name = 'sqft_living', const = True, normalize = True, logscale = False)"
      ],
      "metadata": {
        "colab": {
          "base_uri": "https://localhost:8080/"
        },
        "id": "trR6svFAh0vy",
        "outputId": "7ec1e169-5eec-448d-99ae-00709db975a1"
      },
      "execution_count": null,
      "outputs": [
        {
          "output_type": "stream",
          "name": "stdout",
          "text": [
            "                            OLS Regression Results                            \n",
            "==============================================================================\n",
            "Dep. Variable:                  price   R-squared:                       0.493\n",
            "Model:                            OLS   Adj. R-squared:                  0.493\n",
            "Method:                 Least Squares   F-statistic:                 2.100e+04\n",
            "Date:                Fri, 18 Mar 2022   Prob (F-statistic):               0.00\n",
            "Time:                        22:40:05   Log-Likelihood:                -23330.\n",
            "No. Observations:               21613   AIC:                         4.666e+04\n",
            "Df Residuals:                   21611   BIC:                         4.668e+04\n",
            "Df Model:                           1                                         \n",
            "Covariance Type:            nonrobust                                         \n",
            "===============================================================================\n",
            "                  coef    std err          t      P>|t|      [0.025      0.975]\n",
            "-------------------------------------------------------------------------------\n",
            "const        -2.17e-17      0.005  -4.48e-15      1.000      -0.009       0.009\n",
            "sqft_living     0.7020      0.005    144.920      0.000       0.693       0.712\n",
            "==============================================================================\n",
            "Omnibus:                    14832.490   Durbin-Watson:                   1.983\n",
            "Prob(Omnibus):                  0.000   Jarque-Bera (JB):           546444.713\n",
            "Skew:                           2.824   Prob(JB):                         0.00\n",
            "Kurtosis:                      26.977   Cond. No.                         1.00\n",
            "==============================================================================\n",
            "\n",
            "Warnings:\n",
            "[1] Standard Errors assume that the covariance matrix of the errors is correctly specified.\n"
          ]
        },
        {
          "output_type": "stream",
          "name": "stderr",
          "text": [
            "/usr/local/lib/python3.7/dist-packages/statsmodels/tsa/tsatools.py:117: FutureWarning: In a future version of pandas all arguments of concat except for the argument 'objs' will be keyword-only\n",
            "  x = pd.concat(x[::order], 1)\n"
          ]
        }
      ]
    },
    {
      "cell_type": "markdown",
      "source": [
        "Interpretando a tabela acima:\n",
        "- Constant : nao é estatisticamente significativa, de acordo com o teste t\n",
        "- sqft living : é estatisticamente significativa.\n",
        "\n",
        "A cada 1 sqft em área habitável aumentamos o preço do imóvel em 0.7020 USD em uma escala de normalizada de 0 a 1."
      ],
      "metadata": {
        "id": "F8vV_TDrlG6s"
      }
    },
    {
      "cell_type": "markdown",
      "source": [
        "Em termos de interpretabilidade, o melhor é manter a variável com o valor original ou utilizar o log (se convertermos X e Y em log a interpretacao se torna em variacao % ou elasticidade)"
      ],
      "metadata": {
        "id": "sF_h8PrAluVt"
      }
    },
    {
      "cell_type": "code",
      "source": [
        "reg = calculate_regression(df,Y,X_name = 'sqft_living', const = True, normalize = False, logscale = True)"
      ],
      "metadata": {
        "colab": {
          "base_uri": "https://localhost:8080/"
        },
        "id": "w1DK5yd2ORB0",
        "outputId": "5e839500-d0a5-496c-df5d-88041baf92ea"
      },
      "execution_count": null,
      "outputs": [
        {
          "output_type": "stream",
          "name": "stdout",
          "text": [
            "                            OLS Regression Results                            \n",
            "==============================================================================\n",
            "Dep. Variable:                  price   R-squared:                       0.456\n",
            "Model:                            OLS   Adj. R-squared:                  0.455\n",
            "Method:                 Least Squares   F-statistic:                 1.808e+04\n",
            "Date:                Fri, 18 Mar 2022   Prob (F-statistic):               0.00\n",
            "Time:                        22:41:59   Log-Likelihood:                -10240.\n",
            "No. Observations:               21613   AIC:                         2.048e+04\n",
            "Df Residuals:                   21611   BIC:                         2.050e+04\n",
            "Df Model:                           1                                         \n",
            "Covariance Type:            nonrobust                                         \n",
            "===============================================================================\n",
            "                  coef    std err          t      P>|t|      [0.025      0.975]\n",
            "-------------------------------------------------------------------------------\n",
            "const           6.7299      0.047    143.001      0.000       6.638       6.822\n",
            "sqft_living     0.8368      0.006    134.459      0.000       0.825       0.849\n",
            "==============================================================================\n",
            "Omnibus:                      123.344   Durbin-Watson:                   1.978\n",
            "Prob(Omnibus):                  0.000   Jarque-Bera (JB):              113.759\n",
            "Skew:                           0.142   Prob(JB):                     1.98e-25\n",
            "Kurtosis:                       2.787   Cond. No.                         137.\n",
            "==============================================================================\n",
            "\n",
            "Warnings:\n",
            "[1] Standard Errors assume that the covariance matrix of the errors is correctly specified.\n"
          ]
        },
        {
          "output_type": "stream",
          "name": "stderr",
          "text": [
            "/usr/local/lib/python3.7/dist-packages/statsmodels/tsa/tsatools.py:117: FutureWarning: In a future version of pandas all arguments of concat except for the argument 'objs' will be keyword-only\n",
            "  x = pd.concat(x[::order], 1)\n"
          ]
        }
      ]
    },
    {
      "cell_type": "markdown",
      "source": [
        "Interpretando a tabela acima:\n",
        "- Constant :  é estatisticamente significativa, de acordo com o teste t\n",
        "- sqft living : é estatisticamente significativa. \n",
        "\n",
        "A cada 1% a mais em sqft em área habitável aumentamos o preço do imóvel em 0.83% USD"
      ],
      "metadata": {
        "id": "EhaXJTH3nE7p"
      }
    },
    {
      "cell_type": "code",
      "source": [
        "def plot_regression(X,Y, reg):\n",
        "  plt.scatter(X,Y)\n",
        "\n",
        "  #X_plot = np.linspace(0,1,100)\n",
        "  plt.plot(X, X * reg.params[1] + reg.params[0])\n",
        "\n",
        "  plt.show()"
      ],
      "metadata": {
        "id": "zzWHmld4nnVw"
      },
      "execution_count": null,
      "outputs": []
    },
    {
      "cell_type": "code",
      "source": [
        "plot_regression(df[\"sqft_living\"],Y, reg)"
      ],
      "metadata": {
        "colab": {
          "base_uri": "https://localhost:8080/",
          "height": 511
        },
        "id": "VXWGHer11Kc1",
        "outputId": "18f60d53-da9f-4671-f459-9c275726f52a"
      },
      "execution_count": null,
      "outputs": [
        {
          "output_type": "display_data",
          "data": {
            "text/plain": [
              "<Figure size 842.4x595.44 with 1 Axes>"
            ],
            "image/png": "[encoded data removed]"
          },
          "metadata": {}
        }
      ]
    },
    {
      "cell_type": "markdown",
      "source": [
        "GRADE"
      ],
      "metadata": {
        "id": "RgIX0wFxnhxr"
      }
    },
    {
      "cell_type": "code",
      "source": [
        "reg = calculate_regression(df,Y,X_name = 'grade', const = True, normalize = False, logscale = True)"
      ],
      "metadata": {
        "colab": {
          "base_uri": "https://localhost:8080/"
        },
        "id": "C28NrIb6nDI8",
        "outputId": "4813a6fd-eac7-40e7-9fa1-1b97e0d78efe"
      },
      "execution_count": null,
      "outputs": [
        {
          "output_type": "stream",
          "name": "stdout",
          "text": [
            "                            OLS Regression Results                            \n",
            "==============================================================================\n",
            "Dep. Variable:                  price   R-squared:                       0.479\n",
            "Model:                            OLS   Adj. R-squared:                  0.479\n",
            "Method:                 Least Squares   F-statistic:                 1.984e+04\n",
            "Date:                Fri, 18 Mar 2022   Prob (F-statistic):               0.00\n",
            "Time:                        18:39:37   Log-Likelihood:                -9772.6\n",
            "No. Observations:               21613   AIC:                         1.955e+04\n",
            "Df Residuals:                   21611   BIC:                         1.957e+04\n",
            "Df Model:                           1                                         \n",
            "Covariance Type:            nonrobust                                         \n",
            "==============================================================================\n",
            "                 coef    std err          t      P>|t|      [0.025      0.975]\n",
            "------------------------------------------------------------------------------\n",
            "const          8.1425      0.035    233.137      0.000       8.074       8.211\n",
            "grade          2.4233      0.017    140.838      0.000       2.390       2.457\n",
            "==============================================================================\n",
            "Omnibus:                      454.296   Durbin-Watson:                   1.966\n",
            "Prob(Omnibus):                  0.000   Jarque-Bera (JB):              611.013\n",
            "Skew:                           0.262   Prob(JB):                    2.09e-133\n",
            "Kurtosis:                       3.636   Cond. No.                         34.0\n",
            "==============================================================================\n",
            "\n",
            "Warnings:\n",
            "[1] Standard Errors assume that the covariance matrix of the errors is correctly specified.\n"
          ]
        },
        {
          "output_type": "stream",
          "name": "stderr",
          "text": [
            "/usr/local/lib/python3.7/dist-packages/statsmodels/tsa/tsatools.py:117: FutureWarning: In a future version of pandas all arguments of concat except for the argument 'objs' will be keyword-only\n",
            "  x = pd.concat(x[::order], 1)\n"
          ]
        }
      ]
    },
    {
      "cell_type": "code",
      "source": [
        "plot_regression(df[\"grade\"],Y, reg)"
      ],
      "metadata": {
        "colab": {
          "base_uri": "https://localhost:8080/",
          "height": 511
        },
        "id": "X0dnYzcin4P3",
        "outputId": "91bcad26-0dae-40f2-a5e3-6d7f8e75b6b2"
      },
      "execution_count": null,
      "outputs": [
        {
          "output_type": "display_data",
          "data": {
            "text/plain": [
              "<Figure size 842.4x595.44 with 1 Axes>"
            ],
            "image/png": "[encoded data removed]"
          },
          "metadata": {}
        }
      ]
    },
    {
      "cell_type": "markdown",
      "source": [
        "SQFT ABOVE"
      ],
      "metadata": {
        "id": "mDRwj5lMn4fR"
      }
    },
    {
      "cell_type": "code",
      "source": [
        "reg = calculate_regression(df,Y,X_name = 'sqft_above', const = True, normalize = False)"
      ],
      "metadata": {
        "colab": {
          "base_uri": "https://localhost:8080/"
        },
        "id": "nj5VF2vJn6Pj",
        "outputId": "fd07bf1b-3de0-4d12-abb9-4f2634750788"
      },
      "execution_count": null,
      "outputs": [
        {
          "output_type": "stream",
          "name": "stdout",
          "text": [
            "                            OLS Regression Results                            \n",
            "==============================================================================\n",
            "Dep. Variable:                  price   R-squared:                       0.367\n",
            "Model:                            OLS   Adj. R-squared:                  0.367\n",
            "Method:                 Least Squares   F-statistic:                 1.251e+04\n",
            "Date:                Fri, 18 Mar 2022   Prob (F-statistic):               0.00\n",
            "Time:                        02:22:59   Log-Likelihood:            -3.0267e+05\n",
            "No. Observations:               21613   AIC:                         6.053e+05\n",
            "Df Residuals:                   21611   BIC:                         6.054e+05\n",
            "Df Model:                           1                                         \n",
            "Covariance Type:            nonrobust                                         \n",
            "==============================================================================\n",
            "                 coef    std err          t      P>|t|      [0.025      0.975]\n",
            "------------------------------------------------------------------------------\n",
            "const       5.995e+04   4729.812     12.676      0.000    5.07e+04    6.92e+04\n",
            "sqft_above   268.4732      2.400    111.866      0.000     263.769     273.177\n",
            "==============================================================================\n",
            "Omnibus:                    16520.510   Durbin-Watson:                   1.987\n",
            "Prob(Omnibus):                  0.000   Jarque-Bera (JB):           732831.469\n",
            "Skew:                           3.268   Prob(JB):                         0.00\n",
            "Kurtosis:                      30.768   Cond. No.                     4.69e+03\n",
            "==============================================================================\n",
            "\n",
            "Warnings:\n",
            "[1] Standard Errors assume that the covariance matrix of the errors is correctly specified.\n",
            "[2] The condition number is large, 4.69e+03. This might indicate that there are\n",
            "strong multicollinearity or other numerical problems.\n"
          ]
        },
        {
          "output_type": "stream",
          "name": "stderr",
          "text": [
            "/usr/local/lib/python3.7/dist-packages/statsmodels/tsa/tsatools.py:117: FutureWarning: In a future version of pandas all arguments of concat except for the argument 'objs' will be keyword-only\n",
            "  x = pd.concat(x[::order], 1)\n"
          ]
        }
      ]
    },
    {
      "cell_type": "code",
      "source": [
        "plot_regression(df[\"sqft_above\"],Y, reg)"
      ],
      "metadata": {
        "colab": {
          "base_uri": "https://localhost:8080/",
          "height": 511
        },
        "id": "65Ts5y-yn6lW",
        "outputId": "beeedf84-49c2-406a-c8ed-f5b461f116fe"
      },
      "execution_count": null,
      "outputs": [
        {
          "output_type": "display_data",
          "data": {
            "text/plain": [
              "<Figure size 842.4x595.44 with 1 Axes>"
            ],
            "image/png": "[encoded data removed]"
          },
          "metadata": {}
        }
      ]
    },
    {
      "cell_type": "markdown",
      "source": [
        "BATHROOMS"
      ],
      "metadata": {
        "id": "Dg8eacvyn6vd"
      }
    },
    {
      "cell_type": "code",
      "source": [
        "reg = calculate_regression(df,Y,X_name = 'bathrooms', const = True, normalize = False)"
      ],
      "metadata": {
        "colab": {
          "base_uri": "https://localhost:8080/"
        },
        "id": "Jb-NBJZBn-yg",
        "outputId": "9306ca93-28a9-452c-fd77-baeaf28fd691"
      },
      "execution_count": null,
      "outputs": [
        {
          "output_type": "stream",
          "name": "stdout",
          "text": [
            "                            OLS Regression Results                            \n",
            "==============================================================================\n",
            "Dep. Variable:                  price   R-squared:                       0.276\n",
            "Model:                            OLS   Adj. R-squared:                  0.276\n",
            "Method:                 Least Squares   F-statistic:                     8229.\n",
            "Date:                Fri, 18 Mar 2022   Prob (F-statistic):               0.00\n",
            "Time:                        02:25:26   Log-Likelihood:            -3.0412e+05\n",
            "No. Observations:               21613   AIC:                         6.082e+05\n",
            "Df Residuals:                   21611   BIC:                         6.083e+05\n",
            "Df Model:                           1                                         \n",
            "Covariance Type:            nonrobust                                         \n",
            "==============================================================================\n",
            "                 coef    std err          t      P>|t|      [0.025      0.975]\n",
            "------------------------------------------------------------------------------\n",
            "const       1.071e+04   6210.669      1.724      0.085   -1465.060    2.29e+04\n",
            "bathrooms   2.503e+05   2759.528     90.714      0.000    2.45e+05    2.56e+05\n",
            "==============================================================================\n",
            "Omnibus:                    17286.361   Durbin-Watson:                   1.960\n",
            "Prob(Omnibus):                  0.000   Jarque-Bera (JB):           887102.351\n",
            "Skew:                           3.458   Prob(JB):                         0.00\n",
            "Kurtosis:                      33.614   Cond. No.                         7.75\n",
            "==============================================================================\n",
            "\n",
            "Warnings:\n",
            "[1] Standard Errors assume that the covariance matrix of the errors is correctly specified.\n"
          ]
        },
        {
          "output_type": "stream",
          "name": "stderr",
          "text": [
            "/usr/local/lib/python3.7/dist-packages/statsmodels/tsa/tsatools.py:117: FutureWarning: In a future version of pandas all arguments of concat except for the argument 'objs' will be keyword-only\n",
            "  x = pd.concat(x[::order], 1)\n"
          ]
        }
      ]
    },
    {
      "cell_type": "code",
      "source": [
        "plot_regression(df[\"bathrooms\"],Y, reg)"
      ],
      "metadata": {
        "colab": {
          "base_uri": "https://localhost:8080/",
          "height": 511
        },
        "id": "bv5JYNF8n_Eh",
        "outputId": "030bdb74-489e-4e98-d16e-0bd11ce37bef"
      },
      "execution_count": null,
      "outputs": [
        {
          "output_type": "display_data",
          "data": {
            "text/plain": [
              "<Figure size 842.4x595.44 with 1 Axes>"
            ],
            "image/png": "[encoded data removed]"
          },
          "metadata": {}
        }
      ]
    },
    {
      "cell_type": "markdown",
      "source": [
        "VIEW"
      ],
      "metadata": {
        "id": "EwKfIjsNn_iP"
      }
    },
    {
      "cell_type": "code",
      "source": [
        "reg = calculate_regression(df,Y,X_name = 'view', const = True, normalize = False)"
      ],
      "metadata": {
        "colab": {
          "base_uri": "https://localhost:8080/"
        },
        "id": "ZivAF7GqoAfD",
        "outputId": "c4cacb0c-f65e-418e-d3d7-e7c1a03c7cb0"
      },
      "execution_count": null,
      "outputs": [
        {
          "output_type": "stream",
          "name": "stdout",
          "text": [
            "                            OLS Regression Results                            \n",
            "==============================================================================\n",
            "Dep. Variable:                  price   R-squared:                       0.158\n",
            "Model:                            OLS   Adj. R-squared:                  0.158\n",
            "Method:                 Least Squares   F-statistic:                     4050.\n",
            "Date:                Fri, 18 Mar 2022   Prob (F-statistic):               0.00\n",
            "Time:                        02:25:48   Log-Likelihood:            -3.0575e+05\n",
            "No. Observations:               21613   AIC:                         6.115e+05\n",
            "Df Residuals:                   21611   BIC:                         6.115e+05\n",
            "Df Model:                           1                                         \n",
            "Covariance Type:            nonrobust                                         \n",
            "==============================================================================\n",
            "                 coef    std err          t      P>|t|      [0.025      0.975]\n",
            "------------------------------------------------------------------------------\n",
            "const       4.955e+05   2396.476    206.759      0.000    4.91e+05       5e+05\n",
            "view        1.903e+05   2990.660     63.643      0.000    1.84e+05    1.96e+05\n",
            "==============================================================================\n",
            "Omnibus:                    17927.231   Durbin-Watson:                   1.960\n",
            "Prob(Omnibus):                  0.000   Jarque-Bera (JB):          1034210.275\n",
            "Skew:                           3.625   Prob(JB):                         0.00\n",
            "Kurtosis:                      36.104   Cond. No.                         1.46\n",
            "==============================================================================\n",
            "\n",
            "Warnings:\n",
            "[1] Standard Errors assume that the covariance matrix of the errors is correctly specified.\n"
          ]
        },
        {
          "output_type": "stream",
          "name": "stderr",
          "text": [
            "/usr/local/lib/python3.7/dist-packages/statsmodels/tsa/tsatools.py:117: FutureWarning: In a future version of pandas all arguments of concat except for the argument 'objs' will be keyword-only\n",
            "  x = pd.concat(x[::order], 1)\n"
          ]
        }
      ]
    },
    {
      "cell_type": "code",
      "source": [
        "plot_regression(df[\"view\"],Y, reg)"
      ],
      "metadata": {
        "colab": {
          "base_uri": "https://localhost:8080/",
          "height": 511
        },
        "id": "viLZdfVl2GgE",
        "outputId": "84bae1ae-887f-413e-e241-f2d267f66b21"
      },
      "execution_count": null,
      "outputs": [
        {
          "output_type": "display_data",
          "data": {
            "text/plain": [
              "<Figure size 842.4x595.44 with 1 Axes>"
            ],
            "image/png": "[encoded data removed]"
          },
          "metadata": {}
        }
      ]
    },
    {
      "cell_type": "markdown",
      "source": [
        "Exemplo de função para remocao de outliers"
      ],
      "metadata": {
        "id": "GKLXHE6htSj6"
      }
    },
    {
      "cell_type": "code",
      "source": [
        "def remove_outlier(df_in, col_name):\n",
        "    q1 = df_in[col_name].quantile(0.25)\n",
        "    q3 = df_in[col_name].quantile(0.75)\n",
        "    iqr = q3-q1 #Interquartile range\n",
        "    fence_low  = q1-1.5*iqr\n",
        "    fence_high = q3+1.5*iqr\n",
        "    df_out = df_in.loc[(df_in[col_name] > fence_low) & (df_in[col_name] < fence_high)]\n",
        "    return df_out"
      ],
      "metadata": {
        "id": "CqoY1v2ztWJR"
      },
      "execution_count": null,
      "outputs": []
    },
    {
      "cell_type": "code",
      "source": [
        "new_df = remove_outlier(df,\"bathrooms\")"
      ],
      "metadata": {
        "id": "jN3laNVdtWxR"
      },
      "execution_count": null,
      "outputs": []
    },
    {
      "cell_type": "code",
      "source": [
        "reg = calculate_regression(new_df,new_df[\"price\"],X_name = 'bathrooms', const = True, normalize = False,logscale = False)"
      ],
      "metadata": {
        "colab": {
          "base_uri": "https://localhost:8080/"
        },
        "id": "reQCXUwdtnd7",
        "outputId": "6fbd92e5-db16-4184-fe39-6f2e2f982e6f"
      },
      "execution_count": null,
      "outputs": [
        {
          "output_type": "stream",
          "name": "stdout",
          "text": [
            "                            OLS Regression Results                            \n",
            "==============================================================================\n",
            "Dep. Variable:                  price   R-squared:                       0.200\n",
            "Model:                            OLS   Adj. R-squared:                  0.200\n",
            "Method:                 Least Squares   F-statistic:                     5260.\n",
            "Date:                Fri, 18 Mar 2022   Prob (F-statistic):               0.00\n",
            "Time:                        20:29:08   Log-Likelihood:            -2.9321e+05\n",
            "No. Observations:               21042   AIC:                         5.864e+05\n",
            "Df Residuals:                   21040   BIC:                         5.864e+05\n",
            "Df Model:                           1                                         \n",
            "Covariance Type:            nonrobust                                         \n",
            "==============================================================================\n",
            "                 coef    std err          t      P>|t|      [0.025      0.975]\n",
            "------------------------------------------------------------------------------\n",
            "const       1.075e+05   5942.762     18.082      0.000    9.58e+04    1.19e+05\n",
            "bathrooms   1.986e+05   2738.152     72.525      0.000    1.93e+05    2.04e+05\n",
            "==============================================================================\n",
            "Omnibus:                    12813.825   Durbin-Watson:                   1.953\n",
            "Prob(Omnibus):                  0.000   Jarque-Bera (JB):           216624.249\n",
            "Skew:                           2.630   Prob(JB):                         0.00\n",
            "Kurtosis:                      17.813   Cond. No.                         8.20\n",
            "==============================================================================\n",
            "\n",
            "Warnings:\n",
            "[1] Standard Errors assume that the covariance matrix of the errors is correctly specified.\n"
          ]
        },
        {
          "output_type": "stream",
          "name": "stderr",
          "text": [
            "/usr/local/lib/python3.7/dist-packages/statsmodels/tsa/tsatools.py:117: FutureWarning: In a future version of pandas all arguments of concat except for the argument 'objs' will be keyword-only\n",
            "  x = pd.concat(x[::order], 1)\n"
          ]
        }
      ]
    },
    {
      "cell_type": "code",
      "source": [
        "reg = calculate_regression(df,df[\"price\"],X_name = 'bathrooms', const = True, normalize = False,logscale = False)"
      ],
      "metadata": {
        "colab": {
          "base_uri": "https://localhost:8080/"
        },
        "id": "TAkisAJztxnV",
        "outputId": "ca0e4fe2-e6ef-4b96-c205-948cd4f8462b"
      },
      "execution_count": null,
      "outputs": [
        {
          "output_type": "stream",
          "name": "stdout",
          "text": [
            "                            OLS Regression Results                            \n",
            "==============================================================================\n",
            "Dep. Variable:                  price   R-squared:                       0.276\n",
            "Model:                            OLS   Adj. R-squared:                  0.276\n",
            "Method:                 Least Squares   F-statistic:                     8229.\n",
            "Date:                Fri, 18 Mar 2022   Prob (F-statistic):               0.00\n",
            "Time:                        20:29:46   Log-Likelihood:            -3.0412e+05\n",
            "No. Observations:               21613   AIC:                         6.082e+05\n",
            "Df Residuals:                   21611   BIC:                         6.083e+05\n",
            "Df Model:                           1                                         \n",
            "Covariance Type:            nonrobust                                         \n",
            "==============================================================================\n",
            "                 coef    std err          t      P>|t|      [0.025      0.975]\n",
            "------------------------------------------------------------------------------\n",
            "const       1.071e+04   6210.669      1.724      0.085   -1465.060    2.29e+04\n",
            "bathrooms   2.503e+05   2759.528     90.714      0.000    2.45e+05    2.56e+05\n",
            "==============================================================================\n",
            "Omnibus:                    17286.361   Durbin-Watson:                   1.960\n",
            "Prob(Omnibus):                  0.000   Jarque-Bera (JB):           887102.351\n",
            "Skew:                           3.458   Prob(JB):                         0.00\n",
            "Kurtosis:                      33.614   Cond. No.                         7.75\n",
            "==============================================================================\n",
            "\n",
            "Warnings:\n",
            "[1] Standard Errors assume that the covariance matrix of the errors is correctly specified.\n"
          ]
        },
        {
          "output_type": "stream",
          "name": "stderr",
          "text": [
            "/usr/local/lib/python3.7/dist-packages/statsmodels/tsa/tsatools.py:117: FutureWarning: In a future version of pandas all arguments of concat except for the argument 'objs' will be keyword-only\n",
            "  x = pd.concat(x[::order], 1)\n"
          ]
        }
      ]
    },
    {
      "cell_type": "code",
      "source": [],
      "metadata": {
        "id": "JCSqpZ0ft8J-"
      },
      "execution_count": null,
      "outputs": []
    }
  ]
}