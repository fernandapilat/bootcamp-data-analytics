{
  "nbformat": 4,
  "nbformat_minor": 0,
  "metadata": {
    "colab": {
      "provenance": [],
      "include_colab_link": true
    },
    "kernelspec": {
      "name": "python3",
      "display_name": "Python 3"
    },
    "language_info": {
      "name": "python"
    }
  },
  "cells": [
    {
      "cell_type": "markdown",
      "metadata": {
        "id": "view-in-github",
        "colab_type": "text"
      },
      "source": [
        "<a href=\"https://colab.research.google.com/github/fernandapilat/bootcamp-data-analytics/blob/master/Apresenta%C3%A7%C3%A3o_do_Desafio_4.ipynb\" target=\"_parent\"><img src=\"https://colab.research.google.com/assets/colab-badge.svg\" alt=\"Open In Colab\"/></a>"
      ]
    },
    {
      "cell_type": "markdown",
      "source": [
        "**Squad Sarah Gilbert**\n",
        "\n",
        "Integrantes:\n",
        "- Fernanda Pilat.\n",
        "- Thaís Faustino\n",
        "- Karina Cunha\n",
        "- Izabelle Nunes\n",
        "- Luene Pizzi\n",
        "- Priscila Mendes\n",
        "- Anna Beatriz M. Vercesi\n",
        "- Joannyta Reis\n"
      ],
      "metadata": {
        "id": "jOQlec74ihS5"
      }
    },
    {
      "cell_type": "markdown",
      "source": [
        "![verde.png](data:image/png;base64,iVBORw0KGgoAAAANSUhEUgAABzwAAAAyCAIAAACmrzrWAAAAAXNSR0IArs4c6QAAAARnQU1BAACxjwv8YQUAAAAJcEhZcwAAEnQAABJ0Ad5mH3gAAAHeSURBVHhe7dqxaQNBEEDRO2UOVIw6UDGG03WoQD04dHo9OFCgwDJmi/iw7zGwMy18dr0fjwUAAAAAgIbTeAEAAAAACBBtAQAAAABCRFsAAAAAgBDRFgAAAAAgRLQFAAAAAAgRbQEAAAAAQkRbAAAAAIAQ0RYAAAAAIES0BQAAAAAIEW0BAAAAAEJEWwAAAACAENEWAAAAACBEtAUAAAAACBFtAQAAAABCRFsAAAAAgBDRFgAAAAAgRLQFAAAAAAgRbQEAAAAAQkRbAAAAAIAQ0RYAAAAAIES0BQAAAAAIEW0BAAAAAEJEWwAAAACAENEWAAAAACBEtAUAAAAACBFtAQAAAABCRFsAAAAAgBDRFgAAAAAgRLQFAAAAAAgRbQEAAAAAQkRbAAAAAIAQ0RYAAAAAIES0BQAAAAAIEW0BAAAAAEJEWwAAAKj4/X7drp9/M24ApiTaAgAAQMW+78e/cQMwJdEWAAAAKrZtGxsAE1vvx2OsAAAAQMDz6+fjch4HAPPx0xYAAABaFFuAyYm2AAAAAAAhoi0AAAAAQIhoCwAAAAAQItoCAAAAAISItgAAAAAAIaItAAAAAECIaAsAAAAAECLaAgAAAACEiLYAAAAAACGiLQAAAABAxrK8AQUIFOv/OByoAAAAAElFTkSuQmCC)"
      ],
      "metadata": {
        "id": "G1JmVPXXoBhm"
      }
    },
    {
      "cell_type": "markdown",
      "source": [
        "# **Resolução do exercício**"
      ],
      "metadata": {
        "id": "RJuaLdnbAmnX"
      }
    },
    {
      "cell_type": "markdown",
      "source": [
        "## **Desafio 4 - Futebol**\n",
        "\n",
        "**Definição do problema:** Dado que você está trabalhando numa emissora de televisão, o narrador precisa informar o jogo com o maior número de gols na história da Bundesliga (Campeonato Alemão). Você precisa fazer uma busca em todos os jogos da história deste campeonato e verificar qual jogo é esse e passar a informação ao narrador, para posteriormente, o narrador informar aos telespectadores.\n",
        "\n",
        "1. Verificar os jogos com maior quantidade de gols na história da Bundesliga\n",
        "\n",
        "2. Informar a data, os times participantes e o placar do jogo\n",
        "\n",
        "**Código do dataset:** Bundesliga\n",
        "\n",
        "**Dicas:**\n",
        "\n",
        "- Criar uma nova variável \"TotalGols\" com o total de gols da \n",
        "partida;\n",
        "- Use o método.max()"
      ],
      "metadata": {
        "id": "BLkdRzt0brNQ"
      }
    },
    {
      "cell_type": "markdown",
      "source": [
        "![verde.png](data:image/png;base64,iVBORw0KGgoAAAANSUhEUgAABzwAAAAyCAIAAACmrzrWAAAAAXNSR0IArs4c6QAAAARnQU1BAACxjwv8YQUAAAAJcEhZcwAAEnQAABJ0Ad5mH3gAAAHeSURBVHhe7dqxaQNBEEDRO2UOVIw6UDGG03WoQD04dHo9OFCgwDJmi/iw7zGwMy18dr0fjwUAAAAAgIbTeAEAAAAACBBtAQAAAABCRFsAAAAAgBDRFgAAAAAgRLQFAAAAAAgRbQEAAAAAQkRbAAAAAIAQ0RYAAAAAIES0BQAAAAAIEW0BAAAAAEJEWwAAAACAENEWAAAAACBEtAUAAAAACBFtAQAAAABCRFsAAAAAgBDRFgAAAAAgRLQFAAAAAAgRbQEAAAAAQkRbAAAAAIAQ0RYAAAAAIES0BQAAAAAIEW0BAAAAAEJEWwAAAACAENEWAAAAACBEtAUAAAAACBFtAQAAAABCRFsAAAAAgBDRFgAAAAAgRLQFAAAAAAgRbQEAAAAAQkRbAAAAAIAQ0RYAAAAAIES0BQAAAAAIEW0BAAAAAEJEWwAAAKj4/X7drp9/M24ApiTaAgAAQMW+78e/cQMwJdEWAAAAKrZtGxsAE1vvx2OsAAAAQMDz6+fjch4HAPPx0xYAAABaFFuAyYm2AAAAAAAhoi0AAAAAQIhoCwAAAAAQItoCAAAAAISItgAAAAAAIaItAAAAAECIaAsAAAAAECLaAgAAAACEiLYAAAAAACGiLQAAAABAxrK8AQUIFOv/OByoAAAAAElFTkSuQmCC)\n",
        "### **1.** Carregar bibliotecas e pacotes\n",
        "\n",
        "\n",
        "\n"
      ],
      "metadata": {
        "id": "2VEx8oICcxXX"
      }
    },
    {
      "cell_type": "markdown",
      "source": [
        "**Importação da biblioteca Pydataset**"
      ],
      "metadata": {
        "id": "VDpHEFf4HcNp"
      }
    },
    {
      "cell_type": "code",
      "source": [
        "pip install pydataset"
      ],
      "metadata": {
        "colab": {
          "base_uri": "https://localhost:8080/"
        },
        "id": "aggsobSfHixE",
        "outputId": "1c97f8b5-8d07-4608-bc69-652eabd86fda"
      },
      "execution_count": null,
      "outputs": [
        {
          "output_type": "stream",
          "name": "stdout",
          "text": [
            "Looking in indexes: https://pypi.org/simple, https://us-python.pkg.dev/colab-wheels/public/simple/\n",
            "Collecting pydataset\n",
            "  Downloading pydataset-0.2.0.tar.gz (15.9 MB)\n",
            "\u001b[2K     \u001b[90m━━━━━━━━━━━━━━━━━━━━━━━━━━━━━━━━━━━━━━━━\u001b[0m \u001b[32m15.9/15.9 MB\u001b[0m \u001b[31m34.5 MB/s\u001b[0m eta \u001b[36m0:00:00\u001b[0m\n",
            "\u001b[?25h  Preparing metadata (setup.py) ... \u001b[?25l\u001b[?25hdone\n",
            "Requirement already satisfied: pandas in /usr/local/lib/python3.8/dist-packages (from pydataset) (1.3.5)\n",
            "Requirement already satisfied: numpy>=1.17.3 in /usr/local/lib/python3.8/dist-packages (from pandas->pydataset) (1.21.6)\n",
            "Requirement already satisfied: python-dateutil>=2.7.3 in /usr/local/lib/python3.8/dist-packages (from pandas->pydataset) (2.8.2)\n",
            "Requirement already satisfied: pytz>=2017.3 in /usr/local/lib/python3.8/dist-packages (from pandas->pydataset) (2022.7)\n",
            "Requirement already satisfied: six>=1.5 in /usr/local/lib/python3.8/dist-packages (from python-dateutil>=2.7.3->pandas->pydataset) (1.15.0)\n",
            "Building wheels for collected packages: pydataset\n",
            "  Building wheel for pydataset (setup.py) ... \u001b[?25l\u001b[?25hdone\n",
            "  Created wheel for pydataset: filename=pydataset-0.2.0-py3-none-any.whl size=15939432 sha256=e62aaa4b21ae298de30f757f7ce4114529735258950a482fe50aed7c1c12d4e9\n",
            "  Stored in directory: /root/.cache/pip/wheels/d7/e5/36/85d319586b4a405d001029d489102f526ce5546248c295932a\n",
            "Successfully built pydataset\n",
            "Installing collected packages: pydataset\n",
            "Successfully installed pydataset-0.2.0\n"
          ]
        }
      ]
    },
    {
      "cell_type": "markdown",
      "source": [
        "**Importação de pacotes**"
      ],
      "metadata": {
        "id": "GDA-557OHwad"
      }
    },
    {
      "cell_type": "code",
      "source": [
        "from pydataset import data\n",
        "import pandas as pd"
      ],
      "metadata": {
        "id": "S77_0DfKHtyM",
        "outputId": "7c631c9f-ea95-488a-fc5e-df436127f661",
        "colab": {
          "base_uri": "https://localhost:8080/"
        }
      },
      "execution_count": null,
      "outputs": [
        {
          "output_type": "stream",
          "name": "stdout",
          "text": [
            "initiated datasets repo at: /root/.pydataset/\n"
          ]
        }
      ]
    },
    {
      "cell_type": "markdown",
      "source": [
        "**Importação do dataset**\n",
        "\n",
        "* O primeiro passo é carregar o dataframe do campeonato Bundesliga através da função `data()`.\n",
        "* Nesse momento, atribuimos o dataframe ao objeto df_fut."
      ],
      "metadata": {
        "id": "RZjbfRTUbyI2"
      }
    },
    {
      "cell_type": "code",
      "source": [
        "df_fut = data('Bundesliga')\n",
        "df_fut.head(2)"
      ],
      "metadata": {
        "colab": {
          "base_uri": "https://localhost:8080/",
          "height": 112
        },
        "id": "zjONBLE7HTFN",
        "outputId": "d2bfb2eb-76b4-44c2-ca15-b8076c46a42e"
      },
      "execution_count": null,
      "outputs": [
        {
          "output_type": "execute_result",
          "data": {
            "text/plain": [
              "            HomeTeam           AwayTeam  HomeGoals  AwayGoals  Round  Year  \\\n",
              "1      Werder Bremen  Borussia Dortmund          3          2      1  1963   \n",
              "2  Hertha BSC Berlin    1. FC Nuernberg          1          1      1  1963   \n",
              "\n",
              "                  Date  \n",
              "1  1963-08-24 09:30:00  \n",
              "2  1963-08-24 09:30:00  "
            ],
            "text/html": [
              "\n",
              "  <div id=\"df-6c713c20-fdba-4eb5-ab85-feb8eb200dbb\">\n",
              "    <div class=\"colab-df-container\">\n",
              "      <div>\n",
              "<style scoped>\n",
              "    .dataframe tbody tr th:only-of-type {\n",
              "        vertical-align: middle;\n",
              "    }\n",
              "\n",
              "    .dataframe tbody tr th {\n",
              "        vertical-align: top;\n",
              "    }\n",
              "\n",
              "    .dataframe thead th {\n",
              "        text-align: right;\n",
              "    }\n",
              "</style>\n",
              "<table border=\"1\" class=\"dataframe\">\n",
              "  <thead>\n",
              "    <tr style=\"text-align: right;\">\n",
              "      <th></th>\n",
              "      <th>HomeTeam</th>\n",
              "      <th>AwayTeam</th>\n",
              "      <th>HomeGoals</th>\n",
              "      <th>AwayGoals</th>\n",
              "      <th>Round</th>\n",
              "      <th>Year</th>\n",
              "      <th>Date</th>\n",
              "    </tr>\n",
              "  </thead>\n",
              "  <tbody>\n",
              "    <tr>\n",
              "      <th>1</th>\n",
              "      <td>Werder Bremen</td>\n",
              "      <td>Borussia Dortmund</td>\n",
              "      <td>3</td>\n",
              "      <td>2</td>\n",
              "      <td>1</td>\n",
              "      <td>1963</td>\n",
              "      <td>1963-08-24 09:30:00</td>\n",
              "    </tr>\n",
              "    <tr>\n",
              "      <th>2</th>\n",
              "      <td>Hertha BSC Berlin</td>\n",
              "      <td>1. FC Nuernberg</td>\n",
              "      <td>1</td>\n",
              "      <td>1</td>\n",
              "      <td>1</td>\n",
              "      <td>1963</td>\n",
              "      <td>1963-08-24 09:30:00</td>\n",
              "    </tr>\n",
              "  </tbody>\n",
              "</table>\n",
              "</div>\n",
              "      <button class=\"colab-df-convert\" onclick=\"convertToInteractive('df-6c713c20-fdba-4eb5-ab85-feb8eb200dbb')\"\n",
              "              title=\"Convert this dataframe to an interactive table.\"\n",
              "              style=\"display:none;\">\n",
              "        \n",
              "  <svg xmlns=\"http://www.w3.org/2000/svg\" height=\"24px\"viewBox=\"0 0 24 24\"\n",
              "       width=\"24px\">\n",
              "    <path d=\"M0 0h24v24H0V0z\" fill=\"none\"/>\n",
              "    <path d=\"M18.56 5.44l.94 2.06.94-2.06 2.06-.94-2.06-.94-.94-2.06-.94 2.06-2.06.94zm-11 1L8.5 8.5l.94-2.06 2.06-.94-2.06-.94L8.5 2.5l-.94 2.06-2.06.94zm10 10l.94 2.06.94-2.06 2.06-.94-2.06-.94-.94-2.06-.94 2.06-2.06.94z\"/><path d=\"M17.41 7.96l-1.37-1.37c-.4-.4-.92-.59-1.43-.59-.52 0-1.04.2-1.43.59L10.3 9.45l-7.72 7.72c-.78.78-.78 2.05 0 2.83L4 21.41c.39.39.9.59 1.41.59.51 0 1.02-.2 1.41-.59l7.78-7.78 2.81-2.81c.8-.78.8-2.07 0-2.86zM5.41 20L4 18.59l7.72-7.72 1.47 1.35L5.41 20z\"/>\n",
              "  </svg>\n",
              "      </button>\n",
              "      \n",
              "  <style>\n",
              "    .colab-df-container {\n",
              "      display:flex;\n",
              "      flex-wrap:wrap;\n",
              "      gap: 12px;\n",
              "    }\n",
              "\n",
              "    .colab-df-convert {\n",
              "      background-color: #E8F0FE;\n",
              "      border: none;\n",
              "      border-radius: 50%;\n",
              "      cursor: pointer;\n",
              "      display: none;\n",
              "      fill: #1967D2;\n",
              "      height: 32px;\n",
              "      padding: 0 0 0 0;\n",
              "      width: 32px;\n",
              "    }\n",
              "\n",
              "    .colab-df-convert:hover {\n",
              "      background-color: #E2EBFA;\n",
              "      box-shadow: 0px 1px 2px rgba(60, 64, 67, 0.3), 0px 1px 3px 1px rgba(60, 64, 67, 0.15);\n",
              "      fill: #174EA6;\n",
              "    }\n",
              "\n",
              "    [theme=dark] .colab-df-convert {\n",
              "      background-color: #3B4455;\n",
              "      fill: #D2E3FC;\n",
              "    }\n",
              "\n",
              "    [theme=dark] .colab-df-convert:hover {\n",
              "      background-color: #434B5C;\n",
              "      box-shadow: 0px 1px 3px 1px rgba(0, 0, 0, 0.15);\n",
              "      filter: drop-shadow(0px 1px 2px rgba(0, 0, 0, 0.3));\n",
              "      fill: #FFFFFF;\n",
              "    }\n",
              "  </style>\n",
              "\n",
              "      <script>\n",
              "        const buttonEl =\n",
              "          document.querySelector('#df-6c713c20-fdba-4eb5-ab85-feb8eb200dbb button.colab-df-convert');\n",
              "        buttonEl.style.display =\n",
              "          google.colab.kernel.accessAllowed ? 'block' : 'none';\n",
              "\n",
              "        async function convertToInteractive(key) {\n",
              "          const element = document.querySelector('#df-6c713c20-fdba-4eb5-ab85-feb8eb200dbb');\n",
              "          const dataTable =\n",
              "            await google.colab.kernel.invokeFunction('convertToInteractive',\n",
              "                                                     [key], {});\n",
              "          if (!dataTable) return;\n",
              "\n",
              "          const docLinkHtml = 'Like what you see? Visit the ' +\n",
              "            '<a target=\"_blank\" href=https://colab.research.google.com/notebooks/data_table.ipynb>data table notebook</a>'\n",
              "            + ' to learn more about interactive tables.';\n",
              "          element.innerHTML = '';\n",
              "          dataTable['output_type'] = 'display_data';\n",
              "          await google.colab.output.renderOutput(dataTable, element);\n",
              "          const docLink = document.createElement('div');\n",
              "          docLink.innerHTML = docLinkHtml;\n",
              "          element.appendChild(docLink);\n",
              "        }\n",
              "      </script>\n",
              "    </div>\n",
              "  </div>\n",
              "  "
            ]
          },
          "metadata": {},
          "execution_count": 44
        }
      ]
    },
    {
      "cell_type": "markdown",
      "source": [
        "![verde.png](data:image/png;base64,iVBORw0KGgoAAAANSUhEUgAABzwAAAAyCAIAAACmrzrWAAAAAXNSR0IArs4c6QAAAARnQU1BAACxjwv8YQUAAAAJcEhZcwAAEnQAABJ0Ad5mH3gAAAHeSURBVHhe7dqxaQNBEEDRO2UOVIw6UDGG03WoQD04dHo9OFCgwDJmi/iw7zGwMy18dr0fjwUAAAAAgIbTeAEAAAAACBBtAQAAAABCRFsAAAAAgBDRFgAAAAAgRLQFAAAAAAgRbQEAAAAAQkRbAAAAAIAQ0RYAAAAAIES0BQAAAAAIEW0BAAAAAEJEWwAAAACAENEWAAAAACBEtAUAAAAACBFtAQAAAABCRFsAAAAAgBDRFgAAAAAgRLQFAAAAAAgRbQEAAAAAQkRbAAAAAIAQ0RYAAAAAIES0BQAAAAAIEW0BAAAAAEJEWwAAAACAENEWAAAAACBEtAUAAAAACBFtAQAAAABCRFsAAAAAgBDRFgAAAAAgRLQFAAAAAAgRbQEAAAAAQkRbAAAAAIAQ0RYAAAAAIES0BQAAAAAIEW0BAAAAAEJEWwAAAKj4/X7drp9/M24ApiTaAgAAQMW+78e/cQMwJdEWAAAAKrZtGxsAE1vvx2OsAAAAQMDz6+fjch4HAPPx0xYAAABaFFuAyYm2AAAAAAAhoi0AAAAAQIhoCwAAAAAQItoCAAAAAISItgAAAAAAIaItAAAAAECIaAsAAAAAECLaAgAAAACEiLYAAAAAACGiLQAAAABAxrK8AQUIFOv/OByoAAAAAElFTkSuQmCC)\n",
        "\n",
        "### **2.** Verificar os jogos com maior quantidade de gols na história da Bundesliga\n",
        "\n",
        "\n",
        "\n"
      ],
      "metadata": {
        "id": "OvNlry5WIE6W"
      }
    },
    {
      "cell_type": "markdown",
      "source": [
        "**Criação da váriavel *TotalGols***\n",
        "* **Passo 1:** nesta etapa optamos por criar uma nova coluna com a soma das variáveis `AwayTeam` e `HomeGoals`.\n"
      ],
      "metadata": {
        "id": "R1fAivfub3Jz"
      }
    },
    {
      "cell_type": "code",
      "source": [
        "#Passo 1\n",
        "df_fut['TotalGols'] = df_fut['HomeGoals'] + df_fut['AwayGoals']\n",
        "df_fut.head(2)"
      ],
      "metadata": {
        "colab": {
          "base_uri": "https://localhost:8080/",
          "height": 112
        },
        "id": "bYqCP_FrJ-_2",
        "outputId": "1fd450ba-e26e-4d41-ae08-c1227c31aab2"
      },
      "execution_count": null,
      "outputs": [
        {
          "output_type": "execute_result",
          "data": {
            "text/plain": [
              "            HomeTeam           AwayTeam  HomeGoals  AwayGoals  Round  Year  \\\n",
              "1      Werder Bremen  Borussia Dortmund          3          2      1  1963   \n",
              "2  Hertha BSC Berlin    1. FC Nuernberg          1          1      1  1963   \n",
              "\n",
              "                  Date  TotalGols  \n",
              "1  1963-08-24 09:30:00          5  \n",
              "2  1963-08-24 09:30:00          2  "
            ],
            "text/html": [
              "\n",
              "  <div id=\"df-60a661f1-0972-46e5-ae8a-fd99fbbf59aa\">\n",
              "    <div class=\"colab-df-container\">\n",
              "      <div>\n",
              "<style scoped>\n",
              "    .dataframe tbody tr th:only-of-type {\n",
              "        vertical-align: middle;\n",
              "    }\n",
              "\n",
              "    .dataframe tbody tr th {\n",
              "        vertical-align: top;\n",
              "    }\n",
              "\n",
              "    .dataframe thead th {\n",
              "        text-align: right;\n",
              "    }\n",
              "</style>\n",
              "<table border=\"1\" class=\"dataframe\">\n",
              "  <thead>\n",
              "    <tr style=\"text-align: right;\">\n",
              "      <th></th>\n",
              "      <th>HomeTeam</th>\n",
              "      <th>AwayTeam</th>\n",
              "      <th>HomeGoals</th>\n",
              "      <th>AwayGoals</th>\n",
              "      <th>Round</th>\n",
              "      <th>Year</th>\n",
              "      <th>Date</th>\n",
              "      <th>TotalGols</th>\n",
              "    </tr>\n",
              "  </thead>\n",
              "  <tbody>\n",
              "    <tr>\n",
              "      <th>1</th>\n",
              "      <td>Werder Bremen</td>\n",
              "      <td>Borussia Dortmund</td>\n",
              "      <td>3</td>\n",
              "      <td>2</td>\n",
              "      <td>1</td>\n",
              "      <td>1963</td>\n",
              "      <td>1963-08-24 09:30:00</td>\n",
              "      <td>5</td>\n",
              "    </tr>\n",
              "    <tr>\n",
              "      <th>2</th>\n",
              "      <td>Hertha BSC Berlin</td>\n",
              "      <td>1. FC Nuernberg</td>\n",
              "      <td>1</td>\n",
              "      <td>1</td>\n",
              "      <td>1</td>\n",
              "      <td>1963</td>\n",
              "      <td>1963-08-24 09:30:00</td>\n",
              "      <td>2</td>\n",
              "    </tr>\n",
              "  </tbody>\n",
              "</table>\n",
              "</div>\n",
              "      <button class=\"colab-df-convert\" onclick=\"convertToInteractive('df-60a661f1-0972-46e5-ae8a-fd99fbbf59aa')\"\n",
              "              title=\"Convert this dataframe to an interactive table.\"\n",
              "              style=\"display:none;\">\n",
              "        \n",
              "  <svg xmlns=\"http://www.w3.org/2000/svg\" height=\"24px\"viewBox=\"0 0 24 24\"\n",
              "       width=\"24px\">\n",
              "    <path d=\"M0 0h24v24H0V0z\" fill=\"none\"/>\n",
              "    <path d=\"M18.56 5.44l.94 2.06.94-2.06 2.06-.94-2.06-.94-.94-2.06-.94 2.06-2.06.94zm-11 1L8.5 8.5l.94-2.06 2.06-.94-2.06-.94L8.5 2.5l-.94 2.06-2.06.94zm10 10l.94 2.06.94-2.06 2.06-.94-2.06-.94-.94-2.06-.94 2.06-2.06.94z\"/><path d=\"M17.41 7.96l-1.37-1.37c-.4-.4-.92-.59-1.43-.59-.52 0-1.04.2-1.43.59L10.3 9.45l-7.72 7.72c-.78.78-.78 2.05 0 2.83L4 21.41c.39.39.9.59 1.41.59.51 0 1.02-.2 1.41-.59l7.78-7.78 2.81-2.81c.8-.78.8-2.07 0-2.86zM5.41 20L4 18.59l7.72-7.72 1.47 1.35L5.41 20z\"/>\n",
              "  </svg>\n",
              "      </button>\n",
              "      \n",
              "  <style>\n",
              "    .colab-df-container {\n",
              "      display:flex;\n",
              "      flex-wrap:wrap;\n",
              "      gap: 12px;\n",
              "    }\n",
              "\n",
              "    .colab-df-convert {\n",
              "      background-color: #E8F0FE;\n",
              "      border: none;\n",
              "      border-radius: 50%;\n",
              "      cursor: pointer;\n",
              "      display: none;\n",
              "      fill: #1967D2;\n",
              "      height: 32px;\n",
              "      padding: 0 0 0 0;\n",
              "      width: 32px;\n",
              "    }\n",
              "\n",
              "    .colab-df-convert:hover {\n",
              "      background-color: #E2EBFA;\n",
              "      box-shadow: 0px 1px 2px rgba(60, 64, 67, 0.3), 0px 1px 3px 1px rgba(60, 64, 67, 0.15);\n",
              "      fill: #174EA6;\n",
              "    }\n",
              "\n",
              "    [theme=dark] .colab-df-convert {\n",
              "      background-color: #3B4455;\n",
              "      fill: #D2E3FC;\n",
              "    }\n",
              "\n",
              "    [theme=dark] .colab-df-convert:hover {\n",
              "      background-color: #434B5C;\n",
              "      box-shadow: 0px 1px 3px 1px rgba(0, 0, 0, 0.15);\n",
              "      filter: drop-shadow(0px 1px 2px rgba(0, 0, 0, 0.3));\n",
              "      fill: #FFFFFF;\n",
              "    }\n",
              "  </style>\n",
              "\n",
              "      <script>\n",
              "        const buttonEl =\n",
              "          document.querySelector('#df-60a661f1-0972-46e5-ae8a-fd99fbbf59aa button.colab-df-convert');\n",
              "        buttonEl.style.display =\n",
              "          google.colab.kernel.accessAllowed ? 'block' : 'none';\n",
              "\n",
              "        async function convertToInteractive(key) {\n",
              "          const element = document.querySelector('#df-60a661f1-0972-46e5-ae8a-fd99fbbf59aa');\n",
              "          const dataTable =\n",
              "            await google.colab.kernel.invokeFunction('convertToInteractive',\n",
              "                                                     [key], {});\n",
              "          if (!dataTable) return;\n",
              "\n",
              "          const docLinkHtml = 'Like what you see? Visit the ' +\n",
              "            '<a target=\"_blank\" href=https://colab.research.google.com/notebooks/data_table.ipynb>data table notebook</a>'\n",
              "            + ' to learn more about interactive tables.';\n",
              "          element.innerHTML = '';\n",
              "          dataTable['output_type'] = 'display_data';\n",
              "          await google.colab.output.renderOutput(dataTable, element);\n",
              "          const docLink = document.createElement('div');\n",
              "          docLink.innerHTML = docLinkHtml;\n",
              "          element.appendChild(docLink);\n",
              "        }\n",
              "      </script>\n",
              "    </div>\n",
              "  </div>\n",
              "  "
            ]
          },
          "metadata": {},
          "execution_count": 45
        }
      ]
    },
    {
      "cell_type": "markdown",
      "source": [
        "💻 Outra forma de fazer é utilizando o método `.join()`\n",
        "```\n",
        "TotalGols = df_fut['HomeGoals'] + df_fut['AwayGoals]\n",
        "TotalGols = pd.Series(TotalGols, name='TotalGoals') # importante para nomear a coluna a ser inserida no DataFrame\n",
        "df_fut = df_fut.join(TotalGols)\n",
        "```\n",
        "\n"
      ],
      "metadata": {
        "id": "TNKzNURqo2F8"
      }
    },
    {
      "cell_type": "markdown",
      "source": [
        "**Explorar o dataframe para descobrir a maior quantidade de gols**\n",
        "\n",
        "* **Passo 2:** utilizamos a função `value_counts` na coluna TotalGols foi possível identificar que o maior número de gols no campeonato Bundesliga foi **12** e que esse placar ocorreu em **5** jogos.\n",
        "* **Passo 3:** após classificamos o dataframe pela coluna TotalGols com o intuito de localizar o id dos cinco primeiros jogos. Nessa fase, utilizamos a função `sort_values`."
      ],
      "metadata": {
        "id": "iZf-P1RvaEvM"
      }
    },
    {
      "cell_type": "code",
      "source": [
        "#Passo 2\n",
        "df_fut['TotalGols'].value_counts(ascending = True)"
      ],
      "metadata": {
        "colab": {
          "base_uri": "https://localhost:8080/"
        },
        "id": "1Empkx3eLc1v",
        "outputId": "b281cb80-6fb4-44b3-9096-70cf785bbc46"
      },
      "execution_count": null,
      "outputs": [
        {
          "output_type": "execute_result",
          "data": {
            "text/plain": [
              "12       5\n",
              "11      10\n",
              "10      24\n",
              "9       47\n",
              "8      148\n",
              "7      367\n",
              "6      855\n",
              "0      914\n",
              "5     1379\n",
              "1     1723\n",
              "4     2531\n",
              "3     2812\n",
              "2     3203\n",
              "Name: TotalGols, dtype: int64"
            ]
          },
          "metadata": {},
          "execution_count": 48
        }
      ]
    },
    {
      "cell_type": "code",
      "source": [
        "#Passo 3\n",
        "df_fut.sort_values(by='TotalGols', ascending=False)"
      ],
      "metadata": {
        "colab": {
          "base_uri": "https://localhost:8080/",
          "height": 424
        },
        "id": "zGoagjemM7s3",
        "outputId": "74aaf3f0-d58e-4f6a-9ad1-d1525af0b9a8"
      },
      "execution_count": null,
      "outputs": [
        {
          "output_type": "execute_result",
          "data": {
            "text/plain": [
              "                        HomeTeam                   AwayTeam  HomeGoals  \\\n",
              "4457   Borussia Moenchengladbach          Borussia Dortmund         12   \n",
              "4052                 1. FC Koeln     Tennis Borussia Berlin          8   \n",
              "2456             Bayern Muenchen          Borussia Dortmund         11   \n",
              "81             Borussia Dortmund       1. FC Kaiserslautern          9   \n",
              "5788           Borussia Dortmund          Arminia Bielefeld         11   \n",
              "...                          ...                        ...        ...   \n",
              "10878              VfB Stuttgart            1. FC Nuernberg          0   \n",
              "10880              Werder Bremen               Hamburger SV          0   \n",
              "7562           Borussia Dortmund  Borussia Moenchengladbach          0   \n",
              "12974              VfB Stuttgart              Werder Bremen          0   \n",
              "8293             Wattenscheid 09            Bayer Uerdingen          0   \n",
              "\n",
              "       AwayGoals  Round  Year                 Date  TotalGols  \n",
              "4457           0     34  1977  1978-04-29 09:30:00         12  \n",
              "4052           4     23  1976  1977-02-26 09:30:00         12  \n",
              "2456           1     16  1971  1971-11-27 09:30:00         12  \n",
              "81             3     11  1963  1963-11-16 09:30:00         12  \n",
              "5788           1     12  1982  1982-11-06 09:30:00         12  \n",
              "...          ...    ...   ...                  ...        ...  \n",
              "10878          0     26  1998  1999-04-13 13:30:00          0  \n",
              "10880          0     26  1998  1999-04-13 14:00:00          0  \n",
              "7562           0      5  1988  1988-08-27 09:30:00          0  \n",
              "12974          0     20  2005  2006-02-08 14:00:00          0  \n",
              "8293           0     19  1990  1991-03-01 13:30:00          0  \n",
              "\n",
              "[14018 rows x 8 columns]"
            ],
            "text/html": [
              "\n",
              "  <div id=\"df-2a9869e5-a4cc-4c35-970c-ae380f36fd37\">\n",
              "    <div class=\"colab-df-container\">\n",
              "      <div>\n",
              "<style scoped>\n",
              "    .dataframe tbody tr th:only-of-type {\n",
              "        vertical-align: middle;\n",
              "    }\n",
              "\n",
              "    .dataframe tbody tr th {\n",
              "        vertical-align: top;\n",
              "    }\n",
              "\n",
              "    .dataframe thead th {\n",
              "        text-align: right;\n",
              "    }\n",
              "</style>\n",
              "<table border=\"1\" class=\"dataframe\">\n",
              "  <thead>\n",
              "    <tr style=\"text-align: right;\">\n",
              "      <th></th>\n",
              "      <th>HomeTeam</th>\n",
              "      <th>AwayTeam</th>\n",
              "      <th>HomeGoals</th>\n",
              "      <th>AwayGoals</th>\n",
              "      <th>Round</th>\n",
              "      <th>Year</th>\n",
              "      <th>Date</th>\n",
              "      <th>TotalGols</th>\n",
              "    </tr>\n",
              "  </thead>\n",
              "  <tbody>\n",
              "    <tr>\n",
              "      <th>4457</th>\n",
              "      <td>Borussia Moenchengladbach</td>\n",
              "      <td>Borussia Dortmund</td>\n",
              "      <td>12</td>\n",
              "      <td>0</td>\n",
              "      <td>34</td>\n",
              "      <td>1977</td>\n",
              "      <td>1978-04-29 09:30:00</td>\n",
              "      <td>12</td>\n",
              "    </tr>\n",
              "    <tr>\n",
              "      <th>4052</th>\n",
              "      <td>1. FC Koeln</td>\n",
              "      <td>Tennis Borussia Berlin</td>\n",
              "      <td>8</td>\n",
              "      <td>4</td>\n",
              "      <td>23</td>\n",
              "      <td>1976</td>\n",
              "      <td>1977-02-26 09:30:00</td>\n",
              "      <td>12</td>\n",
              "    </tr>\n",
              "    <tr>\n",
              "      <th>2456</th>\n",
              "      <td>Bayern Muenchen</td>\n",
              "      <td>Borussia Dortmund</td>\n",
              "      <td>11</td>\n",
              "      <td>1</td>\n",
              "      <td>16</td>\n",
              "      <td>1971</td>\n",
              "      <td>1971-11-27 09:30:00</td>\n",
              "      <td>12</td>\n",
              "    </tr>\n",
              "    <tr>\n",
              "      <th>81</th>\n",
              "      <td>Borussia Dortmund</td>\n",
              "      <td>1. FC Kaiserslautern</td>\n",
              "      <td>9</td>\n",
              "      <td>3</td>\n",
              "      <td>11</td>\n",
              "      <td>1963</td>\n",
              "      <td>1963-11-16 09:30:00</td>\n",
              "      <td>12</td>\n",
              "    </tr>\n",
              "    <tr>\n",
              "      <th>5788</th>\n",
              "      <td>Borussia Dortmund</td>\n",
              "      <td>Arminia Bielefeld</td>\n",
              "      <td>11</td>\n",
              "      <td>1</td>\n",
              "      <td>12</td>\n",
              "      <td>1982</td>\n",
              "      <td>1982-11-06 09:30:00</td>\n",
              "      <td>12</td>\n",
              "    </tr>\n",
              "    <tr>\n",
              "      <th>...</th>\n",
              "      <td>...</td>\n",
              "      <td>...</td>\n",
              "      <td>...</td>\n",
              "      <td>...</td>\n",
              "      <td>...</td>\n",
              "      <td>...</td>\n",
              "      <td>...</td>\n",
              "      <td>...</td>\n",
              "    </tr>\n",
              "    <tr>\n",
              "      <th>10878</th>\n",
              "      <td>VfB Stuttgart</td>\n",
              "      <td>1. FC Nuernberg</td>\n",
              "      <td>0</td>\n",
              "      <td>0</td>\n",
              "      <td>26</td>\n",
              "      <td>1998</td>\n",
              "      <td>1999-04-13 13:30:00</td>\n",
              "      <td>0</td>\n",
              "    </tr>\n",
              "    <tr>\n",
              "      <th>10880</th>\n",
              "      <td>Werder Bremen</td>\n",
              "      <td>Hamburger SV</td>\n",
              "      <td>0</td>\n",
              "      <td>0</td>\n",
              "      <td>26</td>\n",
              "      <td>1998</td>\n",
              "      <td>1999-04-13 14:00:00</td>\n",
              "      <td>0</td>\n",
              "    </tr>\n",
              "    <tr>\n",
              "      <th>7562</th>\n",
              "      <td>Borussia Dortmund</td>\n",
              "      <td>Borussia Moenchengladbach</td>\n",
              "      <td>0</td>\n",
              "      <td>0</td>\n",
              "      <td>5</td>\n",
              "      <td>1988</td>\n",
              "      <td>1988-08-27 09:30:00</td>\n",
              "      <td>0</td>\n",
              "    </tr>\n",
              "    <tr>\n",
              "      <th>12974</th>\n",
              "      <td>VfB Stuttgart</td>\n",
              "      <td>Werder Bremen</td>\n",
              "      <td>0</td>\n",
              "      <td>0</td>\n",
              "      <td>20</td>\n",
              "      <td>2005</td>\n",
              "      <td>2006-02-08 14:00:00</td>\n",
              "      <td>0</td>\n",
              "    </tr>\n",
              "    <tr>\n",
              "      <th>8293</th>\n",
              "      <td>Wattenscheid 09</td>\n",
              "      <td>Bayer Uerdingen</td>\n",
              "      <td>0</td>\n",
              "      <td>0</td>\n",
              "      <td>19</td>\n",
              "      <td>1990</td>\n",
              "      <td>1991-03-01 13:30:00</td>\n",
              "      <td>0</td>\n",
              "    </tr>\n",
              "  </tbody>\n",
              "</table>\n",
              "<p>14018 rows × 8 columns</p>\n",
              "</div>\n",
              "      <button class=\"colab-df-convert\" onclick=\"convertToInteractive('df-2a9869e5-a4cc-4c35-970c-ae380f36fd37')\"\n",
              "              title=\"Convert this dataframe to an interactive table.\"\n",
              "              style=\"display:none;\">\n",
              "        \n",
              "  <svg xmlns=\"http://www.w3.org/2000/svg\" height=\"24px\"viewBox=\"0 0 24 24\"\n",
              "       width=\"24px\">\n",
              "    <path d=\"M0 0h24v24H0V0z\" fill=\"none\"/>\n",
              "    <path d=\"M18.56 5.44l.94 2.06.94-2.06 2.06-.94-2.06-.94-.94-2.06-.94 2.06-2.06.94zm-11 1L8.5 8.5l.94-2.06 2.06-.94-2.06-.94L8.5 2.5l-.94 2.06-2.06.94zm10 10l.94 2.06.94-2.06 2.06-.94-2.06-.94-.94-2.06-.94 2.06-2.06.94z\"/><path d=\"M17.41 7.96l-1.37-1.37c-.4-.4-.92-.59-1.43-.59-.52 0-1.04.2-1.43.59L10.3 9.45l-7.72 7.72c-.78.78-.78 2.05 0 2.83L4 21.41c.39.39.9.59 1.41.59.51 0 1.02-.2 1.41-.59l7.78-7.78 2.81-2.81c.8-.78.8-2.07 0-2.86zM5.41 20L4 18.59l7.72-7.72 1.47 1.35L5.41 20z\"/>\n",
              "  </svg>\n",
              "      </button>\n",
              "      \n",
              "  <style>\n",
              "    .colab-df-container {\n",
              "      display:flex;\n",
              "      flex-wrap:wrap;\n",
              "      gap: 12px;\n",
              "    }\n",
              "\n",
              "    .colab-df-convert {\n",
              "      background-color: #E8F0FE;\n",
              "      border: none;\n",
              "      border-radius: 50%;\n",
              "      cursor: pointer;\n",
              "      display: none;\n",
              "      fill: #1967D2;\n",
              "      height: 32px;\n",
              "      padding: 0 0 0 0;\n",
              "      width: 32px;\n",
              "    }\n",
              "\n",
              "    .colab-df-convert:hover {\n",
              "      background-color: #E2EBFA;\n",
              "      box-shadow: 0px 1px 2px rgba(60, 64, 67, 0.3), 0px 1px 3px 1px rgba(60, 64, 67, 0.15);\n",
              "      fill: #174EA6;\n",
              "    }\n",
              "\n",
              "    [theme=dark] .colab-df-convert {\n",
              "      background-color: #3B4455;\n",
              "      fill: #D2E3FC;\n",
              "    }\n",
              "\n",
              "    [theme=dark] .colab-df-convert:hover {\n",
              "      background-color: #434B5C;\n",
              "      box-shadow: 0px 1px 3px 1px rgba(0, 0, 0, 0.15);\n",
              "      filter: drop-shadow(0px 1px 2px rgba(0, 0, 0, 0.3));\n",
              "      fill: #FFFFFF;\n",
              "    }\n",
              "  </style>\n",
              "\n",
              "      <script>\n",
              "        const buttonEl =\n",
              "          document.querySelector('#df-2a9869e5-a4cc-4c35-970c-ae380f36fd37 button.colab-df-convert');\n",
              "        buttonEl.style.display =\n",
              "          google.colab.kernel.accessAllowed ? 'block' : 'none';\n",
              "\n",
              "        async function convertToInteractive(key) {\n",
              "          const element = document.querySelector('#df-2a9869e5-a4cc-4c35-970c-ae380f36fd37');\n",
              "          const dataTable =\n",
              "            await google.colab.kernel.invokeFunction('convertToInteractive',\n",
              "                                                     [key], {});\n",
              "          if (!dataTable) return;\n",
              "\n",
              "          const docLinkHtml = 'Like what you see? Visit the ' +\n",
              "            '<a target=\"_blank\" href=https://colab.research.google.com/notebooks/data_table.ipynb>data table notebook</a>'\n",
              "            + ' to learn more about interactive tables.';\n",
              "          element.innerHTML = '';\n",
              "          dataTable['output_type'] = 'display_data';\n",
              "          await google.colab.output.renderOutput(dataTable, element);\n",
              "          const docLink = document.createElement('div');\n",
              "          docLink.innerHTML = docLinkHtml;\n",
              "          element.appendChild(docLink);\n",
              "        }\n",
              "      </script>\n",
              "    </div>\n",
              "  </div>\n",
              "  "
            ]
          },
          "metadata": {},
          "execution_count": 49
        }
      ]
    },
    {
      "cell_type": "markdown",
      "source": [
        "💻 Outra forma seria usando o `.max()`:\n",
        "```\n",
        "df_fut['TotalGols'].max() # retorna o valor máximo da coluna TotalGols\n",
        "```\n",
        "\n",
        "\n",
        "\n"
      ],
      "metadata": {
        "id": "-_VpklOGB7Dp"
      }
    },
    {
      "cell_type": "markdown",
      "source": [
        "**Filtro das informações dos jogos com mais gols**\n",
        "\n",
        "* **Passo 4:** nesta fase, optamos por utilizar a função `loc[]` para filtrar os cinco jogos com maior número de gols e criei um novo dataframe com todas as informações. Bem como, utilizamos o método `reset_index` para remover o antigo índice, o objetivo é facilitar o `loc[]` para o print que informa ao locutor todos os jogos.\n",
        "\n"
      ],
      "metadata": {
        "id": "km0qijIxb9Eo"
      }
    },
    {
      "cell_type": "code",
      "source": [
        "#Passo 4\n",
        "df_fut_top5 = df_fut.loc[[4457, 4052, 2456, 81, 5788]]\n",
        "df_fut_top5.reset_index(drop=True, inplace=True)\n",
        "df_fut_top5.head()"
      ],
      "metadata": {
        "colab": {
          "base_uri": "https://localhost:8080/",
          "height": 206
        },
        "id": "tcjIA1WIN2vg",
        "outputId": "e678a1ef-c09d-429d-b51b-aef7c9a06f0f"
      },
      "execution_count": null,
      "outputs": [
        {
          "output_type": "execute_result",
          "data": {
            "text/plain": [
              "                    HomeTeam                AwayTeam  HomeGoals  AwayGoals  \\\n",
              "0  Borussia Moenchengladbach       Borussia Dortmund         12          0   \n",
              "1                1. FC Koeln  Tennis Borussia Berlin          8          4   \n",
              "2            Bayern Muenchen       Borussia Dortmund         11          1   \n",
              "3          Borussia Dortmund    1. FC Kaiserslautern          9          3   \n",
              "4          Borussia Dortmund       Arminia Bielefeld         11          1   \n",
              "\n",
              "   Round  Year                 Date  TotalGols  \n",
              "0     34  1977  1978-04-29 09:30:00         12  \n",
              "1     23  1976  1977-02-26 09:30:00         12  \n",
              "2     16  1971  1971-11-27 09:30:00         12  \n",
              "3     11  1963  1963-11-16 09:30:00         12  \n",
              "4     12  1982  1982-11-06 09:30:00         12  "
            ],
            "text/html": [
              "\n",
              "  <div id=\"df-2bc62c08-e634-45e6-8f53-970d92d5d55b\">\n",
              "    <div class=\"colab-df-container\">\n",
              "      <div>\n",
              "<style scoped>\n",
              "    .dataframe tbody tr th:only-of-type {\n",
              "        vertical-align: middle;\n",
              "    }\n",
              "\n",
              "    .dataframe tbody tr th {\n",
              "        vertical-align: top;\n",
              "    }\n",
              "\n",
              "    .dataframe thead th {\n",
              "        text-align: right;\n",
              "    }\n",
              "</style>\n",
              "<table border=\"1\" class=\"dataframe\">\n",
              "  <thead>\n",
              "    <tr style=\"text-align: right;\">\n",
              "      <th></th>\n",
              "      <th>HomeTeam</th>\n",
              "      <th>AwayTeam</th>\n",
              "      <th>HomeGoals</th>\n",
              "      <th>AwayGoals</th>\n",
              "      <th>Round</th>\n",
              "      <th>Year</th>\n",
              "      <th>Date</th>\n",
              "      <th>TotalGols</th>\n",
              "    </tr>\n",
              "  </thead>\n",
              "  <tbody>\n",
              "    <tr>\n",
              "      <th>0</th>\n",
              "      <td>Borussia Moenchengladbach</td>\n",
              "      <td>Borussia Dortmund</td>\n",
              "      <td>12</td>\n",
              "      <td>0</td>\n",
              "      <td>34</td>\n",
              "      <td>1977</td>\n",
              "      <td>1978-04-29 09:30:00</td>\n",
              "      <td>12</td>\n",
              "    </tr>\n",
              "    <tr>\n",
              "      <th>1</th>\n",
              "      <td>1. FC Koeln</td>\n",
              "      <td>Tennis Borussia Berlin</td>\n",
              "      <td>8</td>\n",
              "      <td>4</td>\n",
              "      <td>23</td>\n",
              "      <td>1976</td>\n",
              "      <td>1977-02-26 09:30:00</td>\n",
              "      <td>12</td>\n",
              "    </tr>\n",
              "    <tr>\n",
              "      <th>2</th>\n",
              "      <td>Bayern Muenchen</td>\n",
              "      <td>Borussia Dortmund</td>\n",
              "      <td>11</td>\n",
              "      <td>1</td>\n",
              "      <td>16</td>\n",
              "      <td>1971</td>\n",
              "      <td>1971-11-27 09:30:00</td>\n",
              "      <td>12</td>\n",
              "    </tr>\n",
              "    <tr>\n",
              "      <th>3</th>\n",
              "      <td>Borussia Dortmund</td>\n",
              "      <td>1. FC Kaiserslautern</td>\n",
              "      <td>9</td>\n",
              "      <td>3</td>\n",
              "      <td>11</td>\n",
              "      <td>1963</td>\n",
              "      <td>1963-11-16 09:30:00</td>\n",
              "      <td>12</td>\n",
              "    </tr>\n",
              "    <tr>\n",
              "      <th>4</th>\n",
              "      <td>Borussia Dortmund</td>\n",
              "      <td>Arminia Bielefeld</td>\n",
              "      <td>11</td>\n",
              "      <td>1</td>\n",
              "      <td>12</td>\n",
              "      <td>1982</td>\n",
              "      <td>1982-11-06 09:30:00</td>\n",
              "      <td>12</td>\n",
              "    </tr>\n",
              "  </tbody>\n",
              "</table>\n",
              "</div>\n",
              "      <button class=\"colab-df-convert\" onclick=\"convertToInteractive('df-2bc62c08-e634-45e6-8f53-970d92d5d55b')\"\n",
              "              title=\"Convert this dataframe to an interactive table.\"\n",
              "              style=\"display:none;\">\n",
              "        \n",
              "  <svg xmlns=\"http://www.w3.org/2000/svg\" height=\"24px\"viewBox=\"0 0 24 24\"\n",
              "       width=\"24px\">\n",
              "    <path d=\"M0 0h24v24H0V0z\" fill=\"none\"/>\n",
              "    <path d=\"M18.56 5.44l.94 2.06.94-2.06 2.06-.94-2.06-.94-.94-2.06-.94 2.06-2.06.94zm-11 1L8.5 8.5l.94-2.06 2.06-.94-2.06-.94L8.5 2.5l-.94 2.06-2.06.94zm10 10l.94 2.06.94-2.06 2.06-.94-2.06-.94-.94-2.06-.94 2.06-2.06.94z\"/><path d=\"M17.41 7.96l-1.37-1.37c-.4-.4-.92-.59-1.43-.59-.52 0-1.04.2-1.43.59L10.3 9.45l-7.72 7.72c-.78.78-.78 2.05 0 2.83L4 21.41c.39.39.9.59 1.41.59.51 0 1.02-.2 1.41-.59l7.78-7.78 2.81-2.81c.8-.78.8-2.07 0-2.86zM5.41 20L4 18.59l7.72-7.72 1.47 1.35L5.41 20z\"/>\n",
              "  </svg>\n",
              "      </button>\n",
              "      \n",
              "  <style>\n",
              "    .colab-df-container {\n",
              "      display:flex;\n",
              "      flex-wrap:wrap;\n",
              "      gap: 12px;\n",
              "    }\n",
              "\n",
              "    .colab-df-convert {\n",
              "      background-color: #E8F0FE;\n",
              "      border: none;\n",
              "      border-radius: 50%;\n",
              "      cursor: pointer;\n",
              "      display: none;\n",
              "      fill: #1967D2;\n",
              "      height: 32px;\n",
              "      padding: 0 0 0 0;\n",
              "      width: 32px;\n",
              "    }\n",
              "\n",
              "    .colab-df-convert:hover {\n",
              "      background-color: #E2EBFA;\n",
              "      box-shadow: 0px 1px 2px rgba(60, 64, 67, 0.3), 0px 1px 3px 1px rgba(60, 64, 67, 0.15);\n",
              "      fill: #174EA6;\n",
              "    }\n",
              "\n",
              "    [theme=dark] .colab-df-convert {\n",
              "      background-color: #3B4455;\n",
              "      fill: #D2E3FC;\n",
              "    }\n",
              "\n",
              "    [theme=dark] .colab-df-convert:hover {\n",
              "      background-color: #434B5C;\n",
              "      box-shadow: 0px 1px 3px 1px rgba(0, 0, 0, 0.15);\n",
              "      filter: drop-shadow(0px 1px 2px rgba(0, 0, 0, 0.3));\n",
              "      fill: #FFFFFF;\n",
              "    }\n",
              "  </style>\n",
              "\n",
              "      <script>\n",
              "        const buttonEl =\n",
              "          document.querySelector('#df-2bc62c08-e634-45e6-8f53-970d92d5d55b button.colab-df-convert');\n",
              "        buttonEl.style.display =\n",
              "          google.colab.kernel.accessAllowed ? 'block' : 'none';\n",
              "\n",
              "        async function convertToInteractive(key) {\n",
              "          const element = document.querySelector('#df-2bc62c08-e634-45e6-8f53-970d92d5d55b');\n",
              "          const dataTable =\n",
              "            await google.colab.kernel.invokeFunction('convertToInteractive',\n",
              "                                                     [key], {});\n",
              "          if (!dataTable) return;\n",
              "\n",
              "          const docLinkHtml = 'Like what you see? Visit the ' +\n",
              "            '<a target=\"_blank\" href=https://colab.research.google.com/notebooks/data_table.ipynb>data table notebook</a>'\n",
              "            + ' to learn more about interactive tables.';\n",
              "          element.innerHTML = '';\n",
              "          dataTable['output_type'] = 'display_data';\n",
              "          await google.colab.output.renderOutput(dataTable, element);\n",
              "          const docLink = document.createElement('div');\n",
              "          docLink.innerHTML = docLinkHtml;\n",
              "          element.appendChild(docLink);\n",
              "        }\n",
              "      </script>\n",
              "    </div>\n",
              "  </div>\n",
              "  "
            ]
          },
          "metadata": {},
          "execution_count": 50
        }
      ]
    },
    {
      "cell_type": "code",
      "source": [
        "df_fut_top5.info()"
      ],
      "metadata": {
        "colab": {
          "base_uri": "https://localhost:8080/"
        },
        "id": "l3qmIrI1fTd7",
        "outputId": "96f05764-cf9d-4e2f-aef7-9fc6a5d3370b"
      },
      "execution_count": null,
      "outputs": [
        {
          "output_type": "stream",
          "name": "stdout",
          "text": [
            "<class 'pandas.core.frame.DataFrame'>\n",
            "RangeIndex: 5 entries, 0 to 4\n",
            "Data columns (total 8 columns):\n",
            " #   Column     Non-Null Count  Dtype \n",
            "---  ------     --------------  ----- \n",
            " 0   HomeTeam   5 non-null      object\n",
            " 1   AwayTeam   5 non-null      object\n",
            " 2   HomeGoals  5 non-null      int64 \n",
            " 3   AwayGoals  5 non-null      int64 \n",
            " 4   Round      5 non-null      int64 \n",
            " 5   Year       5 non-null      int64 \n",
            " 6   Date       5 non-null      object\n",
            " 7   TotalGols  5 non-null      int64 \n",
            "dtypes: int64(5), object(3)\n",
            "memory usage: 448.0+ bytes\n"
          ]
        }
      ]
    },
    {
      "cell_type": "markdown",
      "source": [
        "💻 Também dá para fazer usando o *filtro* de jogos com número total de gols igual a 12\n",
        "```\n",
        "df[df['TotalGoals'] == 12] # filtra apenas as linhas onde TotalGols é igual a 12.\n",
        "```\n",
        "\n"
      ],
      "metadata": {
        "id": "YzpcB5LfCP8y"
      }
    },
    {
      "cell_type": "markdown",
      "source": [
        "![verde.png](data:image/png;base64,iVBORw0KGgoAAAANSUhEUgAABzwAAAAyCAIAAACmrzrWAAAAAXNSR0IArs4c6QAAAARnQU1BAACxjwv8YQUAAAAJcEhZcwAAEnQAABJ0Ad5mH3gAAAHeSURBVHhe7dqxaQNBEEDRO2UOVIw6UDGG03WoQD04dHo9OFCgwDJmi/iw7zGwMy18dr0fjwUAAAAAgIbTeAEAAAAACBBtAQAAAABCRFsAAAAAgBDRFgAAAAAgRLQFAAAAAAgRbQEAAAAAQkRbAAAAAIAQ0RYAAAAAIES0BQAAAAAIEW0BAAAAAEJEWwAAAACAENEWAAAAACBEtAUAAAAACBFtAQAAAABCRFsAAAAAgBDRFgAAAAAgRLQFAAAAAAgRbQEAAAAAQkRbAAAAAIAQ0RYAAAAAIES0BQAAAAAIEW0BAAAAAEJEWwAAAACAENEWAAAAACBEtAUAAAAACBFtAQAAAABCRFsAAAAAgBDRFgAAAAAgRLQFAAAAAAgRbQEAAAAAQkRbAAAAAIAQ0RYAAAAAIES0BQAAAAAIEW0BAAAAAEJEWwAAAKj4/X7drp9/M24ApiTaAgAAQMW+78e/cQMwJdEWAAAAKrZtGxsAE1vvx2OsAAAAQMDz6+fjch4HAPPx0xYAAABaFFuAyYm2AAAAAAAhoi0AAAAAQIhoCwAAAAAQItoCAAAAAISItgAAAAAAIaItAAAAAECIaAsAAAAAECLaAgAAAACEiLYAAAAAACGiLQAAAABAxrK8AQUIFOv/OByoAAAAAElFTkSuQmCC)\n",
        "\n",
        "### **3.** Informar a data, os times participantes e o placar dos jogos\n"
      ],
      "metadata": {
        "id": "7z6Ym6a4dE7A"
      }
    },
    {
      "cell_type": "markdown",
      "source": [
        " **Print das informações para o jornalista**\n",
        "\n",
        "* **Passo 5:** primeiro fizemos a alteração do formato da data para remover as horas e deixá-la mais no formato brasileiro. Utilizamos a função `pd.DatetimeIndex` e `strftime('%d/%m/%Y')`.\n",
        "* **Passo 6:** usamos a função loc[] buscando diretamente no dataframe as infos.\n",
        "\n",
        "* **Passo 7:** por último, utilizamos a função print para informar o jogo com maior número de gols.\n",
        "\n"
      ],
      "metadata": {
        "id": "ygMJMn-HcNbv"
      }
    },
    {
      "cell_type": "code",
      "source": [
        "#Passo 6\n",
        "df_fut_top5['Date'] = pd.DatetimeIndex(df_fut_top5['Date']).strftime('%d/%m/%Y')\n",
        "df_fut_top5.head()"
      ],
      "metadata": {
        "colab": {
          "base_uri": "https://localhost:8080/",
          "height": 206
        },
        "id": "gou184qVrEqJ",
        "outputId": "f7d7edd0-e755-404a-c647-ea53945084f9"
      },
      "execution_count": null,
      "outputs": [
        {
          "output_type": "execute_result",
          "data": {
            "text/plain": [
              "                    HomeTeam                AwayTeam  HomeGoals  AwayGoals  \\\n",
              "0  Borussia Moenchengladbach       Borussia Dortmund         12          0   \n",
              "1                1. FC Koeln  Tennis Borussia Berlin          8          4   \n",
              "2            Bayern Muenchen       Borussia Dortmund         11          1   \n",
              "3          Borussia Dortmund    1. FC Kaiserslautern          9          3   \n",
              "4          Borussia Dortmund       Arminia Bielefeld         11          1   \n",
              "\n",
              "   Round  Year        Date  TotalGols  \n",
              "0     34  1977  29/04/1978         12  \n",
              "1     23  1976  26/02/1977         12  \n",
              "2     16  1971  27/11/1971         12  \n",
              "3     11  1963  16/11/1963         12  \n",
              "4     12  1982  06/11/1982         12  "
            ],
            "text/html": [
              "\n",
              "  <div id=\"df-ad79a9f6-1375-4a9c-8d8b-892e4f4f8293\">\n",
              "    <div class=\"colab-df-container\">\n",
              "      <div>\n",
              "<style scoped>\n",
              "    .dataframe tbody tr th:only-of-type {\n",
              "        vertical-align: middle;\n",
              "    }\n",
              "\n",
              "    .dataframe tbody tr th {\n",
              "        vertical-align: top;\n",
              "    }\n",
              "\n",
              "    .dataframe thead th {\n",
              "        text-align: right;\n",
              "    }\n",
              "</style>\n",
              "<table border=\"1\" class=\"dataframe\">\n",
              "  <thead>\n",
              "    <tr style=\"text-align: right;\">\n",
              "      <th></th>\n",
              "      <th>HomeTeam</th>\n",
              "      <th>AwayTeam</th>\n",
              "      <th>HomeGoals</th>\n",
              "      <th>AwayGoals</th>\n",
              "      <th>Round</th>\n",
              "      <th>Year</th>\n",
              "      <th>Date</th>\n",
              "      <th>TotalGols</th>\n",
              "    </tr>\n",
              "  </thead>\n",
              "  <tbody>\n",
              "    <tr>\n",
              "      <th>0</th>\n",
              "      <td>Borussia Moenchengladbach</td>\n",
              "      <td>Borussia Dortmund</td>\n",
              "      <td>12</td>\n",
              "      <td>0</td>\n",
              "      <td>34</td>\n",
              "      <td>1977</td>\n",
              "      <td>29/04/1978</td>\n",
              "      <td>12</td>\n",
              "    </tr>\n",
              "    <tr>\n",
              "      <th>1</th>\n",
              "      <td>1. FC Koeln</td>\n",
              "      <td>Tennis Borussia Berlin</td>\n",
              "      <td>8</td>\n",
              "      <td>4</td>\n",
              "      <td>23</td>\n",
              "      <td>1976</td>\n",
              "      <td>26/02/1977</td>\n",
              "      <td>12</td>\n",
              "    </tr>\n",
              "    <tr>\n",
              "      <th>2</th>\n",
              "      <td>Bayern Muenchen</td>\n",
              "      <td>Borussia Dortmund</td>\n",
              "      <td>11</td>\n",
              "      <td>1</td>\n",
              "      <td>16</td>\n",
              "      <td>1971</td>\n",
              "      <td>27/11/1971</td>\n",
              "      <td>12</td>\n",
              "    </tr>\n",
              "    <tr>\n",
              "      <th>3</th>\n",
              "      <td>Borussia Dortmund</td>\n",
              "      <td>1. FC Kaiserslautern</td>\n",
              "      <td>9</td>\n",
              "      <td>3</td>\n",
              "      <td>11</td>\n",
              "      <td>1963</td>\n",
              "      <td>16/11/1963</td>\n",
              "      <td>12</td>\n",
              "    </tr>\n",
              "    <tr>\n",
              "      <th>4</th>\n",
              "      <td>Borussia Dortmund</td>\n",
              "      <td>Arminia Bielefeld</td>\n",
              "      <td>11</td>\n",
              "      <td>1</td>\n",
              "      <td>12</td>\n",
              "      <td>1982</td>\n",
              "      <td>06/11/1982</td>\n",
              "      <td>12</td>\n",
              "    </tr>\n",
              "  </tbody>\n",
              "</table>\n",
              "</div>\n",
              "      <button class=\"colab-df-convert\" onclick=\"convertToInteractive('df-ad79a9f6-1375-4a9c-8d8b-892e4f4f8293')\"\n",
              "              title=\"Convert this dataframe to an interactive table.\"\n",
              "              style=\"display:none;\">\n",
              "        \n",
              "  <svg xmlns=\"http://www.w3.org/2000/svg\" height=\"24px\"viewBox=\"0 0 24 24\"\n",
              "       width=\"24px\">\n",
              "    <path d=\"M0 0h24v24H0V0z\" fill=\"none\"/>\n",
              "    <path d=\"M18.56 5.44l.94 2.06.94-2.06 2.06-.94-2.06-.94-.94-2.06-.94 2.06-2.06.94zm-11 1L8.5 8.5l.94-2.06 2.06-.94-2.06-.94L8.5 2.5l-.94 2.06-2.06.94zm10 10l.94 2.06.94-2.06 2.06-.94-2.06-.94-.94-2.06-.94 2.06-2.06.94z\"/><path d=\"M17.41 7.96l-1.37-1.37c-.4-.4-.92-.59-1.43-.59-.52 0-1.04.2-1.43.59L10.3 9.45l-7.72 7.72c-.78.78-.78 2.05 0 2.83L4 21.41c.39.39.9.59 1.41.59.51 0 1.02-.2 1.41-.59l7.78-7.78 2.81-2.81c.8-.78.8-2.07 0-2.86zM5.41 20L4 18.59l7.72-7.72 1.47 1.35L5.41 20z\"/>\n",
              "  </svg>\n",
              "      </button>\n",
              "      \n",
              "  <style>\n",
              "    .colab-df-container {\n",
              "      display:flex;\n",
              "      flex-wrap:wrap;\n",
              "      gap: 12px;\n",
              "    }\n",
              "\n",
              "    .colab-df-convert {\n",
              "      background-color: #E8F0FE;\n",
              "      border: none;\n",
              "      border-radius: 50%;\n",
              "      cursor: pointer;\n",
              "      display: none;\n",
              "      fill: #1967D2;\n",
              "      height: 32px;\n",
              "      padding: 0 0 0 0;\n",
              "      width: 32px;\n",
              "    }\n",
              "\n",
              "    .colab-df-convert:hover {\n",
              "      background-color: #E2EBFA;\n",
              "      box-shadow: 0px 1px 2px rgba(60, 64, 67, 0.3), 0px 1px 3px 1px rgba(60, 64, 67, 0.15);\n",
              "      fill: #174EA6;\n",
              "    }\n",
              "\n",
              "    [theme=dark] .colab-df-convert {\n",
              "      background-color: #3B4455;\n",
              "      fill: #D2E3FC;\n",
              "    }\n",
              "\n",
              "    [theme=dark] .colab-df-convert:hover {\n",
              "      background-color: #434B5C;\n",
              "      box-shadow: 0px 1px 3px 1px rgba(0, 0, 0, 0.15);\n",
              "      filter: drop-shadow(0px 1px 2px rgba(0, 0, 0, 0.3));\n",
              "      fill: #FFFFFF;\n",
              "    }\n",
              "  </style>\n",
              "\n",
              "      <script>\n",
              "        const buttonEl =\n",
              "          document.querySelector('#df-ad79a9f6-1375-4a9c-8d8b-892e4f4f8293 button.colab-df-convert');\n",
              "        buttonEl.style.display =\n",
              "          google.colab.kernel.accessAllowed ? 'block' : 'none';\n",
              "\n",
              "        async function convertToInteractive(key) {\n",
              "          const element = document.querySelector('#df-ad79a9f6-1375-4a9c-8d8b-892e4f4f8293');\n",
              "          const dataTable =\n",
              "            await google.colab.kernel.invokeFunction('convertToInteractive',\n",
              "                                                     [key], {});\n",
              "          if (!dataTable) return;\n",
              "\n",
              "          const docLinkHtml = 'Like what you see? Visit the ' +\n",
              "            '<a target=\"_blank\" href=https://colab.research.google.com/notebooks/data_table.ipynb>data table notebook</a>'\n",
              "            + ' to learn more about interactive tables.';\n",
              "          element.innerHTML = '';\n",
              "          dataTable['output_type'] = 'display_data';\n",
              "          await google.colab.output.renderOutput(dataTable, element);\n",
              "          const docLink = document.createElement('div');\n",
              "          docLink.innerHTML = docLinkHtml;\n",
              "          element.appendChild(docLink);\n",
              "        }\n",
              "      </script>\n",
              "    </div>\n",
              "  </div>\n",
              "  "
            ]
          },
          "metadata": {},
          "execution_count": 54
        }
      ]
    },
    {
      "cell_type": "code",
      "source": [
        "df_fut_top5.info()"
      ],
      "metadata": {
        "colab": {
          "base_uri": "https://localhost:8080/"
        },
        "id": "_7qDXWrugiuI",
        "outputId": "5f98d312-fa2e-4507-f905-fdea6c02d3a6"
      },
      "execution_count": null,
      "outputs": [
        {
          "output_type": "stream",
          "name": "stdout",
          "text": [
            "<class 'pandas.core.frame.DataFrame'>\n",
            "RangeIndex: 5 entries, 0 to 4\n",
            "Data columns (total 8 columns):\n",
            " #   Column     Non-Null Count  Dtype         \n",
            "---  ------     --------------  -----         \n",
            " 0   HomeTeam   5 non-null      object        \n",
            " 1   AwayTeam   5 non-null      object        \n",
            " 2   HomeGoals  5 non-null      int64         \n",
            " 3   AwayGoals  5 non-null      int64         \n",
            " 4   Round      5 non-null      int64         \n",
            " 5   Year       5 non-null      int64         \n",
            " 6   Date       5 non-null      datetime64[ns]\n",
            " 7   TotalGols  5 non-null      int64         \n",
            "dtypes: datetime64[ns](1), int64(5), object(2)\n",
            "memory usage: 448.0+ bytes\n"
          ]
        }
      ]
    },
    {
      "cell_type": "code",
      "source": [
        "print('A maior quantidade de gols da história da Bundesliga foram 12 gols em uma partida. Nos seguintes jogos:')\n",
        "print()\n",
        "for indice in range(5):\n",
        "  contagem = str(indice + 1)\n",
        "  print(contagem + 'º ' + df_fut_top5.loc[indice,'HomeTeam'] +' vs ' + df_fut_top5.loc[indice,'AwayTeam'] +', no dia ' + df_fut_top5.loc[indice,'Date']\n",
        "        + ', com o placar '+ str(df_fut_top5.loc[indice,'HomeGoals'])+ ' a ' + str(df_fut_top5.loc[indice,'AwayGoals']))\n",
        "       \n"
      ],
      "metadata": {
        "colab": {
          "base_uri": "https://localhost:8080/"
        },
        "id": "QUPwVxCR0g8W",
        "outputId": "3b75e22a-859c-4534-bb28-fa5449f4912e"
      },
      "execution_count": null,
      "outputs": [
        {
          "output_type": "stream",
          "name": "stdout",
          "text": [
            "A maior quantidade de gols da história da Bundesliga foram 12 gols em uma partida. Nos seguintes jogos:\n",
            "\n",
            "1º Borussia Moenchengladbach vs Borussia Dortmund, no dia 29/04/1978, com o placar 12 a 0\n",
            "2º 1. FC Koeln vs Tennis Borussia Berlin, no dia 26/02/1977, com o placar 8 a 4\n",
            "3º Bayern Muenchen vs Borussia Dortmund, no dia 27/11/1971, com o placar 11 a 1\n",
            "4º Borussia Dortmund vs 1. FC Kaiserslautern, no dia 16/11/1963, com o placar 9 a 3\n",
            "5º Borussia Dortmund vs Arminia Bielefeld, no dia 06/11/1982, com o placar 11 a 1\n"
          ]
        }
      ]
    },
    {
      "cell_type": "markdown",
      "source": [
        "![verde.png](data:image/png;base64,iVBORw0KGgoAAAANSUhEUgAABzwAAAAyCAIAAACmrzrWAAAAAXNSR0IArs4c6QAAAARnQU1BAACxjwv8YQUAAAAJcEhZcwAAEnQAABJ0Ad5mH3gAAAHeSURBVHhe7dqxaQNBEEDRO2UOVIw6UDGG03WoQD04dHo9OFCgwDJmi/iw7zGwMy18dr0fjwUAAAAAgIbTeAEAAAAACBBtAQAAAABCRFsAAAAAgBDRFgAAAAAgRLQFAAAAAAgRbQEAAAAAQkRbAAAAAIAQ0RYAAAAAIES0BQAAAAAIEW0BAAAAAEJEWwAAAACAENEWAAAAACBEtAUAAAAACBFtAQAAAABCRFsAAAAAgBDRFgAAAAAgRLQFAAAAAAgRbQEAAAAAQkRbAAAAAIAQ0RYAAAAAIES0BQAAAAAIEW0BAAAAAEJEWwAAAACAENEWAAAAACBEtAUAAAAACBFtAQAAAABCRFsAAAAAgBDRFgAAAAAgRLQFAAAAAAgRbQEAAAAAQkRbAAAAAIAQ0RYAAAAAIES0BQAAAAAIEW0BAAAAAEJEWwAAAKj4/X7drp9/M24ApiTaAgAAQMW+78e/cQMwJdEWAAAAKrZtGxsAE1vvx2OsAAAAQMDz6+fjch4HAPPx0xYAAABaFFuAyYm2AAAAAAAhoi0AAAAAQIhoCwAAAAAQItoCAAAAAISItgAAAAAAIaItAAAAAECIaAsAAAAAECLaAgAAAACEiLYAAAAAACGiLQAAAABAxrK8AQUIFOv/OByoAAAAAElFTkSuQmCC)\n",
        "# **Organização do squad**"
      ],
      "metadata": {
        "id": "saVJumGJcJNw"
      }
    },
    {
      "cell_type": "markdown",
      "source": [
        "**2.** Explicar como a squad se organizou:\n",
        "- Criamos um Google Colab com todos exercícios. \n",
        "- Cada uma do time clonou o Colab e tentou resolver individualmente.\n",
        "- Fizemos uma reunião específica para o desafio 4.\n",
        "- Duas integrantes foram em mentorias para tentar resolver o exercício mais hard de todos os tempos, mais conhecido como 7.\n",
        "- Tivemos no total 5 reuniões para alinhar as resoluções, dividir os exercícios., responder o questionário do desafio e treinar a apresentação.\n",
        "\n",
        "**3.** As dificuldades e facilidades encontradas no desenvolvimento do desafio:\n",
        "\n",
        "\n",
        "**Dificuldades:**\n",
        "- Interpretação dos desafios ficou confusa.\n",
        "- Leitura do documentação do Pandas em inglês.\n",
        "- Buscar muitas fontes para tentar achar uma resolução.\n",
        "- Por mais que eu soubesse qual função utilizar ao usá-la em conjunto com outras funções não soube construir a lógica (passo a passo).\n",
        "\n",
        "**Facilidades:**\n",
        "- ChatGPT me ajudou bastante a resolver os exercícios.\n",
        "- A documentação do Pandas é bastante amigável.\n",
        "- Google Colab é uma ferramenta muito boa para o desenvolvimento dos exercícios.\n",
        "- Muitos materiais na internet."
      ],
      "metadata": {
        "id": "c4P6y40rEQt1"
      }
    }
  ]
}